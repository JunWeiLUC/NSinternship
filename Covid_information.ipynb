{
 "cells": [
  {
   "cell_type": "code",
   "execution_count": 1,
   "metadata": {
    "scrolled": true
   },
   "outputs": [
    {
     "name": "stderr",
     "output_type": "stream",
     "text": [
      "E:\\Anaconda3\\lib\\site-packages\\statsmodels\\tools\\_testing.py:19: FutureWarning: pandas.util.testing is deprecated. Use the functions in the public API at pandas.testing instead.\n",
      "  import pandas.util.testing as tm\n"
     ]
    }
   ],
   "source": [
    "import os\n",
    "import pandas as pd\n",
    "import seaborn as sns\n",
    "import matplotlib.pyplot as plt\n",
    "from matplotlib.gridspec import GridSpec\n",
    "import numpy as np\n",
    "import scipy.stats as stats "
   ]
  },
  {
   "cell_type": "code",
   "execution_count": 2,
   "metadata": {},
   "outputs": [],
   "source": [
    "#get covid test result\n",
    "df_covid=pd.read_table('../NSinternship/covid19_result_0806.by_eid')"
   ]
  },
  {
   "cell_type": "code",
   "execution_count": 3,
   "metadata": {},
   "outputs": [
    {
     "data": {
      "text/html": [
       "<div>\n",
       "<style scoped>\n",
       "    .dataframe tbody tr th:only-of-type {\n",
       "        vertical-align: middle;\n",
       "    }\n",
       "\n",
       "    .dataframe tbody tr th {\n",
       "        vertical-align: top;\n",
       "    }\n",
       "\n",
       "    .dataframe thead th {\n",
       "        text-align: right;\n",
       "    }\n",
       "</style>\n",
       "<table border=\"1\" class=\"dataframe\">\n",
       "  <thead>\n",
       "    <tr style=\"text-align: right;\">\n",
       "      <th></th>\n",
       "      <th>eid</th>\n",
       "      <th>#tests</th>\n",
       "      <th>#positive_test</th>\n",
       "      <th>final_result</th>\n",
       "      <th>final_date</th>\n",
       "    </tr>\n",
       "  </thead>\n",
       "  <tbody>\n",
       "    <tr>\n",
       "      <th>0</th>\n",
       "      <td>1000011</td>\n",
       "      <td>1</td>\n",
       "      <td>0</td>\n",
       "      <td>0</td>\n",
       "      <td>2020/05/11</td>\n",
       "    </tr>\n",
       "    <tr>\n",
       "      <th>1</th>\n",
       "      <td>1001244</td>\n",
       "      <td>1</td>\n",
       "      <td>0</td>\n",
       "      <td>0</td>\n",
       "      <td>2020/03/21</td>\n",
       "    </tr>\n",
       "    <tr>\n",
       "      <th>2</th>\n",
       "      <td>1001283</td>\n",
       "      <td>1</td>\n",
       "      <td>0</td>\n",
       "      <td>0</td>\n",
       "      <td>2020/06/02</td>\n",
       "    </tr>\n",
       "    <tr>\n",
       "      <th>3</th>\n",
       "      <td>1001505</td>\n",
       "      <td>2</td>\n",
       "      <td>0</td>\n",
       "      <td>0</td>\n",
       "      <td>2020/07/10</td>\n",
       "    </tr>\n",
       "    <tr>\n",
       "      <th>4</th>\n",
       "      <td>1001772</td>\n",
       "      <td>1</td>\n",
       "      <td>0</td>\n",
       "      <td>0</td>\n",
       "      <td>2020/05/08</td>\n",
       "    </tr>\n",
       "    <tr>\n",
       "      <th>...</th>\n",
       "      <td>...</td>\n",
       "      <td>...</td>\n",
       "      <td>...</td>\n",
       "      <td>...</td>\n",
       "      <td>...</td>\n",
       "    </tr>\n",
       "    <tr>\n",
       "      <th>13497</th>\n",
       "      <td>6021157</td>\n",
       "      <td>1</td>\n",
       "      <td>0</td>\n",
       "      <td>0</td>\n",
       "      <td>2020/03/27</td>\n",
       "    </tr>\n",
       "    <tr>\n",
       "      <th>13498</th>\n",
       "      <td>6022249</td>\n",
       "      <td>1</td>\n",
       "      <td>0</td>\n",
       "      <td>0</td>\n",
       "      <td>2020/07/10</td>\n",
       "    </tr>\n",
       "    <tr>\n",
       "      <th>13499</th>\n",
       "      <td>6022684</td>\n",
       "      <td>1</td>\n",
       "      <td>0</td>\n",
       "      <td>0</td>\n",
       "      <td>2020/05/26</td>\n",
       "    </tr>\n",
       "    <tr>\n",
       "      <th>13500</th>\n",
       "      <td>6023646</td>\n",
       "      <td>4</td>\n",
       "      <td>0</td>\n",
       "      <td>0</td>\n",
       "      <td>2020/07/06</td>\n",
       "    </tr>\n",
       "    <tr>\n",
       "      <th>13501</th>\n",
       "      <td>6023680</td>\n",
       "      <td>2</td>\n",
       "      <td>2</td>\n",
       "      <td>1</td>\n",
       "      <td>2020/04/10</td>\n",
       "    </tr>\n",
       "  </tbody>\n",
       "</table>\n",
       "<p>13502 rows × 5 columns</p>\n",
       "</div>"
      ],
      "text/plain": [
       "           eid  #tests  #positive_test  final_result  final_date\n",
       "0      1000011       1               0             0  2020/05/11\n",
       "1      1001244       1               0             0  2020/03/21\n",
       "2      1001283       1               0             0  2020/06/02\n",
       "3      1001505       2               0             0  2020/07/10\n",
       "4      1001772       1               0             0  2020/05/08\n",
       "...        ...     ...             ...           ...         ...\n",
       "13497  6021157       1               0             0  2020/03/27\n",
       "13498  6022249       1               0             0  2020/07/10\n",
       "13499  6022684       1               0             0  2020/05/26\n",
       "13500  6023646       4               0             0  2020/07/06\n",
       "13501  6023680       2               2             1  2020/04/10\n",
       "\n",
       "[13502 rows x 5 columns]"
      ]
     },
     "metadata": {},
     "output_type": "display_data"
    }
   ],
   "source": [
    "display(df_covid)"
   ]
  },
  {
   "cell_type": "code",
   "execution_count": 4,
   "metadata": {},
   "outputs": [],
   "source": [
    "#get all eids with covid positive test\n",
    "eid_positive=list(df_covid['eid'][df_covid['final_result']==1])"
   ]
  },
  {
   "cell_type": "code",
   "execution_count": 5,
   "metadata": {},
   "outputs": [
    {
     "data": {
      "text/plain": [
       "1650"
      ]
     },
     "execution_count": 5,
     "metadata": {},
     "output_type": "execute_result"
    }
   ],
   "source": [
    "#total number of subjects with covid positive results\n",
    "len(eid_positive)"
   ]
  },
  {
   "cell_type": "code",
   "execution_count": 6,
   "metadata": {},
   "outputs": [],
   "source": [
    "data = pd.read_csv(\"../NSinternship/Covid_information_20-08-18.csv\")"
   ]
  },
  {
   "cell_type": "code",
   "execution_count": 7,
   "metadata": {},
   "outputs": [
    {
     "data": {
      "text/html": [
       "<div>\n",
       "<style scoped>\n",
       "    .dataframe tbody tr th:only-of-type {\n",
       "        vertical-align: middle;\n",
       "    }\n",
       "\n",
       "    .dataframe tbody tr th {\n",
       "        vertical-align: top;\n",
       "    }\n",
       "\n",
       "    .dataframe thead th {\n",
       "        text-align: right;\n",
       "    }\n",
       "</style>\n",
       "<table border=\"1\" class=\"dataframe\">\n",
       "  <thead>\n",
       "    <tr style=\"text-align: right;\">\n",
       "      <th></th>\n",
       "      <th>eid</th>\n",
       "      <th>31-0.0</th>\n",
       "      <th>34-0.0</th>\n",
       "      <th>52-0.0</th>\n",
       "      <th>93-0.0</th>\n",
       "      <th>93-0.1</th>\n",
       "      <th>93-1.0</th>\n",
       "      <th>93-1.1</th>\n",
       "      <th>93-2.0</th>\n",
       "      <th>93-2.1</th>\n",
       "      <th>...</th>\n",
       "      <th>100025-0.0</th>\n",
       "      <th>100025-1.0</th>\n",
       "      <th>100025-2.0</th>\n",
       "      <th>100025-3.0</th>\n",
       "      <th>100025-4.0</th>\n",
       "      <th>104670-0.0</th>\n",
       "      <th>104670-1.0</th>\n",
       "      <th>104670-2.0</th>\n",
       "      <th>104670-3.0</th>\n",
       "      <th>104670-4.0</th>\n",
       "    </tr>\n",
       "  </thead>\n",
       "  <tbody>\n",
       "    <tr>\n",
       "      <th>0</th>\n",
       "      <td>1000011</td>\n",
       "      <td>0</td>\n",
       "      <td>1953</td>\n",
       "      <td>8</td>\n",
       "      <td>NaN</td>\n",
       "      <td>NaN</td>\n",
       "      <td>NaN</td>\n",
       "      <td>NaN</td>\n",
       "      <td>NaN</td>\n",
       "      <td>NaN</td>\n",
       "      <td>...</td>\n",
       "      <td>19.73</td>\n",
       "      <td>NaN</td>\n",
       "      <td>5.99</td>\n",
       "      <td>NaN</td>\n",
       "      <td>NaN</td>\n",
       "      <td>0.0</td>\n",
       "      <td>NaN</td>\n",
       "      <td>0.0</td>\n",
       "      <td>NaN</td>\n",
       "      <td>NaN</td>\n",
       "    </tr>\n",
       "    <tr>\n",
       "      <th>1</th>\n",
       "      <td>1001244</td>\n",
       "      <td>1</td>\n",
       "      <td>1940</td>\n",
       "      <td>1</td>\n",
       "      <td>NaN</td>\n",
       "      <td>NaN</td>\n",
       "      <td>NaN</td>\n",
       "      <td>NaN</td>\n",
       "      <td>NaN</td>\n",
       "      <td>NaN</td>\n",
       "      <td>...</td>\n",
       "      <td>NaN</td>\n",
       "      <td>16.87</td>\n",
       "      <td>NaN</td>\n",
       "      <td>NaN</td>\n",
       "      <td>NaN</td>\n",
       "      <td>NaN</td>\n",
       "      <td>1.0</td>\n",
       "      <td>NaN</td>\n",
       "      <td>NaN</td>\n",
       "      <td>NaN</td>\n",
       "    </tr>\n",
       "    <tr>\n",
       "      <th>2</th>\n",
       "      <td>1001283</td>\n",
       "      <td>1</td>\n",
       "      <td>1943</td>\n",
       "      <td>10</td>\n",
       "      <td>NaN</td>\n",
       "      <td>NaN</td>\n",
       "      <td>NaN</td>\n",
       "      <td>NaN</td>\n",
       "      <td>NaN</td>\n",
       "      <td>NaN</td>\n",
       "      <td>...</td>\n",
       "      <td>NaN</td>\n",
       "      <td>NaN</td>\n",
       "      <td>NaN</td>\n",
       "      <td>NaN</td>\n",
       "      <td>NaN</td>\n",
       "      <td>NaN</td>\n",
       "      <td>NaN</td>\n",
       "      <td>NaN</td>\n",
       "      <td>NaN</td>\n",
       "      <td>NaN</td>\n",
       "    </tr>\n",
       "    <tr>\n",
       "      <th>3</th>\n",
       "      <td>1001505</td>\n",
       "      <td>1</td>\n",
       "      <td>1952</td>\n",
       "      <td>5</td>\n",
       "      <td>150.0</td>\n",
       "      <td>144.0</td>\n",
       "      <td>NaN</td>\n",
       "      <td>NaN</td>\n",
       "      <td>NaN</td>\n",
       "      <td>NaN</td>\n",
       "      <td>...</td>\n",
       "      <td>NaN</td>\n",
       "      <td>NaN</td>\n",
       "      <td>NaN</td>\n",
       "      <td>NaN</td>\n",
       "      <td>NaN</td>\n",
       "      <td>NaN</td>\n",
       "      <td>NaN</td>\n",
       "      <td>NaN</td>\n",
       "      <td>NaN</td>\n",
       "      <td>NaN</td>\n",
       "    </tr>\n",
       "    <tr>\n",
       "      <th>4</th>\n",
       "      <td>1001772</td>\n",
       "      <td>1</td>\n",
       "      <td>1966</td>\n",
       "      <td>9</td>\n",
       "      <td>NaN</td>\n",
       "      <td>NaN</td>\n",
       "      <td>NaN</td>\n",
       "      <td>NaN</td>\n",
       "      <td>164.0</td>\n",
       "      <td>166.0</td>\n",
       "      <td>...</td>\n",
       "      <td>NaN</td>\n",
       "      <td>NaN</td>\n",
       "      <td>NaN</td>\n",
       "      <td>NaN</td>\n",
       "      <td>NaN</td>\n",
       "      <td>NaN</td>\n",
       "      <td>NaN</td>\n",
       "      <td>NaN</td>\n",
       "      <td>NaN</td>\n",
       "      <td>NaN</td>\n",
       "    </tr>\n",
       "  </tbody>\n",
       "</table>\n",
       "<p>5 rows × 264 columns</p>\n",
       "</div>"
      ],
      "text/plain": [
       "       eid  31-0.0  34-0.0  52-0.0  93-0.0  93-0.1  93-1.0  93-1.1  93-2.0  \\\n",
       "0  1000011       0    1953       8     NaN     NaN     NaN     NaN     NaN   \n",
       "1  1001244       1    1940       1     NaN     NaN     NaN     NaN     NaN   \n",
       "2  1001283       1    1943      10     NaN     NaN     NaN     NaN     NaN   \n",
       "3  1001505       1    1952       5   150.0   144.0     NaN     NaN     NaN   \n",
       "4  1001772       1    1966       9     NaN     NaN     NaN     NaN   164.0   \n",
       "\n",
       "   93-2.1  ...  100025-0.0  100025-1.0  100025-2.0  100025-3.0  100025-4.0  \\\n",
       "0     NaN  ...       19.73         NaN        5.99         NaN         NaN   \n",
       "1     NaN  ...         NaN       16.87         NaN         NaN         NaN   \n",
       "2     NaN  ...         NaN         NaN         NaN         NaN         NaN   \n",
       "3     NaN  ...         NaN         NaN         NaN         NaN         NaN   \n",
       "4   166.0  ...         NaN         NaN         NaN         NaN         NaN   \n",
       "\n",
       "   104670-0.0  104670-1.0  104670-2.0  104670-3.0  104670-4.0  \n",
       "0         0.0         NaN         0.0         NaN         NaN  \n",
       "1         NaN         1.0         NaN         NaN         NaN  \n",
       "2         NaN         NaN         NaN         NaN         NaN  \n",
       "3         NaN         NaN         NaN         NaN         NaN  \n",
       "4         NaN         NaN         NaN         NaN         NaN  \n",
       "\n",
       "[5 rows x 264 columns]"
      ]
     },
     "execution_count": 7,
     "metadata": {},
     "output_type": "execute_result"
    }
   ],
   "source": [
    "data.head()"
   ]
  },
  {
   "cell_type": "markdown",
   "metadata": {},
   "source": [
    "### Data Field 31: Sex"
   ]
  },
  {
   "cell_type": "code",
   "execution_count": 8,
   "metadata": {},
   "outputs": [
    {
     "data": {
      "text/html": [
       "<div>\n",
       "<style scoped>\n",
       "    .dataframe tbody tr th:only-of-type {\n",
       "        vertical-align: middle;\n",
       "    }\n",
       "\n",
       "    .dataframe tbody tr th {\n",
       "        vertical-align: top;\n",
       "    }\n",
       "\n",
       "    .dataframe thead th {\n",
       "        text-align: right;\n",
       "    }\n",
       "</style>\n",
       "<table border=\"1\" class=\"dataframe\">\n",
       "  <thead>\n",
       "    <tr style=\"text-align: right;\">\n",
       "      <th></th>\n",
       "      <th>eid</th>\n",
       "      <th>Sex</th>\n",
       "    </tr>\n",
       "  </thead>\n",
       "  <tbody>\n",
       "    <tr>\n",
       "      <th>0</th>\n",
       "      <td>1000011</td>\n",
       "      <td>0</td>\n",
       "    </tr>\n",
       "    <tr>\n",
       "      <th>1</th>\n",
       "      <td>1001244</td>\n",
       "      <td>1</td>\n",
       "    </tr>\n",
       "    <tr>\n",
       "      <th>2</th>\n",
       "      <td>1001283</td>\n",
       "      <td>1</td>\n",
       "    </tr>\n",
       "    <tr>\n",
       "      <th>3</th>\n",
       "      <td>1001505</td>\n",
       "      <td>1</td>\n",
       "    </tr>\n",
       "    <tr>\n",
       "      <th>4</th>\n",
       "      <td>1001772</td>\n",
       "      <td>1</td>\n",
       "    </tr>\n",
       "    <tr>\n",
       "      <th>...</th>\n",
       "      <td>...</td>\n",
       "      <td>...</td>\n",
       "    </tr>\n",
       "    <tr>\n",
       "      <th>13497</th>\n",
       "      <td>6021157</td>\n",
       "      <td>1</td>\n",
       "    </tr>\n",
       "    <tr>\n",
       "      <th>13498</th>\n",
       "      <td>6022249</td>\n",
       "      <td>1</td>\n",
       "    </tr>\n",
       "    <tr>\n",
       "      <th>13499</th>\n",
       "      <td>6022684</td>\n",
       "      <td>1</td>\n",
       "    </tr>\n",
       "    <tr>\n",
       "      <th>13500</th>\n",
       "      <td>6023646</td>\n",
       "      <td>1</td>\n",
       "    </tr>\n",
       "    <tr>\n",
       "      <th>13501</th>\n",
       "      <td>6023680</td>\n",
       "      <td>0</td>\n",
       "    </tr>\n",
       "  </tbody>\n",
       "</table>\n",
       "<p>13502 rows × 2 columns</p>\n",
       "</div>"
      ],
      "text/plain": [
       "           eid  Sex\n",
       "0      1000011    0\n",
       "1      1001244    1\n",
       "2      1001283    1\n",
       "3      1001505    1\n",
       "4      1001772    1\n",
       "...        ...  ...\n",
       "13497  6021157    1\n",
       "13498  6022249    1\n",
       "13499  6022684    1\n",
       "13500  6023646    1\n",
       "13501  6023680    0\n",
       "\n",
       "[13502 rows x 2 columns]"
      ]
     },
     "metadata": {},
     "output_type": "display_data"
    }
   ],
   "source": [
    "sex = data[['eid','31-0.0']]\n",
    "sex = sex.rename(columns = {'31-0.0': 'Sex'}, inplace = False)\n",
    "display(sex)"
   ]
  },
  {
   "cell_type": "code",
   "execution_count": 9,
   "metadata": {},
   "outputs": [
    {
     "name": "stdout",
     "output_type": "stream",
     "text": [
      "The percentage of male patients is 0.4870389571915272 and of female patients is 0.5129610428084728\n"
     ]
    }
   ],
   "source": [
    "male = sex['Sex'].astype(bool).sum(axis=0)/sex['Sex'].count()\n",
    "female = 1 - male\n",
    "print(\"The percentage of male patients is {} and of female patients is {}\".format(male, female))"
   ]
  },
  {
   "cell_type": "code",
   "execution_count": 10,
   "metadata": {},
   "outputs": [
    {
     "name": "stdout",
     "output_type": "stream",
     "text": [
      "The infection rage in male subject is 0.13108272506082724 and in female subjects is 0.11377418423332371\n"
     ]
    }
   ],
   "source": [
    "infectionRate_male=sex['eid'][sex['eid'].isin(eid_positive)][sex['Sex']==1].count()/sex['eid'][sex['Sex']==1].count()\n",
    "infectionRate_female=sex['eid'][sex['eid'].isin(eid_positive)][sex['Sex']==0].count()/sex['eid'][sex['Sex']==0].count()\n",
    "print(\"The infection rage in male subject is {} and in female subjects is {}\".format(infectionRate_male, infectionRate_female))"
   ]
  },
  {
   "cell_type": "code",
   "execution_count": 11,
   "metadata": {},
   "outputs": [
    {
     "name": "stdout",
     "output_type": "stream",
     "text": [
      "Gender\tpositive\tnegative\n",
      "Male\t862      \t5714\n",
      "feMale\t788      \t6138\n",
      "The odd ration of infection in male to infection in female is 1.1750807083501382 and p value is 0.002288659054526205\n"
     ]
    }
   ],
   "source": [
    "numberPositive_male=sex['eid'][sex['eid'].isin(eid_positive)][sex['Sex']==1].count()\n",
    "numberNegative_male=sex['eid'][~sex['eid'].isin(eid_positive)][sex['Sex']==1].count()\n",
    "numberPositive_female=sex['eid'][sex['eid'].isin(eid_positive)][sex['Sex']==0].count()\n",
    "numberNegative_female=sex['eid'][~sex['eid'].isin(eid_positive)][sex['Sex']==0].count()\n",
    "odd, p = stats.fisher_exact([[numberPositive_male, numberNegative_male], [numberPositive_female, numberNegative_female]])\n",
    "\n",
    "print('Gender\\tpositive\\tnegative')\n",
    "print('Male\\t{}      \\t{}'.format(numberPositive_male,numberNegative_male))\n",
    "print('feMale\\t{}      \\t{}'.format(numberPositive_female,numberNegative_female))\n",
    "print('The odd ration of infection in male to infection in female is {} and p value is {}'.format(odd,p))"
   ]
  },
  {
   "cell_type": "markdown",
   "metadata": {},
   "source": [
    "### Data Field 34: Age"
   ]
  },
  {
   "cell_type": "code",
   "execution_count": 12,
   "metadata": {},
   "outputs": [
    {
     "data": {
      "text/html": [
       "<div>\n",
       "<style scoped>\n",
       "    .dataframe tbody tr th:only-of-type {\n",
       "        vertical-align: middle;\n",
       "    }\n",
       "\n",
       "    .dataframe tbody tr th {\n",
       "        vertical-align: top;\n",
       "    }\n",
       "\n",
       "    .dataframe thead th {\n",
       "        text-align: right;\n",
       "    }\n",
       "</style>\n",
       "<table border=\"1\" class=\"dataframe\">\n",
       "  <thead>\n",
       "    <tr style=\"text-align: right;\">\n",
       "      <th></th>\n",
       "      <th>eid</th>\n",
       "      <th>Year</th>\n",
       "      <th>Month</th>\n",
       "    </tr>\n",
       "  </thead>\n",
       "  <tbody>\n",
       "    <tr>\n",
       "      <th>0</th>\n",
       "      <td>1000011</td>\n",
       "      <td>1953</td>\n",
       "      <td>8</td>\n",
       "    </tr>\n",
       "    <tr>\n",
       "      <th>1</th>\n",
       "      <td>1001244</td>\n",
       "      <td>1940</td>\n",
       "      <td>1</td>\n",
       "    </tr>\n",
       "    <tr>\n",
       "      <th>2</th>\n",
       "      <td>1001283</td>\n",
       "      <td>1943</td>\n",
       "      <td>10</td>\n",
       "    </tr>\n",
       "    <tr>\n",
       "      <th>3</th>\n",
       "      <td>1001505</td>\n",
       "      <td>1952</td>\n",
       "      <td>5</td>\n",
       "    </tr>\n",
       "    <tr>\n",
       "      <th>4</th>\n",
       "      <td>1001772</td>\n",
       "      <td>1966</td>\n",
       "      <td>9</td>\n",
       "    </tr>\n",
       "    <tr>\n",
       "      <th>...</th>\n",
       "      <td>...</td>\n",
       "      <td>...</td>\n",
       "      <td>...</td>\n",
       "    </tr>\n",
       "    <tr>\n",
       "      <th>13497</th>\n",
       "      <td>6021157</td>\n",
       "      <td>1940</td>\n",
       "      <td>1</td>\n",
       "    </tr>\n",
       "    <tr>\n",
       "      <th>13498</th>\n",
       "      <td>6022249</td>\n",
       "      <td>1958</td>\n",
       "      <td>3</td>\n",
       "    </tr>\n",
       "    <tr>\n",
       "      <th>13499</th>\n",
       "      <td>6022684</td>\n",
       "      <td>1965</td>\n",
       "      <td>3</td>\n",
       "    </tr>\n",
       "    <tr>\n",
       "      <th>13500</th>\n",
       "      <td>6023646</td>\n",
       "      <td>1942</td>\n",
       "      <td>7</td>\n",
       "    </tr>\n",
       "    <tr>\n",
       "      <th>13501</th>\n",
       "      <td>6023680</td>\n",
       "      <td>1954</td>\n",
       "      <td>3</td>\n",
       "    </tr>\n",
       "  </tbody>\n",
       "</table>\n",
       "<p>13502 rows × 3 columns</p>\n",
       "</div>"
      ],
      "text/plain": [
       "           eid  Year  Month\n",
       "0      1000011  1953      8\n",
       "1      1001244  1940      1\n",
       "2      1001283  1943     10\n",
       "3      1001505  1952      5\n",
       "4      1001772  1966      9\n",
       "...        ...   ...    ...\n",
       "13497  6021157  1940      1\n",
       "13498  6022249  1958      3\n",
       "13499  6022684  1965      3\n",
       "13500  6023646  1942      7\n",
       "13501  6023680  1954      3\n",
       "\n",
       "[13502 rows x 3 columns]"
      ]
     },
     "metadata": {},
     "output_type": "display_data"
    }
   ],
   "source": [
    "bday = data[['eid','34-0.0', '52-0.0']]\n",
    "bday = bday.rename(columns = {'34-0.0': 'Year', '52-0.0': 'Month'}, inplace = False)\n",
    "display(bday)"
   ]
  },
  {
   "cell_type": "code",
   "execution_count": 13,
   "metadata": {},
   "outputs": [
    {
     "data": {
      "text/html": [
       "<div>\n",
       "<style scoped>\n",
       "    .dataframe tbody tr th:only-of-type {\n",
       "        vertical-align: middle;\n",
       "    }\n",
       "\n",
       "    .dataframe tbody tr th {\n",
       "        vertical-align: top;\n",
       "    }\n",
       "\n",
       "    .dataframe thead th {\n",
       "        text-align: right;\n",
       "    }\n",
       "</style>\n",
       "<table border=\"1\" class=\"dataframe\">\n",
       "  <thead>\n",
       "    <tr style=\"text-align: right;\">\n",
       "      <th></th>\n",
       "      <th>eid</th>\n",
       "      <th>Year</th>\n",
       "      <th>Month</th>\n",
       "      <th>Date</th>\n",
       "    </tr>\n",
       "  </thead>\n",
       "  <tbody>\n",
       "    <tr>\n",
       "      <th>0</th>\n",
       "      <td>1000011</td>\n",
       "      <td>1953</td>\n",
       "      <td>8</td>\n",
       "      <td>1953-08-01</td>\n",
       "    </tr>\n",
       "    <tr>\n",
       "      <th>1</th>\n",
       "      <td>1001244</td>\n",
       "      <td>1940</td>\n",
       "      <td>1</td>\n",
       "      <td>1940-01-01</td>\n",
       "    </tr>\n",
       "    <tr>\n",
       "      <th>2</th>\n",
       "      <td>1001283</td>\n",
       "      <td>1943</td>\n",
       "      <td>10</td>\n",
       "      <td>1943-10-01</td>\n",
       "    </tr>\n",
       "    <tr>\n",
       "      <th>3</th>\n",
       "      <td>1001505</td>\n",
       "      <td>1952</td>\n",
       "      <td>5</td>\n",
       "      <td>1952-05-01</td>\n",
       "    </tr>\n",
       "    <tr>\n",
       "      <th>4</th>\n",
       "      <td>1001772</td>\n",
       "      <td>1966</td>\n",
       "      <td>9</td>\n",
       "      <td>1966-09-01</td>\n",
       "    </tr>\n",
       "    <tr>\n",
       "      <th>...</th>\n",
       "      <td>...</td>\n",
       "      <td>...</td>\n",
       "      <td>...</td>\n",
       "      <td>...</td>\n",
       "    </tr>\n",
       "    <tr>\n",
       "      <th>13497</th>\n",
       "      <td>6021157</td>\n",
       "      <td>1940</td>\n",
       "      <td>1</td>\n",
       "      <td>1940-01-01</td>\n",
       "    </tr>\n",
       "    <tr>\n",
       "      <th>13498</th>\n",
       "      <td>6022249</td>\n",
       "      <td>1958</td>\n",
       "      <td>3</td>\n",
       "      <td>1958-03-01</td>\n",
       "    </tr>\n",
       "    <tr>\n",
       "      <th>13499</th>\n",
       "      <td>6022684</td>\n",
       "      <td>1965</td>\n",
       "      <td>3</td>\n",
       "      <td>1965-03-01</td>\n",
       "    </tr>\n",
       "    <tr>\n",
       "      <th>13500</th>\n",
       "      <td>6023646</td>\n",
       "      <td>1942</td>\n",
       "      <td>7</td>\n",
       "      <td>1942-07-01</td>\n",
       "    </tr>\n",
       "    <tr>\n",
       "      <th>13501</th>\n",
       "      <td>6023680</td>\n",
       "      <td>1954</td>\n",
       "      <td>3</td>\n",
       "      <td>1954-03-01</td>\n",
       "    </tr>\n",
       "  </tbody>\n",
       "</table>\n",
       "<p>13502 rows × 4 columns</p>\n",
       "</div>"
      ],
      "text/plain": [
       "           eid  Year  Month       Date\n",
       "0      1000011  1953      8 1953-08-01\n",
       "1      1001244  1940      1 1940-01-01\n",
       "2      1001283  1943     10 1943-10-01\n",
       "3      1001505  1952      5 1952-05-01\n",
       "4      1001772  1966      9 1966-09-01\n",
       "...        ...   ...    ...        ...\n",
       "13497  6021157  1940      1 1940-01-01\n",
       "13498  6022249  1958      3 1958-03-01\n",
       "13499  6022684  1965      3 1965-03-01\n",
       "13500  6023646  1942      7 1942-07-01\n",
       "13501  6023680  1954      3 1954-03-01\n",
       "\n",
       "[13502 rows x 4 columns]"
      ]
     },
     "metadata": {},
     "output_type": "display_data"
    }
   ],
   "source": [
    "bday['Date'] = pd.to_datetime(bday[['Year', 'Month']].assign(DAY=1)) # ignoring the date and default as 1\n",
    "display(bday)"
   ]
  },
  {
   "cell_type": "code",
   "execution_count": 14,
   "metadata": {},
   "outputs": [
    {
     "data": {
      "text/html": [
       "<div>\n",
       "<style scoped>\n",
       "    .dataframe tbody tr th:only-of-type {\n",
       "        vertical-align: middle;\n",
       "    }\n",
       "\n",
       "    .dataframe tbody tr th {\n",
       "        vertical-align: top;\n",
       "    }\n",
       "\n",
       "    .dataframe thead th {\n",
       "        text-align: right;\n",
       "    }\n",
       "</style>\n",
       "<table border=\"1\" class=\"dataframe\">\n",
       "  <thead>\n",
       "    <tr style=\"text-align: right;\">\n",
       "      <th></th>\n",
       "      <th>eid</th>\n",
       "      <th>Year</th>\n",
       "      <th>Month</th>\n",
       "      <th>Date</th>\n",
       "      <th>Age</th>\n",
       "    </tr>\n",
       "  </thead>\n",
       "  <tbody>\n",
       "    <tr>\n",
       "      <th>0</th>\n",
       "      <td>1000011</td>\n",
       "      <td>1953</td>\n",
       "      <td>8</td>\n",
       "      <td>1953-08-01</td>\n",
       "      <td>67</td>\n",
       "    </tr>\n",
       "    <tr>\n",
       "      <th>1</th>\n",
       "      <td>1001244</td>\n",
       "      <td>1940</td>\n",
       "      <td>1</td>\n",
       "      <td>1940-01-01</td>\n",
       "      <td>80</td>\n",
       "    </tr>\n",
       "    <tr>\n",
       "      <th>2</th>\n",
       "      <td>1001283</td>\n",
       "      <td>1943</td>\n",
       "      <td>10</td>\n",
       "      <td>1943-10-01</td>\n",
       "      <td>77</td>\n",
       "    </tr>\n",
       "    <tr>\n",
       "      <th>3</th>\n",
       "      <td>1001505</td>\n",
       "      <td>1952</td>\n",
       "      <td>5</td>\n",
       "      <td>1952-05-01</td>\n",
       "      <td>68</td>\n",
       "    </tr>\n",
       "    <tr>\n",
       "      <th>4</th>\n",
       "      <td>1001772</td>\n",
       "      <td>1966</td>\n",
       "      <td>9</td>\n",
       "      <td>1966-09-01</td>\n",
       "      <td>54</td>\n",
       "    </tr>\n",
       "    <tr>\n",
       "      <th>...</th>\n",
       "      <td>...</td>\n",
       "      <td>...</td>\n",
       "      <td>...</td>\n",
       "      <td>...</td>\n",
       "      <td>...</td>\n",
       "    </tr>\n",
       "    <tr>\n",
       "      <th>13497</th>\n",
       "      <td>6021157</td>\n",
       "      <td>1940</td>\n",
       "      <td>1</td>\n",
       "      <td>1940-01-01</td>\n",
       "      <td>80</td>\n",
       "    </tr>\n",
       "    <tr>\n",
       "      <th>13498</th>\n",
       "      <td>6022249</td>\n",
       "      <td>1958</td>\n",
       "      <td>3</td>\n",
       "      <td>1958-03-01</td>\n",
       "      <td>62</td>\n",
       "    </tr>\n",
       "    <tr>\n",
       "      <th>13499</th>\n",
       "      <td>6022684</td>\n",
       "      <td>1965</td>\n",
       "      <td>3</td>\n",
       "      <td>1965-03-01</td>\n",
       "      <td>55</td>\n",
       "    </tr>\n",
       "    <tr>\n",
       "      <th>13500</th>\n",
       "      <td>6023646</td>\n",
       "      <td>1942</td>\n",
       "      <td>7</td>\n",
       "      <td>1942-07-01</td>\n",
       "      <td>78</td>\n",
       "    </tr>\n",
       "    <tr>\n",
       "      <th>13501</th>\n",
       "      <td>6023680</td>\n",
       "      <td>1954</td>\n",
       "      <td>3</td>\n",
       "      <td>1954-03-01</td>\n",
       "      <td>66</td>\n",
       "    </tr>\n",
       "  </tbody>\n",
       "</table>\n",
       "<p>13502 rows × 5 columns</p>\n",
       "</div>"
      ],
      "text/plain": [
       "           eid  Year  Month        Date  Age\n",
       "0      1000011  1953      8  1953-08-01   67\n",
       "1      1001244  1940      1  1940-01-01   80\n",
       "2      1001283  1943     10  1943-10-01   77\n",
       "3      1001505  1952      5  1952-05-01   68\n",
       "4      1001772  1966      9  1966-09-01   54\n",
       "...        ...   ...    ...         ...  ...\n",
       "13497  6021157  1940      1  1940-01-01   80\n",
       "13498  6022249  1958      3  1958-03-01   62\n",
       "13499  6022684  1965      3  1965-03-01   55\n",
       "13500  6023646  1942      7  1942-07-01   78\n",
       "13501  6023680  1954      3  1954-03-01   66\n",
       "\n",
       "[13502 rows x 5 columns]"
      ]
     },
     "metadata": {},
     "output_type": "display_data"
    }
   ],
   "source": [
    "from datetime import datetime\n",
    "from datetime import date\n",
    "\n",
    "def calculate_age(birth):\n",
    "    birth = datetime.strptime(birth, \"%Y-%m-%d\").date()\n",
    "    today = date.today()\n",
    "    if birth.month > today.month:\n",
    "        age = today.year - birth.year - 1\n",
    "    else: \n",
    "        age = today.year - birth.year\n",
    "    return age\n",
    "\n",
    "bday['Date'] = bday.Date.dt.strftime(\"%Y-%m-%d\")\n",
    "bday['Age'] = bday['Date'].apply(calculate_age)\n",
    "display(bday)"
   ]
  },
  {
   "cell_type": "code",
   "execution_count": 15,
   "metadata": {},
   "outputs": [
    {
     "data": {
      "text/plain": [
       "69.47148570582137"
      ]
     },
     "execution_count": 15,
     "metadata": {},
     "output_type": "execute_result"
    }
   ],
   "source": [
    "np.average(bday['Age'])"
   ]
  },
  {
   "cell_type": "code",
   "execution_count": 16,
   "metadata": {},
   "outputs": [
    {
     "name": "stdout",
     "output_type": "stream",
     "text": [
      "The average age of all the patients is 69.47148570582137\n",
      "The average age of covid positive patients is 67.88181818181818\n",
      "The average age of covid negative patients is 69.69279446506918\n"
     ]
    },
    {
     "data": {
      "image/png": "[encoded data removed]",
      "text/plain": [
       "<Figure size 432x288 with 1 Axes>"
      ]
     },
     "metadata": {
      "needs_background": "light"
     },
     "output_type": "display_data"
    },
    {
     "data": {
      "text/plain": [
       "<Figure size 432x288 with 0 Axes>"
      ]
     },
     "metadata": {},
     "output_type": "display_data"
    }
   ],
   "source": [
    "print(\"The average age of all the patients is {}\".format(np.average(bday['Age'])))\n",
    "print(\"The average age of covid positive patients is {}\".format(np.average(bday['Age'][bday['eid'].isin(eid_positive)])))\n",
    "print(\"The average age of covid negative patients is {}\".format(np.average(bday['Age'][~bday['eid'].isin(eid_positive)])))\n",
    "ax=sns.distplot(bday['Age'],label='all',hist=False)\n",
    "ax=sns.distplot(bday['Age'][bday['eid'].isin(eid_positive)], color='red',label='positive',hist=True)\n",
    "ax=sns.distplot(bday['Age'][~bday['eid'].isin(eid_positive)],color='blue',label='negative',hist=True)\n",
    "legend = ax.legend(loc='upper left', shadow=True, fontsize='x-large')\n",
    "\n",
    "plt.show()\n",
    "plt.savefig(\"Covid_information_age_distribution.png\")\n",
    "# From the plot, the patients' ages are mostly centered around 70-80."
   ]
  },
  {
   "cell_type": "code",
   "execution_count": 17,
   "metadata": {},
   "outputs": [
    {
     "name": "stdout",
     "output_type": "stream",
     "text": [
      "Age\tpositive\tnegative\n",
      "<60\t430     \t1854\n",
      "60-70\t406     \t3107\n",
      ">=70\t814     \t6891\n",
      "The odd ration of infection at the age <60 to infection at the age 60-70 is 1.7749002290348121 and p value is 2.8027541592486503e-14\n",
      "The odd ration of infection at the age >70 to infection at the age 60-70 is 0.9039769871889728 and p value is 0.12432944458042736\n"
     ]
    }
   ],
   "source": [
    "#compare infection rate in different decades (divided into three grups, <60, 60-70, >=70)\n",
    "numberPositive_less60=bday['Age'][bday['eid'].isin(eid_positive)][bday['Age']<60].count()\n",
    "numberNegative_less60=bday['Age'][~bday['eid'].isin(eid_positive)][bday['Age']<60].count()\n",
    "numberPositive_less70=bday['Age'][bday['eid'].isin(eid_positive)][(bday['Age']>=60) & (bday['Age']<70)].count()\n",
    "numberNegative_less70=bday['Age'][~bday['eid'].isin(eid_positive)][(bday['Age']>=60) & (bday['Age']<70)].count()\n",
    "numberPositive_above70=bday['Age'][bday['eid'].isin(eid_positive)][bday['Age']>=70].count()\n",
    "numberNegative_above70=bday['Age'][~bday['eid'].isin(eid_positive)][bday['Age']>=70].count()\n",
    "\n",
    "print('Age\\tpositive\\tnegative')\n",
    "print('<60\\t{}     \\t{}'.format(numberPositive_less60,numberNegative_less60))\n",
    "print('60-70\\t{}     \\t{}'.format(numberPositive_less70,numberNegative_less70))\n",
    "print('>=70\\t{}     \\t{}'.format(numberPositive_above70,numberNegative_above70))\n",
    "\n",
    "#odd and p compare to middle group (age between 60 and 70)\n",
    "odd, p = stats.fisher_exact([[numberPositive_less60, numberNegative_less60], [numberPositive_less70, numberNegative_less70]])\n",
    "print('The odd ration of infection at the age <60 to infection at the age 60-70 is {} and p value is {}'.format(odd,p))\n",
    "\n",
    "odd, p = stats.fisher_exact([[numberPositive_above70, numberNegative_above70], [numberPositive_less70, numberNegative_less70]])\n",
    "print('The odd ration of infection at the age >70 to infection at the age 60-70 is {} and p value is {}'.format(odd,p))\n"
   ]
  },
  {
   "cell_type": "markdown",
   "metadata": {},
   "source": [
    "### Data Field 21001: Body mass index (BMI)"
   ]
  },
  {
   "cell_type": "code",
   "execution_count": 18,
   "metadata": {},
   "outputs": [
    {
     "data": {
      "text/plain": [
       "['eid', '21001-0.0', '21001-1.0', '21001-2.0', '21001-3.0']"
      ]
     },
     "execution_count": 18,
     "metadata": {},
     "output_type": "execute_result"
    }
   ],
   "source": [
    "filter_col21001 = [col for col in data if col.startswith('21001')]\n",
    "filter_col21001.insert(0, 'eid')\n",
    "filter_col21001"
   ]
  },
  {
   "cell_type": "code",
   "execution_count": 19,
   "metadata": {},
   "outputs": [
    {
     "data": {
      "text/html": [
       "<div>\n",
       "<style scoped>\n",
       "    .dataframe tbody tr th:only-of-type {\n",
       "        vertical-align: middle;\n",
       "    }\n",
       "\n",
       "    .dataframe tbody tr th {\n",
       "        vertical-align: top;\n",
       "    }\n",
       "\n",
       "    .dataframe thead th {\n",
       "        text-align: right;\n",
       "    }\n",
       "</style>\n",
       "<table border=\"1\" class=\"dataframe\">\n",
       "  <thead>\n",
       "    <tr style=\"text-align: right;\">\n",
       "      <th></th>\n",
       "      <th>eid</th>\n",
       "      <th>Instance 0</th>\n",
       "      <th>Instance 1</th>\n",
       "      <th>Instance 2</th>\n",
       "      <th>Instance 3</th>\n",
       "    </tr>\n",
       "  </thead>\n",
       "  <tbody>\n",
       "    <tr>\n",
       "      <th>0</th>\n",
       "      <td>1000011</td>\n",
       "      <td>27.7381</td>\n",
       "      <td>NaN</td>\n",
       "      <td>NaN</td>\n",
       "      <td>NaN</td>\n",
       "    </tr>\n",
       "    <tr>\n",
       "      <th>1</th>\n",
       "      <td>1001244</td>\n",
       "      <td>24.8356</td>\n",
       "      <td>NaN</td>\n",
       "      <td>NaN</td>\n",
       "      <td>NaN</td>\n",
       "    </tr>\n",
       "    <tr>\n",
       "      <th>2</th>\n",
       "      <td>1001283</td>\n",
       "      <td>32.3028</td>\n",
       "      <td>NaN</td>\n",
       "      <td>NaN</td>\n",
       "      <td>NaN</td>\n",
       "    </tr>\n",
       "    <tr>\n",
       "      <th>3</th>\n",
       "      <td>1001505</td>\n",
       "      <td>28.4485</td>\n",
       "      <td>NaN</td>\n",
       "      <td>NaN</td>\n",
       "      <td>NaN</td>\n",
       "    </tr>\n",
       "    <tr>\n",
       "      <th>4</th>\n",
       "      <td>1001772</td>\n",
       "      <td>27.2527</td>\n",
       "      <td>NaN</td>\n",
       "      <td>28.2183</td>\n",
       "      <td>NaN</td>\n",
       "    </tr>\n",
       "    <tr>\n",
       "      <th>...</th>\n",
       "      <td>...</td>\n",
       "      <td>...</td>\n",
       "      <td>...</td>\n",
       "      <td>...</td>\n",
       "      <td>...</td>\n",
       "    </tr>\n",
       "    <tr>\n",
       "      <th>13497</th>\n",
       "      <td>6021157</td>\n",
       "      <td>30.0692</td>\n",
       "      <td>NaN</td>\n",
       "      <td>NaN</td>\n",
       "      <td>NaN</td>\n",
       "    </tr>\n",
       "    <tr>\n",
       "      <th>13498</th>\n",
       "      <td>6022249</td>\n",
       "      <td>23.9198</td>\n",
       "      <td>NaN</td>\n",
       "      <td>NaN</td>\n",
       "      <td>NaN</td>\n",
       "    </tr>\n",
       "    <tr>\n",
       "      <th>13499</th>\n",
       "      <td>6022684</td>\n",
       "      <td>21.0220</td>\n",
       "      <td>NaN</td>\n",
       "      <td>20.6824</td>\n",
       "      <td>NaN</td>\n",
       "    </tr>\n",
       "    <tr>\n",
       "      <th>13500</th>\n",
       "      <td>6023646</td>\n",
       "      <td>30.0617</td>\n",
       "      <td>NaN</td>\n",
       "      <td>NaN</td>\n",
       "      <td>NaN</td>\n",
       "    </tr>\n",
       "    <tr>\n",
       "      <th>13501</th>\n",
       "      <td>6023680</td>\n",
       "      <td>24.0766</td>\n",
       "      <td>NaN</td>\n",
       "      <td>NaN</td>\n",
       "      <td>NaN</td>\n",
       "    </tr>\n",
       "  </tbody>\n",
       "</table>\n",
       "<p>13502 rows × 5 columns</p>\n",
       "</div>"
      ],
      "text/plain": [
       "           eid  Instance 0  Instance 1  Instance 2  Instance 3\n",
       "0      1000011     27.7381         NaN         NaN         NaN\n",
       "1      1001244     24.8356         NaN         NaN         NaN\n",
       "2      1001283     32.3028         NaN         NaN         NaN\n",
       "3      1001505     28.4485         NaN         NaN         NaN\n",
       "4      1001772     27.2527         NaN     28.2183         NaN\n",
       "...        ...         ...         ...         ...         ...\n",
       "13497  6021157     30.0692         NaN         NaN         NaN\n",
       "13498  6022249     23.9198         NaN         NaN         NaN\n",
       "13499  6022684     21.0220         NaN     20.6824         NaN\n",
       "13500  6023646     30.0617         NaN         NaN         NaN\n",
       "13501  6023680     24.0766         NaN         NaN         NaN\n",
       "\n",
       "[13502 rows x 5 columns]"
      ]
     },
     "metadata": {},
     "output_type": "display_data"
    }
   ],
   "source": [
    "bmi = data[filter_col21001]\n",
    "bmi = bmi.rename(columns = {'21001-0.0': 'Instance 0', '21001-1.0': 'Instance 1', '21001-2.0' : 'Instance 2', '21001-3.0' : 'Instance 3'}, inplace = False)\n",
    "display(bmi)"
   ]
  },
  {
   "cell_type": "markdown",
   "metadata": {},
   "source": [
    "#### Set a standard for overweight"
   ]
  },
  {
   "cell_type": "code",
   "execution_count": 20,
   "metadata": {},
   "outputs": [],
   "source": [
    "overweight = 25\n",
    "obese = 30\n",
    "underweight = 18.5"
   ]
  },
  {
   "cell_type": "code",
   "execution_count": 21,
   "metadata": {},
   "outputs": [],
   "source": [
    "ob = bmi['Instance 0'] > obese\n",
    "ow = bmi['Instance 0'] > overweight\n",
    "uw = bmi['Instance 0'] < underweight"
   ]
  },
  {
   "cell_type": "code",
   "execution_count": 22,
   "metadata": {},
   "outputs": [
    {
     "name": "stdout",
     "output_type": "stream",
     "text": [
      "The percentage of obese patients, overweight patients and underweight patients are respectively 0.30736416704086217, 0.41386020056877715 and 0.005014219428229307; The percentage of normal weighted patients is only 0.2737614129621313.\n"
     ]
    }
   ],
   "source": [
    "obcount = ob.sum()/bmi['Instance 0'].count()\n",
    "owcount = (ow.sum() - ob.sum())/bmi['Instance 0'].count()\n",
    "uwcount = uw.sum()/bmi['Instance 0'].count()\n",
    "normal = 1 - obcount - owcount - uwcount\n",
    "\n",
    "print(\"The percentage of obese patients, overweight patients and underweight patients are respectively {}, {} and {}; The percentage of normal weighted patients is only {}.\".format(obcount, owcount, uwcount, normal))"
   ]
  },
  {
   "cell_type": "code",
   "execution_count": 23,
   "metadata": {},
   "outputs": [
    {
     "data": {
      "image/png": "[encoded data removed]",
      "text/plain": [
       "<Figure size 432x288 with 1 Axes>"
      ]
     },
     "metadata": {
      "needs_background": "light"
     },
     "output_type": "display_data"
    }
   ],
   "source": [
    "fig = plt.figure()\n",
    "ax = fig.add_axes([0.1,0.1,0.85,0.85])\n",
    "x = ['Obese', 'Overweight', 'Normal', 'Underweight']\n",
    "y = [ob.sum(), ow.sum() - ob.sum(), bmi['Instance 0'].count() - (ow.sum() + uw.sum()), uw.sum()]\n",
    "ax.bar(x, y)\n",
    "axes = plt.gca()\n",
    "axes.set_ylim([0,7000])\n",
    "xlocs, xlabs = plt.xticks()\n",
    "xlocs=[i+1 for i in range(0,4)]\n",
    "for i, v in enumerate(y):\n",
    "    ax.text(xlocs[i] - 1.3, v + 100, str(v), fontsize = 20)\n",
    "plt.savefig(\"Covid_information_bmi.png\")"
   ]
  },
  {
   "cell_type": "code",
   "execution_count": 24,
   "metadata": {},
   "outputs": [
    {
     "data": {
      "image/png": "[encoded data removed]",
      "text/plain": [
       "<Figure size 432x288 with 1 Axes>"
      ]
     },
     "metadata": {
      "needs_background": "light"
     },
     "output_type": "display_data"
    },
    {
     "data": {
      "text/plain": [
       "<Figure size 432x288 with 0 Axes>"
      ]
     },
     "metadata": {},
     "output_type": "display_data"
    }
   ],
   "source": [
    "#BMI distribution in covid positive and negative\n",
    "ax=sns.distplot(bmi['Instance 0'][bmi['eid'].isin(eid_positive)], color='red',label='positive',hist=False)\n",
    "ax=sns.distplot(bmi['Instance 0'][~bmi['eid'].isin(eid_positive)],color='green',label='negative',hist=False)\n",
    "legend = ax.legend(loc='upper right', shadow=True, fontsize='x-large')\n",
    "\n",
    "plt.show()\n",
    "plt.savefig(\"Covid_BMI_distribution.png\")"
   ]
  },
  {
   "cell_type": "code",
   "execution_count": 25,
   "metadata": {},
   "outputs": [
    {
     "name": "stdout",
     "output_type": "stream",
     "text": [
      "BMI\t\tpositive\tnegative\n",
      "Underweight\t7       \t60\n",
      "Normal     \t389      \t3269\n",
      "Overweight \t692      \t4837\n",
      "Obese      \t339      \t2421\n",
      "SevereOb   \t204      \t1144\n",
      "The odd ration of infection with underweight to infection with normal weight is 0.9804198800342759 and p value is 1.0\n",
      "The odd ration of infection with overweight to infection with normal weight is 1.202251496471341 and p value is 0.006052381207479848\n",
      "The odd ration of infection with obese to infection with normal weight is 1.1767121236736398 and p value is 0.04256480994314843\n",
      "The odd ration of infection with severe obese to infection with normal weight is 1.4985438725798623 and p value is 2.1308033246654124e-05\n"
     ]
    }
   ],
   "source": [
    "#in the figure, for subjects with BMI>5, they may have significant increase of risk, then we can define >35 as severe ob\n",
    "numberPositive_nr=bmi['eid'][bmi['eid'].isin(eid_positive)][(bmi['Instance 0']>=18.5) & (bmi['Instance 0']<25)].count()\n",
    "numberNegative_nr=bmi['eid'][~bmi['eid'].isin(eid_positive)][(bmi['Instance 0']>=18.5) & (bmi['Instance 0']<25)].count()\n",
    "\n",
    "numberPositive_ow=bmi['eid'][bmi['eid'].isin(eid_positive)][(bmi['Instance 0']>=25) & (bmi['Instance 0']<30)].count()\n",
    "numberNegative_ow=bmi['eid'][~bmi['eid'].isin(eid_positive)][(bmi['Instance 0']>=25) & (bmi['Instance 0']<30)].count()\n",
    "                                                     \n",
    "numberPositive_ob=bmi['eid'][bmi['eid'].isin(eid_positive)][(bmi['Instance 0']>=30) & (bmi['Instance 0']<35)].count()\n",
    "numberNegative_ob=bmi['eid'][~bmi['eid'].isin(eid_positive)][(bmi['Instance 0']>=30) & (bmi['Instance 0']<35)].count()  \n",
    "\n",
    "numberPositive_so=bmi['eid'][bmi['eid'].isin(eid_positive)][bmi['Instance 0']>=35].count()\n",
    "numberNegative_so=bmi['eid'][~bmi['eid'].isin(eid_positive)][bmi['Instance 0']>=35].count()\n",
    "                                                     \n",
    "numberPositive_uw=bmi['eid'][bmi['eid'].isin(eid_positive)][bmi['Instance 0']<18.5].count()\n",
    "numberNegative_uw=bmi['eid'][~bmi['eid'].isin(eid_positive)][bmi['Instance 0']<18.5].count()\n",
    "\n",
    "print('BMI\\t\\tpositive\\tnegative')\n",
    "print('Underweight\\t{}       \\t{}'.format(numberPositive_uw,numberNegative_uw))\n",
    "print('Normal     \\t{}      \\t{}'.format(numberPositive_nr,numberNegative_nr))\n",
    "print('Overweight \\t{}      \\t{}'.format(numberPositive_ow,numberNegative_ow))\n",
    "print('Obese      \\t{}      \\t{}'.format(numberPositive_ob,numberNegative_ob))\n",
    "print('SevereOb   \\t{}      \\t{}'.format(numberPositive_so,numberNegative_so))\n",
    "\n",
    "#odd and p compare to normal group\n",
    "odd, p = stats.fisher_exact([[numberPositive_uw, numberNegative_uw], [numberPositive_nr, numberNegative_nr]])\n",
    "print('The odd ration of infection with underweight to infection with normal weight is {} and p value is {}'.format(odd,p))\n",
    "\n",
    "odd, p = stats.fisher_exact([[numberPositive_ow, numberNegative_ow], [numberPositive_nr, numberNegative_nr]])\n",
    "print('The odd ration of infection with overweight to infection with normal weight is {} and p value is {}'.format(odd,p))\n",
    "\n",
    "odd, p = stats.fisher_exact([[numberPositive_ob, numberNegative_ob], [numberPositive_nr, numberNegative_nr]])\n",
    "print('The odd ration of infection with obese to infection with normal weight is {} and p value is {}'.format(odd,p))\n",
    "\n",
    "odd, p = stats.fisher_exact([[numberPositive_so, numberNegative_so], [numberPositive_nr, numberNegative_nr]])\n",
    "print('The odd ration of infection with severe obese to infection with normal weight is {} and p value is {}'.format(odd,p))"
   ]
  },
  {
   "cell_type": "markdown",
   "metadata": {},
   "source": [
    "#### Revisit counts"
   ]
  },
  {
   "cell_type": "code",
   "execution_count": 26,
   "metadata": {},
   "outputs": [
    {
     "name": "stdout",
     "output_type": "stream",
     "text": [
      "There were only 498 patients did a first repeat assessment visit, 1057 patients did the second and 52 patients did the third; Out of all of these returning patients, the average bmis are respectively 28.034085943775125, 27.42890671712396 and 25.566469230769233.\n"
     ]
    }
   ],
   "source": [
    "print(\"There were only {} patients did a first repeat assessment visit, {} patients did the second and {} patients did the third; Out of all of these returning patients, the average bmis are respectively {}, {} and {}.\".format(bmi['Instance 1'].count(), bmi['Instance 2'].count(), bmi['Instance 3'].count(), bmi['Instance 1'].mean(), bmi['Instance 2'].mean(), bmi['Instance 3'].mean()))"
   ]
  },
  {
   "cell_type": "markdown",
   "metadata": {},
   "source": [
    "### Data-Field 20116 : Smoking Status"
   ]
  },
  {
   "cell_type": "code",
   "execution_count": 27,
   "metadata": {},
   "outputs": [
    {
     "data": {
      "text/plain": [
       "array([ 0.,  2.,  1., -3., nan])"
      ]
     },
     "execution_count": 27,
     "metadata": {},
     "output_type": "execute_result"
    }
   ],
   "source": [
    "#smoking status, using first survey value\n",
    "data['20116-0.0'].unique()"
   ]
  },
  {
   "cell_type": "code",
   "execution_count": 28,
   "metadata": {},
   "outputs": [
    {
     "data": {
      "image/png": "[encoded data removed]",
      "text/plain": [
       "<Figure size 432x288 with 1 Axes>"
      ]
     },
     "metadata": {
      "needs_background": "light"
     },
     "output_type": "display_data"
    }
   ],
   "source": [
    "smoking_all=data['20116-0.0'].hist()\n",
    "smoking_positive=data['20116-0.0'][data['eid'].isin(eid_positive)].hist()"
   ]
  },
  {
   "cell_type": "code",
   "execution_count": 29,
   "metadata": {},
   "outputs": [
    {
     "name": "stdout",
     "output_type": "stream",
     "text": [
      "Smoking_status\tpositive\tnegative\n",
      "Never     \t806       \t5774\n",
      "Previous     \t640      \t4505\n",
      "Current \t186      \t1488\n",
      "The odd ration of infection with previous smoking to infection with never smoking is 1.0177167360225612 and p value is 0.755671613966634\n",
      "The odd ration of infection with current smoking to infection with never smoking is 0.8954714640198511 and p value is 0.20687127442376438\n"
     ]
    }
   ],
   "source": [
    "infection_positive_never=data['eid'][data['20116-0.0']==0][data['eid'].isin(eid_positive)].count()\n",
    "infection_negative_never=data['eid'][data['20116-0.0']==0][~data['eid'].isin(eid_positive)].count()\n",
    "\n",
    "infection_positive_previous=data['eid'][data['20116-0.0']==1][data['eid'].isin(eid_positive)].count()\n",
    "infection_negative_previous=data['eid'][data['20116-0.0']==1][~data['eid'].isin(eid_positive)].count()\n",
    "\n",
    "infection_positive_current=data['eid'][data['20116-0.0']==2][data['eid'].isin(eid_positive)].count()\n",
    "infection_negative_current=data['eid'][data['20116-0.0']==2][~data['eid'].isin(eid_positive)].count()\n",
    "\n",
    "print('Smoking_status\\tpositive\\tnegative')\n",
    "print('Never     \\t{}       \\t{}'.format(infection_positive_never,infection_negative_never))\n",
    "print('Previous     \\t{}      \\t{}'.format(infection_positive_previous,infection_negative_previous))\n",
    "print('Current \\t{}      \\t{}'.format(infection_positive_current,infection_negative_current))\n",
    "\n",
    "\n",
    "#odd and p compare to never smoking group\n",
    "odd, p = stats.fisher_exact([[infection_positive_previous,infection_negative_previous], [infection_positive_never,infection_negative_never]])\n",
    "print('The odd ration of infection with previous smoking to infection with never smoking is {} and p value is {}'.format(odd,p))\n",
    "\n",
    "odd, p = stats.fisher_exact([[infection_positive_current,infection_negative_current], [infection_positive_never,infection_negative_never]])\n",
    "print('The odd ration of infection with current smoking to infection with never smoking is {} and p value is {}'.format(odd,p))\n"
   ]
  },
  {
   "cell_type": "markdown",
   "metadata": {},
   "source": [
    "### Data-Field 20117 : Alcohol drinker status"
   ]
  },
  {
   "cell_type": "code",
   "execution_count": null,
   "metadata": {},
   "outputs": [],
   "source": [
    "#drinking status, using first survey value\n",
    "data['20117-0.0'].unique()"
   ]
  },
  {
   "cell_type": "code",
   "execution_count": null,
   "metadata": {},
   "outputs": [],
   "source": [
    "smoking_all=data['20117-0.0'].hist()\n",
    "smoking_positive=data['20117-0.0'][data['eid'].isin(eid_positive)].hist()"
   ]
  },
  {
   "cell_type": "code",
   "execution_count": null,
   "metadata": {},
   "outputs": [],
   "source": [
    "infection_positive_never=data['eid'][data['20117-0.0']==0][data['eid'].isin(eid_positive)].count()\n",
    "infection_negative_never=data['eid'][data['20117-0.0']==0][~data['eid'].isin(eid_positive)].count()\n",
    "\n",
    "infection_positive_previous=data['eid'][data['20117-0.0']==1][data['eid'].isin(eid_positive)].count()\n",
    "infection_negative_previous=data['eid'][data['20117-0.0']==1][~data['eid'].isin(eid_positive)].count()\n",
    "\n",
    "infection_positive_current=data['eid'][data['20117-0.0']==2][data['eid'].isin(eid_positive)].count()\n",
    "infection_negative_current=data['eid'][data['20117-0.0']==2][~data['eid'].isin(eid_positive)].count()\n",
    "\n",
    "print('Drinking_status\\tpositive\\tnegative')\n",
    "print('Never     \\t{}       \\t{}'.format(infection_positive_never,infection_negative_never))\n",
    "print('Previous     \\t{}      \\t{}'.format(infection_positive_previous,infection_negative_previous))\n",
    "print('Current \\t{}      \\t{}'.format(infection_positive_current,infection_negative_current))\n",
    "\n",
    "\n",
    "#odd and p compare to never smoking group\n",
    "odd, p = stats.fisher_exact([[infection_positive_previous,infection_negative_previous], [infection_positive_never,infection_negative_never]])\n",
    "print('The odd ration of infection with previous drinking to infection with never drink alcohol is {} and p value is {}'.format(odd,p))\n",
    "\n",
    "odd, p = stats.fisher_exact([[infection_positive_current,infection_negative_current], [infection_positive_never,infection_negative_never]])\n",
    "print('The odd ration of infection with current drinking to infection with never drink alcohol is {} and p value is {}'.format(odd,p))\n"
   ]
  },
  {
   "cell_type": "markdown",
   "metadata": {},
   "source": [
    "### Data-Field 22037 - 22039 : MET minutes per week for walking"
   ]
  },
  {
   "cell_type": "code",
   "execution_count": null,
   "metadata": {},
   "outputs": [],
   "source": [
    "#MET minutes per week for walking\n",
    "ax=sns.distplot(data['22037-0.0'][data['eid'].isin(eid_positive)], color='red',label='positive',hist=True,bins=20)\n",
    "ax=sns.distplot(data['22037-0.0'][~data['eid'].isin(eid_positive)], color='blue',label='negative',hist=True,bins=20)\n",
    "plt.xlim([-500, 4500])\n",
    "plt.show()"
   ]
  },
  {
   "cell_type": "code",
   "execution_count": null,
   "metadata": {},
   "outputs": [],
   "source": [
    "#MET minutes per week for moderate activity\n",
    "ax=sns.distplot(data['22038-0.0'][data['eid'].isin(eid_positive)], color='red',label='positive',hist=True,bins=20)\n",
    "ax=sns.distplot(data['22038-0.0'][~data['eid'].isin(eid_positive)], color='blue',label='negative',hist=True,bins=20)\n",
    "plt.show()"
   ]
  },
  {
   "cell_type": "code",
   "execution_count": null,
   "metadata": {},
   "outputs": [],
   "source": [
    "#MET minutes per week for vigorous activity\n",
    "ax=sns.distplot(data['22039-0.0'][data['eid'].isin(eid_positive)], color='red',label='positive',hist=True,bins=20)\n",
    "ax=sns.distplot(data['22039-0.0'][~data['eid'].isin(eid_positive)], color='blue',label='negative',hist=True,bins=20)\n",
    "plt.xlim([-500, 4000])\n",
    "plt.show()"
   ]
  },
  {
   "cell_type": "markdown",
   "metadata": {},
   "source": [
    "### Data-Field 22601"
   ]
  },
  {
   "cell_type": "code",
   "execution_count": null,
   "metadata": {},
   "outputs": [],
   "source": [
    "filter_col22601 = [col for col in data if col.startswith('22601')]\n",
    "filter_col22601.insert(0, 'eid')\n",
    "filter_col22601"
   ]
  },
  {
   "cell_type": "code",
   "execution_count": null,
   "metadata": {},
   "outputs": [],
   "source": [
    "employment = data[filter_col22601]"
   ]
  },
  {
   "cell_type": "markdown",
   "metadata": {},
   "source": [
    "### Data-Field 20084: Vitamin"
   ]
  },
  {
   "cell_type": "code",
   "execution_count": null,
   "metadata": {},
   "outputs": [],
   "source": [
    "filter_vitamin = [col for col in data if col.startswith(('20084','100012', '100013', '100015', '100021', '100025', '104670'))]\n",
    "filter_vitamin.insert(0, 'eid')"
   ]
  },
  {
   "cell_type": "code",
   "execution_count": null,
   "metadata": {},
   "outputs": [],
   "source": [
    "vitamin = data[filter_vitamin]\n",
    "vitamin.head()"
   ]
  },
  {
   "cell_type": "code",
   "execution_count": null,
   "metadata": {},
   "outputs": [],
   "source": [
    "vitamin = vitamin.dropna(axis='columns', how = 'all')"
   ]
  },
  {
   "cell_type": "markdown",
   "metadata": {},
   "source": [
    "#### Get odd ratios and p values of infection rates based on each supplement options"
   ]
  },
  {
   "cell_type": "code",
   "execution_count": null,
   "metadata": {},
   "outputs": [],
   "source": [
    "# Was originally only using the first instance: 20084-0.~, but the sample size is too small to get our data accurate.\n",
    "# There might be problems caused by using all the instances.\n",
    "filter_20084 = [col for col in vitamin if col.startswith('20084')]\n",
    "filter_20084.insert(0, 'eid')"
   ]
  },
  {
   "cell_type": "code",
   "execution_count": null,
   "metadata": {},
   "outputs": [],
   "source": [
    "vitamin0 = vitamin[filter_20084]\n",
    "vitamin0.count()"
   ]
  },
  {
   "cell_type": "code",
   "execution_count": null,
   "metadata": {},
   "outputs": [],
   "source": [
    "coding74 = pd.read_csv(\"../NSinternship/data_coding/coding74.tsv\", sep=\"\\t\")\n",
    "coding74"
   ]
  },
  {
   "cell_type": "code",
   "execution_count": null,
   "metadata": {},
   "outputs": [],
   "source": [
    "infection_positive_multivit_iron = 0\n",
    "infection_negative_multivit_iron = 0\n",
    "infection_positive_multivit_cal = 0\n",
    "infection_negative_multivit_cal = 0\n",
    "infection_positive_multivit_multimin = 0\n",
    "infection_negative_multivit_multimin = 0\n",
    "infection_positive_fishoil = 0\n",
    "infection_negative_fishoil = 0\n",
    "infection_positive_gluc = 0\n",
    "infection_negative_gluc = 0\n",
    "infection_positive_even_prim = 0\n",
    "infection_negative_even_prim = 0\n",
    "infection_positive_vita = 0\n",
    "infection_negative_vita = 0\n",
    "infection_positive_vitb6 = 0\n",
    "infection_negative_vitb6 = 0\n",
    "infection_positive_vitb12 = 0\n",
    "infection_negative_vitb12 = 0\n",
    "infection_positive_vitc = 0\n",
    "infection_negative_vitc = 0\n",
    "infection_positive_vitd = 0\n",
    "infection_negative_vitd = 0\n",
    "infection_positive_vite = 0\n",
    "infection_negative_vite = 0\n",
    "infection_positive_folicacid = 0\n",
    "infection_negative_folicacid = 0\n",
    "infection_positive_chrom = 0\n",
    "infection_negative_chrom = 0\n",
    "infection_positive_mag = 0\n",
    "infection_negative_mag = 0\n",
    "infection_positive_sele = 0\n",
    "infection_negative_sele = 0\n",
    "infection_positive_cal = 0\n",
    "infection_negative_cal = 0\n",
    "infection_positive_iron = 0\n",
    "infection_negative_iron = 0\n",
    "infection_positive_zinc = 0\n",
    "infection_negative_zinc = 0\n",
    "infection_positive_other = 0\n",
    "infection_negative_other = 0\n",
    "\n",
    "# Infection Rate of those take nothing\n",
    "nans = vitamin0[vitamin0.drop('eid',1).isnull().all(axis=1)]\n",
    "infection_positive_nothing = vitamin0['eid'][data['eid'].isin(eid_positive)].count()\n",
    "infection_negative_nothing = vitamin0['eid'][~data['eid'].isin(eid_positive)].count()\n",
    "\n",
    "# Multivitamin\n",
    "infection_positive_multivit = vitamin0['eid'][vitamin0['20084-0.0'] == 468][data['eid'].isin(eid_positive)].count()\n",
    "infection_negative_multivit = vitamin0['eid'][vitamin0['20084-0.0'] == 468][~data['eid'].isin(eid_positive)].count()\n",
    "\n",
    "# Multivitamin with iron\n",
    "for (i, columnData) in vitamin0.iteritems():\n",
    "    infection_positive_multivit_iron += vitamin0['eid'][vitamin0[i] == 469][data['eid'].isin(eid_positive)].count()\n",
    "    infection_negative_multivit_iron += vitamin0['eid'][vitamin0[i] == 469][~data['eid'].isin(eid_positive)].count()\n",
    "\n",
    "# Multivitamin with calcium\n",
    "for (i, columnData) in vitamin0.iteritems():\n",
    "    infection_positive_multivit_cal += vitamin0['eid'][vitamin0[i] == 470][data['eid'].isin(eid_positive)].count()\n",
    "    infection_negative_multivit_cal += vitamin0['eid'][vitamin0[i] == 470][~data['eid'].isin(eid_positive)].count()\n",
    "\n",
    "# Multivitamin with multimineral\n",
    "for (i, columnData) in vitamin0.iteritems():\n",
    "    infection_positive_multivit_multimin += vitamin0['eid'][vitamin0[i] == 471][data['eid'].isin(eid_positive)].count()\n",
    "    infection_negative_multivit_multimin += vitamin0['eid'][vitamin0[i] == 471][~data['eid'].isin(eid_positive)].count()\n",
    "\n",
    "# Fish oil\n",
    "for (i, columnData) in vitamin0.iteritems():\n",
    "    infection_positive_fishoil += vitamin0['eid'][vitamin0[i] == 472][data['eid'].isin(eid_positive)].count()\n",
    "    infection_negative_fishoil += vitamin0['eid'][vitamin0[i] == 472][~data['eid'].isin(eid_positive)].count()\n",
    "    \n",
    "# Glucosamine/chondroitin\n",
    "for (i, columnData) in vitamin0.iteritems():\n",
    "    infection_positive_gluc += vitamin0['eid'][vitamin0[i] == 473][data['eid'].isin(eid_positive)].count()\n",
    "    infection_negative_gluc += vitamin0['eid'][vitamin0[i] == 473][~data['eid'].isin(eid_positive)].count()\n",
    "    \n",
    "# Evening primrose\n",
    "for (i, columnData) in vitamin0.iteritems():\n",
    "    infection_positive_even_prim += vitamin0['eid'][vitamin0[i] == 474][data['eid'].isin(eid_positive)].count()\n",
    "    infection_negative_even_prim += vitamin0['eid'][vitamin0[i] == 474][~data['eid'].isin(eid_positive)].count()\n",
    "    \n",
    "# Vitamin A\n",
    "for (i, columnData) in vitamin0.iteritems():\n",
    "    infection_positive_vita += vitamin0['eid'][vitamin0[i] == 475][data['eid'].isin(eid_positive)].count()\n",
    "    infection_negative_vita += vitamin0['eid'][vitamin0[i] == 475][~data['eid'].isin(eid_positive)].count()\n",
    "    \n",
    "# Vitamin B6\n",
    "for (i, columnData) in vitamin0.iteritems():\n",
    "    infection_positive_vitb6 += vitamin0['eid'][vitamin0[i] == 476][data['eid'].isin(eid_positive)].count()\n",
    "    infection_negative_vitb6 += vitamin0['eid'][vitamin0[i] == 476][~data['eid'].isin(eid_positive)].count()\n",
    "    \n",
    "# Vitamin B12\n",
    "for (i, columnData) in vitamin0.iteritems():\n",
    "    infection_positive_vitb12 += vitamin0['eid'][vitamin0[i] == 477][data['eid'].isin(eid_positive)].count()\n",
    "    infection_negative_vitb12 += vitamin0['eid'][vitamin0[i] == 477][~data['eid'].isin(eid_positive)].count()\n",
    "    \n",
    "# Vitamin C\n",
    "for (i, columnData) in vitamin0.iteritems():\n",
    "    infection_positive_vitc += vitamin0['eid'][vitamin0[i] == 478][data['eid'].isin(eid_positive)].count()\n",
    "    infection_negative_vitc += vitamin0['eid'][vitamin0[i] == 478][~data['eid'].isin(eid_positive)].count()\n",
    "    \n",
    "# Vitamin D\n",
    "for (i, columnData) in vitamin0.iteritems():\n",
    "    infection_positive_vitd += vitamin0['eid'][vitamin0[i] == 479][data['eid'].isin(eid_positive)].count()\n",
    "    infection_negative_vitd += vitamin0['eid'][vitamin0[i] == 479][~data['eid'].isin(eid_positive)].count()\n",
    "    \n",
    "# Vitamin E\n",
    "for (i, columnData) in vitamin0.iteritems():\n",
    "    infection_positive_vite += vitamin0['eid'][vitamin0[i] == 480][data['eid'].isin(eid_positive)].count()\n",
    "    infection_negative_vite += vitamin0['eid'][vitamin0[i] == 480][~data['eid'].isin(eid_positive)].count()\n",
    "\n",
    "# Folic acid\n",
    "for (i, columnData) in vitamin0.iteritems():\n",
    "    infection_positive_folicacid += vitamin0['eid'][vitamin0[i] == 481][data['eid'].isin(eid_positive)].count()\n",
    "    infection_negative_folicacid += vitamin0['eid'][vitamin0[i] == 481][~data['eid'].isin(eid_positive)].count()\n",
    "\n",
    "# Chromium\n",
    "for (i, columnData) in vitamin0.iteritems():\n",
    "    infection_positive_chrom += vitamin0['eid'][vitamin0[i] == 482][data['eid'].isin(eid_positive)].count()\n",
    "    infection_negative_chrom += vitamin0['eid'][vitamin0[i] == 482][~data['eid'].isin(eid_positive)].count()\n",
    "\n",
    "# Magnesium\n",
    "for (i, columnData) in vitamin0.iteritems():\n",
    "    infection_positive_mag += vitamin0['eid'][vitamin0[i] == 483][data['eid'].isin(eid_positive)].count()\n",
    "    infection_negative_mag += vitamin0['eid'][vitamin0[i] == 483][~data['eid'].isin(eid_positive)].count()\n",
    "    \n",
    "# Selenium\n",
    "for (i, columnData) in vitamin0.iteritems():\n",
    "    infection_positive_sele += vitamin0['eid'][vitamin0[i] == 484][data['eid'].isin(eid_positive)].count()\n",
    "    infection_negative_sele += vitamin0['eid'][vitamin0[i] == 484][~data['eid'].isin(eid_positive)].count()\n",
    "    \n",
    "# Calcium\n",
    "for (i, columnData) in vitamin0.iteritems():\n",
    "    infection_positive_cal += vitamin0['eid'][vitamin0[i] == 485][data['eid'].isin(eid_positive)].count()\n",
    "    infection_negative_cal += vitamin0['eid'][vitamin0[i] == 485][~data['eid'].isin(eid_positive)].count()\n",
    "    \n",
    "# Iron\n",
    "for (i, columnData) in vitamin0.iteritems():\n",
    "    infection_positive_iron += vitamin0['eid'][vitamin0[i] == 486][data['eid'].isin(eid_positive)].count()\n",
    "    infection_negative_iron += vitamin0['eid'][vitamin0[i] == 486][~data['eid'].isin(eid_positive)].count()\n",
    "    \n",
    "# Zinc\n",
    "for (i, columnData) in vitamin0.iteritems():\n",
    "    infection_positive_zinc += vitamin0['eid'][vitamin0[i] == 487][data['eid'].isin(eid_positive)].count()\n",
    "    infection_negative_zinc += vitamin0['eid'][vitamin0[i] == 487][~data['eid'].isin(eid_positive)].count()\n",
    "    \n",
    "# Other vitamin\n",
    "for (i, columnData) in vitamin0.iteritems():\n",
    "    infection_positive_other += vitamin0['eid'][vitamin0[i] == 488][data['eid'].isin(eid_positive)].count()\n",
    "    infection_negative_other += vitamin0['eid'][vitamin0[i] == 488][~data['eid'].isin(eid_positive)].count()"
   ]
  },
  {
   "cell_type": "code",
   "execution_count": null,
   "metadata": {},
   "outputs": [],
   "source": [
    "odd1, p1 = stats.fisher_exact([[infection_positive_multivit,infection_negative_multivit], [infection_positive_nothing,infection_negative_nothing]])\n",
    "odd2, p2 = stats.fisher_exact([[infection_positive_multivit_iron,infection_negative_multivit_iron], [infection_positive_nothing,infection_negative_nothing]])\n",
    "odd3, p3 = stats.fisher_exact([[infection_positive_multivit_cal,infection_negative_multivit_cal], [infection_positive_nothing,infection_negative_nothing]])\n",
    "odd4, p4 = stats.fisher_exact([[infection_positive_multivit_multimin,infection_negative_multivit_multimin], [infection_positive_nothing,infection_negative_nothing]])\n",
    "odd5, p5 = stats.fisher_exact([[infection_positive_fishoil,infection_negative_fishoil], [infection_positive_nothing,infection_negative_nothing]])\n",
    "odd6, p6 = stats.fisher_exact([[infection_positive_gluc,infection_negative_gluc], [infection_positive_nothing,infection_negative_nothing]])\n",
    "odd7, p7 = stats.fisher_exact([[infection_positive_even_prim,infection_negative_even_prim], [infection_positive_nothing,infection_negative_nothing]])\n",
    "odd8, p8 = stats.fisher_exact([[infection_positive_vita,infection_negative_vita], [infection_positive_nothing,infection_negative_nothing]])\n",
    "odd9, p9 = stats.fisher_exact([[infection_positive_vitb6,infection_negative_vitb6], [infection_positive_nothing,infection_negative_nothing]])\n",
    "odd10, p10 = stats.fisher_exact([[infection_positive_vitb12,infection_negative_vitb12], [infection_positive_nothing,infection_negative_nothing]])\n",
    "odd11, p11 = stats.fisher_exact([[infection_positive_vitc,infection_negative_vitc], [infection_positive_nothing,infection_negative_nothing]])\n",
    "odd12, p12 = stats.fisher_exact([[infection_positive_vitd,infection_negative_vitd], [infection_positive_nothing,infection_negative_nothing]])\n",
    "odd13, p13 = stats.fisher_exact([[infection_positive_vite,infection_negative_vite], [infection_positive_nothing,infection_negative_nothing]])\n",
    "odd14, p14 = stats.fisher_exact([[infection_positive_folicacid,infection_negative_folicacid], [infection_positive_nothing,infection_negative_nothing]])\n",
    "odd15, p15 = stats.fisher_exact([[infection_positive_chrom,infection_negative_chrom], [infection_positive_nothing,infection_negative_nothing]])\n",
    "odd16, p16 = stats.fisher_exact([[infection_positive_mag,infection_negative_mag], [infection_positive_nothing,infection_negative_nothing]])\n",
    "odd17, p17 = stats.fisher_exact([[infection_positive_sele,infection_negative_sele], [infection_positive_nothing,infection_negative_nothing]])\n",
    "odd18, p18 = stats.fisher_exact([[infection_positive_cal,infection_negative_cal], [infection_positive_nothing,infection_negative_nothing]])\n",
    "odd19, p19 = stats.fisher_exact([[infection_positive_iron,infection_negative_iron], [infection_positive_nothing,infection_negative_nothing]])\n",
    "odd20, p20 = stats.fisher_exact([[infection_positive_zinc,infection_negative_zinc], [infection_positive_nothing,infection_negative_nothing]])\n",
    "odd21, p21 = stats.fisher_exact([[infection_positive_other,infection_negative_other], [infection_positive_nothing,infection_negative_nothing]])"
   ]
  },
  {
   "cell_type": "code",
   "execution_count": null,
   "metadata": {},
   "outputs": [],
   "source": [
    "print('Vitamin Supplement Usage           \\tpositive\\tnegative\\todd ratio               \\tp-value')\n",
    "print('Multivitamin                       \\t{}       \\t{}       \\t{}       \\t{}'.format(infection_positive_multivit,infection_negative_multivit,odd1,p1))\n",
    "print('Multivitamin with iron             \\t{}       \\t{}       \\t{}       \\t{}'.format(infection_positive_multivit_iron,infection_negative_multivit_iron,odd2,p2))\n",
    "print('Multivitamin with calcium          \\t{}       \\t{}       \\t{}       \\t{}'.format(infection_positive_multivit_cal,infection_negative_multivit_cal,odd3,p3))\n",
    "print('Multivitamin with multimineral     \\t{}      \\t{}       \\t{}       \\t{}'.format(infection_positive_multivit_multimin,infection_negative_multivit_multimin,odd4,p4))\n",
    "print('Fish oil                           \\t{}      \\t{}       \\t{}       \\t{}'.format(infection_positive_fishoil,infection_negative_fishoil,odd5,p5))\n",
    "print('Glucosamine/chondroitin            \\t{}      \\t{}       \\t{}       \\t{}'.format(infection_positive_gluc,infection_negative_gluc,odd6,p6))\n",
    "print('Evening primrose                   \\t{}       \\t{}       \\t{}       \\t{}'.format(infection_positive_even_prim,infection_negative_even_prim,odd7,p7))\n",
    "print('Vitamin A                          \\t{}       \\t{}       \\t{}       \\t{}'.format(infection_positive_vita,infection_negative_vita,odd8,p8))\n",
    "print('Vitamin B6                         \\t{}       \\t{}       \\t{}       \\t{}'.format(infection_positive_vitb6,infection_negative_vitb6,odd9,p9))\n",
    "print('Vitamin B12                        \\t{}       \\t{}       \\t{}       \\t{}'.format(infection_positive_vitb12,infection_negative_vitb12,odd10,p10))\n",
    "print('Vitamin C                          \\t{}      \\t{}       \\t{}       \\t{}'.format(infection_positive_vitc,infection_negative_vitc,odd11,p11))\n",
    "print('Vitamin D                          \\t{}       \\t{}       \\t{}       \\t{}'.format(infection_positive_vitd,infection_negative_vitd,odd12,p12))\n",
    "print('Vitamin E                          \\t{}       \\t{}       \\t{}       \\t{}'.format(infection_positive_vite,infection_negative_vite,odd13,p13))\n",
    "print('Folic acid                         \\t{}       \\t{}       \\t{}       \\t{}'.format(infection_positive_folicacid,infection_negative_folicacid,odd14,p14))\n",
    "print('Chromium                           \\t{}       \\t{}       \\t{}       \\t{}'.format(infection_positive_chrom,infection_negative_chrom,odd15,p15))\n",
    "print('Magnesium                          \\t{}       \\t{}       \\t{}       \\t{}'.format(infection_positive_mag,infection_negative_mag,odd16,p16))\n",
    "print('Selenium                           \\t{}       \\t{}       \\t{}       \\t{}'.format(infection_positive_sele,infection_negative_sele,odd17,p17))\n",
    "print('Calcium                            \\t{}      \\t{}       \\t{}       \\t{}'.format(infection_positive_cal,infection_negative_cal,odd18,p18))\n",
    "print('Iron                               \\t{}       \\t{}       \\t{}       \\t{}'.format(infection_positive_iron,infection_negative_iron,odd19,p19))\n",
    "print('Zinc                               \\t{}       \\t{}       \\t{}       \\t{}'.format(infection_positive_zinc,infection_negative_zinc,odd20,p20))\n",
    "print('Other vitamin                      \\t{}       \\t{}       \\t{}       \\t{}'.format(infection_positive_other,infection_negative_other,odd21,p21))"
   ]
  },
  {
   "cell_type": "code",
   "execution_count": null,
   "metadata": {},
   "outputs": [],
   "source": [
    "# Was thinking about creating a plot to visualize the result, but with 21 suppliment options the plot might be too massy."
   ]
  },
  {
   "cell_type": "markdown",
   "metadata": {},
   "source": [
    "### Data-Field 100012 ~ 104670: Vitamins"
   ]
  },
  {
   "cell_type": "code",
   "execution_count": null,
   "metadata": {},
   "outputs": [],
   "source": [
    "filter_vitamins = [col for col in vitamin if col.startswith(('100012', '100013', '100015', '100021', '100025', '104670'))]\n",
    "filter_vitamins.insert(0, 'eid')\n",
    "vitamin1 = vitamin[filter_vitamins]\n",
    "vitamin1.head()\n",
    "# Different options of vitamins have different mean, max, sd, so we might want to analyze the data separately."
   ]
  },
  {
   "cell_type": "markdown",
   "metadata": {},
   "source": [
    "#### Vitamin B6"
   ]
  },
  {
   "cell_type": "code",
   "execution_count": null,
   "metadata": {},
   "outputs": [],
   "source": [
    "b6 = vitamin1[['eid', '100012-0.0', '100012-1.0', '100012-2.0', '100012-3.0', '100012-4.0']]\n",
    "b6.head()"
   ]
  },
  {
   "cell_type": "code",
   "execution_count": null,
   "metadata": {},
   "outputs": [],
   "source": [
    "fig, axs = plt.subplots(5, figsize=(15,15), sharex=True, sharey=True, gridspec_kw={'hspace': 0})\n",
    "sns.distplot(b6['100012-0.0'][b6['eid'].isin(eid_positive)],color='red', label='Instance 0 positive',hist=True,bins=20, ax=axs[0])\n",
    "sns.distplot(b6['100012-0.0'][~b6['eid'].isin(eid_positive)], color='blue',label='Instance 0 negative',hist=True,bins=20, ax=axs[0])\n",
    "axs[0].legend()\n",
    "sns.distplot(b6['100012-1.0'][b6['eid'].isin(eid_positive)],color='red', label='Instance 1 positive',hist=True,bins=20, ax=axs[1])\n",
    "sns.distplot(b6['100012-1.0'][~b6['eid'].isin(eid_positive)], color='blue',label='Instance 1 negative',hist=True,bins=20, ax=axs[1])\n",
    "axs[1].legend()\n",
    "sns.distplot(b6['100012-2.0'][b6['eid'].isin(eid_positive)],color='red', label='Instance 2 positive',hist=True,bins=20, ax=axs[2])\n",
    "sns.distplot(b6['100012-2.0'][~b6['eid'].isin(eid_positive)], color='blue',label='Instance 2 negative',hist=True,bins=20, ax=axs[2])\n",
    "axs[2].legend()\n",
    "sns.distplot(b6['100012-3.0'][b6['eid'].isin(eid_positive)],color='red', label='Instance 3 positive',hist=True,bins=20, ax=axs[3])\n",
    "sns.distplot(b6['100012-3.0'][~b6['eid'].isin(eid_positive)], color='blue',label='Instance 3 negative',hist=True,bins=20, ax=axs[3])\n",
    "axs[3].legend()\n",
    "sns.distplot(b6['100012-4.0'][b6['eid'].isin(eid_positive)],color='red', label='Instance 4 positive',hist=True,bins=20, ax=axs[4])\n",
    "sns.distplot(b6['100012-4.0'][~b6['eid'].isin(eid_positive)], color='blue',label='Instance 4 negative',hist=True,bins=20, ax=axs[4])\n",
    "axs[4].legend()\n",
    "axs[4].set_xlabel('Vitamin B6 consumption (mg)')"
   ]
  },
  {
   "cell_type": "markdown",
   "metadata": {},
   "source": [
    "#### Vitamin B12"
   ]
  },
  {
   "cell_type": "code",
   "execution_count": null,
   "metadata": {},
   "outputs": [],
   "source": [
    "b12 = vitamin1[['eid', '100013-0.0', '100013-1.0', '100013-2.0', '100013-3.0', '100013-4.0']]\n",
    "b12.head()"
   ]
  },
  {
   "cell_type": "code",
   "execution_count": null,
   "metadata": {},
   "outputs": [],
   "source": [
    "fig, axs = plt.subplots(5, figsize=(15,15), sharex=True, sharey=True, gridspec_kw={'hspace': 0})\n",
    "sns.distplot(b12['100013-0.0'][b12['eid'].isin(eid_positive)],color='red', label='Instance 0 positive',hist=True,bins=20, ax=axs[0])\n",
    "sns.distplot(b12['100013-0.0'][~b12['eid'].isin(eid_positive)], color='blue',label='Instance 0 negative',hist=True,bins=20, ax=axs[0])\n",
    "axs[0].legend()\n",
    "sns.distplot(b12['100013-1.0'][b12['eid'].isin(eid_positive)],color='red', label='Instance 1 positive',hist=True,bins=20, ax=axs[1])\n",
    "sns.distplot(b12['100013-1.0'][~b12['eid'].isin(eid_positive)], color='blue',label='Instance 1 negative',hist=True,bins=20, ax=axs[1])\n",
    "axs[1].legend()\n",
    "sns.distplot(b12['100013-2.0'][b12['eid'].isin(eid_positive)],color='red', label='Instance 2 positive',hist=True,bins=20, ax=axs[2])\n",
    "sns.distplot(b12['100013-2.0'][~b12['eid'].isin(eid_positive)], color='blue',label='Instance 2 negative',hist=True,bins=20, ax=axs[2])\n",
    "axs[2].legend()\n",
    "sns.distplot(b12['100013-3.0'][b12['eid'].isin(eid_positive)],color='red', label='Instance 3 positive',hist=True,bins=20, ax=axs[3])\n",
    "sns.distplot(b12['100013-3.0'][~b12['eid'].isin(eid_positive)], color='blue',label='Instance 3 negative',hist=True,bins=20, ax=axs[3])\n",
    "axs[3].legend()\n",
    "sns.distplot(b12['100013-4.0'][b12['eid'].isin(eid_positive)],color='red', label='Instance 4 positive',hist=True,bins=20, ax=axs[4])\n",
    "sns.distplot(b12['100013-4.0'][~b12['eid'].isin(eid_positive)], color='blue',label='Instance 4 negative',hist=True,bins=20, ax=axs[4])\n",
    "axs[4].legend()\n",
    "axs[4].set_xlabel('Vitamin B12 consumption (mg)')"
   ]
  },
  {
   "cell_type": "markdown",
   "metadata": {},
   "source": [
    "#### Vitamin C"
   ]
  },
  {
   "cell_type": "code",
   "execution_count": null,
   "metadata": {},
   "outputs": [],
   "source": [
    "c = vitamin1[['eid', '100015-0.0', '100015-1.0', '100015-2.0', '100015-3.0', '100015-4.0']]\n",
    "c.head()"
   ]
  },
  {
   "cell_type": "code",
   "execution_count": null,
   "metadata": {},
   "outputs": [],
   "source": [
    "fig, axs = plt.subplots(5, figsize=(15,15), sharex=True, sharey=True, gridspec_kw={'hspace': 0})\n",
    "sns.distplot(c['100015-0.0'][c['eid'].isin(eid_positive)],color='red', label='Instance 0 positive',hist=True,bins=20, ax=axs[0])\n",
    "sns.distplot(c['100015-0.0'][~c['eid'].isin(eid_positive)], color='blue',label='Instance 0 negative',hist=True,bins=20, ax=axs[0])\n",
    "axs[0].legend()\n",
    "sns.distplot(c['100015-1.0'][c['eid'].isin(eid_positive)],color='red', label='Instance 1 positive',hist=True,bins=20, ax=axs[1])\n",
    "sns.distplot(c['100015-1.0'][~c['eid'].isin(eid_positive)], color='blue',label='Instance 1 negative',hist=True,bins=20, ax=axs[1])\n",
    "axs[1].legend()\n",
    "sns.distplot(c['100015-2.0'][c['eid'].isin(eid_positive)],color='red', label='Instance 2 positive',hist=True,bins=20, ax=axs[2])\n",
    "sns.distplot(c['100015-2.0'][~c['eid'].isin(eid_positive)], color='blue',label='Instance 2 negative',hist=True,bins=20, ax=axs[2])\n",
    "axs[2].legend()\n",
    "sns.distplot(c['100015-3.0'][c['eid'].isin(eid_positive)],color='red', label='Instance 3 positive',hist=True,bins=20, ax=axs[3])\n",
    "sns.distplot(c['100015-3.0'][~c['eid'].isin(eid_positive)], color='blue',label='Instance 3 negative',hist=True,bins=20, ax=axs[3])\n",
    "axs[3].legend()\n",
    "sns.distplot(c['100015-4.0'][c['eid'].isin(eid_positive)],color='red', label='Instance 4 positive',hist=True,bins=20, ax=axs[4])\n",
    "sns.distplot(c['100015-4.0'][~c['eid'].isin(eid_positive)], color='blue',label='Instance 4 negative',hist=True,bins=20, ax=axs[4])\n",
    "axs[4].legend()\n",
    "axs[4].set_xlabel('Vitamin C consumption (mg)')"
   ]
  },
  {
   "cell_type": "markdown",
   "metadata": {},
   "source": [
    "#### Vitamin D"
   ]
  },
  {
   "cell_type": "code",
   "execution_count": null,
   "metadata": {},
   "outputs": [],
   "source": [
    "d = vitamin1[['eid', '100021-0.0', '100021-1.0', '100021-2.0', '100021-3.0', '100021-4.0']]\n",
    "d.head()"
   ]
  },
  {
   "cell_type": "code",
   "execution_count": null,
   "metadata": {},
   "outputs": [],
   "source": [
    "fig, axs = plt.subplots(5, figsize=(15,15), sharex=True, sharey=True, gridspec_kw={'hspace': 0})\n",
    "sns.distplot(d['100021-0.0'][d['eid'].isin(eid_positive)],color='red', label='Instance 0 positive',hist=True,bins=20, ax=axs[0])\n",
    "sns.distplot(d['100021-0.0'][~d['eid'].isin(eid_positive)], color='blue',label='Instance 0 negative',hist=True,bins=20, ax=axs[0])\n",
    "axs[0].legend()\n",
    "sns.distplot(d['100021-1.0'][d['eid'].isin(eid_positive)],color='red', label='Instance 1 positive',hist=True,bins=20, ax=axs[1])\n",
    "sns.distplot(d['100021-1.0'][~d['eid'].isin(eid_positive)], color='blue',label='Instance 1 negative',hist=True,bins=20, ax=axs[1])\n",
    "axs[1].legend()\n",
    "sns.distplot(d['100021-2.0'][d['eid'].isin(eid_positive)],color='red', label='Instance 2 positive',hist=True,bins=20, ax=axs[2])\n",
    "sns.distplot(d['100021-2.0'][~d['eid'].isin(eid_positive)], color='blue',label='Instance 2 negative',hist=True,bins=20, ax=axs[2])\n",
    "axs[2].legend()\n",
    "sns.distplot(d['100021-3.0'][d['eid'].isin(eid_positive)],color='red', label='Instance 3 positive',hist=True,bins=20, ax=axs[3])\n",
    "sns.distplot(d['100021-3.0'][~d['eid'].isin(eid_positive)], color='blue',label='Instance 3 negative',hist=True,bins=20, ax=axs[3])\n",
    "axs[3].legend()\n",
    "sns.distplot(d['100021-4.0'][d['eid'].isin(eid_positive)],color='red', label='Instance 4 positive',hist=True,bins=20, ax=axs[4])\n",
    "sns.distplot(d['100021-4.0'][~d['eid'].isin(eid_positive)], color='blue',label='Instance 4 negative',hist=True,bins=20, ax=axs[4])\n",
    "axs[4].legend()\n",
    "axs[4].set_xlabel('Vitamin D consumption (mg)')"
   ]
  },
  {
   "cell_type": "markdown",
   "metadata": {},
   "source": [
    "#### Vitamin E"
   ]
  },
  {
   "cell_type": "code",
   "execution_count": null,
   "metadata": {},
   "outputs": [],
   "source": [
    "e = vitamin1[['eid', '100025-0.0', '100025-1.0', '100025-2.0', '100025-3.0', '100025-4.0']]\n",
    "e.head()"
   ]
  },
  {
   "cell_type": "code",
   "execution_count": null,
   "metadata": {},
   "outputs": [],
   "source": [
    "fig, axs = plt.subplots(5, figsize=(15,15), sharex=True, sharey=True, gridspec_kw={'hspace': 0})\n",
    "sns.distplot(e['100025-0.0'][e['eid'].isin(eid_positive)],color='red', label='Instance 0 positive',hist=True,bins=20, ax=axs[0])\n",
    "sns.distplot(e['100025-0.0'][~e['eid'].isin(eid_positive)], color='blue',label='Instance 0 negative',hist=True,bins=20, ax=axs[0])\n",
    "axs[0].legend()\n",
    "sns.distplot(e['100025-1.0'][e['eid'].isin(eid_positive)],color='red', label='Instance 1 positive',hist=True,bins=20, ax=axs[1])\n",
    "sns.distplot(e['100025-1.0'][~e['eid'].isin(eid_positive)], color='blue',label='Instance 1 negative',hist=True,bins=20, ax=axs[1])\n",
    "axs[1].legend()\n",
    "sns.distplot(e['100025-2.0'][e['eid'].isin(eid_positive)],color='red', label='Instance 2 positive',hist=True,bins=20, ax=axs[2])\n",
    "sns.distplot(e['100025-2.0'][~e['eid'].isin(eid_positive)], color='blue',label='Instance 2 negative',hist=True,bins=20, ax=axs[2])\n",
    "axs[2].legend()\n",
    "sns.distplot(e['100025-3.0'][e['eid'].isin(eid_positive)],color='red', label='Instance 3 positive',hist=True,bins=20, ax=axs[3])\n",
    "sns.distplot(e['100025-3.0'][~e['eid'].isin(eid_positive)], color='blue',label='Instance 3 negative',hist=True,bins=20, ax=axs[3])\n",
    "axs[3].legend()\n",
    "sns.distplot(e['100025-4.0'][e['eid'].isin(eid_positive)],color='red', label='Instance 4 positive',hist=True,bins=20, ax=axs[4])\n",
    "sns.distplot(e['100025-4.0'][~e['eid'].isin(eid_positive)], color='blue',label='Instance 4 negative',hist=True,bins=20, ax=axs[4])\n",
    "axs[4].legend()\n",
    "axs[4].set_xlabel('Vitamin E consumption (mg)')"
   ]
  },
  {
   "cell_type": "markdown",
   "metadata": {},
   "source": [
    "#### Vitamin supplement user"
   ]
  },
  {
   "cell_type": "code",
   "execution_count": null,
   "metadata": {},
   "outputs": [],
   "source": [
    "sup = vitamin1[['eid', '104670-0.0', '104670-1.0', '104670-2.0', '104670-3.0', '104670-4.0']]\n",
    "sup.head()"
   ]
  },
  {
   "cell_type": "code",
   "execution_count": null,
   "metadata": {},
   "outputs": [],
   "source": [
    "# boolean vs boolean plot?"
   ]
  },
  {
   "cell_type": "code",
   "execution_count": null,
   "metadata": {},
   "outputs": [],
   "source": [
    "# I might need to think of a new way of plotting the result, the above vitamin distplots dont clearly show our desired outcomes."
   ]
  },
  {
   "cell_type": "markdown",
   "metadata": {},
   "source": [
    "## Building model"
   ]
  },
  {
   "cell_type": "code",
   "execution_count": 30,
   "metadata": {},
   "outputs": [
    {
     "data": {
      "text/html": [
       "<div>\n",
       "<style scoped>\n",
       "    .dataframe tbody tr th:only-of-type {\n",
       "        vertical-align: middle;\n",
       "    }\n",
       "\n",
       "    .dataframe tbody tr th {\n",
       "        vertical-align: top;\n",
       "    }\n",
       "\n",
       "    .dataframe thead th {\n",
       "        text-align: right;\n",
       "    }\n",
       "</style>\n",
       "<table border=\"1\" class=\"dataframe\">\n",
       "  <thead>\n",
       "    <tr style=\"text-align: right;\">\n",
       "      <th></th>\n",
       "      <th>eid</th>\n",
       "      <th>Year</th>\n",
       "      <th>Month</th>\n",
       "      <th>Date</th>\n",
       "      <th>Age</th>\n",
       "      <th>Age Category</th>\n",
       "    </tr>\n",
       "  </thead>\n",
       "  <tbody>\n",
       "    <tr>\n",
       "      <th>0</th>\n",
       "      <td>1000011</td>\n",
       "      <td>1953</td>\n",
       "      <td>8</td>\n",
       "      <td>1953-08-01</td>\n",
       "      <td>67</td>\n",
       "      <td>1</td>\n",
       "    </tr>\n",
       "    <tr>\n",
       "      <th>1</th>\n",
       "      <td>1001244</td>\n",
       "      <td>1940</td>\n",
       "      <td>1</td>\n",
       "      <td>1940-01-01</td>\n",
       "      <td>80</td>\n",
       "      <td>2</td>\n",
       "    </tr>\n",
       "    <tr>\n",
       "      <th>2</th>\n",
       "      <td>1001283</td>\n",
       "      <td>1943</td>\n",
       "      <td>10</td>\n",
       "      <td>1943-10-01</td>\n",
       "      <td>77</td>\n",
       "      <td>2</td>\n",
       "    </tr>\n",
       "    <tr>\n",
       "      <th>3</th>\n",
       "      <td>1001505</td>\n",
       "      <td>1952</td>\n",
       "      <td>5</td>\n",
       "      <td>1952-05-01</td>\n",
       "      <td>68</td>\n",
       "      <td>1</td>\n",
       "    </tr>\n",
       "    <tr>\n",
       "      <th>4</th>\n",
       "      <td>1001772</td>\n",
       "      <td>1966</td>\n",
       "      <td>9</td>\n",
       "      <td>1966-09-01</td>\n",
       "      <td>54</td>\n",
       "      <td>0</td>\n",
       "    </tr>\n",
       "  </tbody>\n",
       "</table>\n",
       "</div>"
      ],
      "text/plain": [
       "       eid  Year  Month        Date  Age Age Category\n",
       "0  1000011  1953      8  1953-08-01   67            1\n",
       "1  1001244  1940      1  1940-01-01   80            2\n",
       "2  1001283  1943     10  1943-10-01   77            2\n",
       "3  1001505  1952      5  1952-05-01   68            1\n",
       "4  1001772  1966      9  1966-09-01   54            0"
      ]
     },
     "execution_count": 30,
     "metadata": {},
     "output_type": "execute_result"
    }
   ],
   "source": [
    "age_categorical = pd.cut(bday.Age,bins=[0,60,70,200],labels=['0','1','2'])\n",
    "bday.insert(5,'Age Category',age_categorical)\n",
    "bday.head()"
   ]
  },
  {
   "cell_type": "code",
   "execution_count": 31,
   "metadata": {},
   "outputs": [
    {
     "data": {
      "text/html": [
       "<div>\n",
       "<style scoped>\n",
       "    .dataframe tbody tr th:only-of-type {\n",
       "        vertical-align: middle;\n",
       "    }\n",
       "\n",
       "    .dataframe tbody tr th {\n",
       "        vertical-align: top;\n",
       "    }\n",
       "\n",
       "    .dataframe thead th {\n",
       "        text-align: right;\n",
       "    }\n",
       "</style>\n",
       "<table border=\"1\" class=\"dataframe\">\n",
       "  <thead>\n",
       "    <tr style=\"text-align: right;\">\n",
       "      <th></th>\n",
       "      <th>eid</th>\n",
       "      <th>Instance 0</th>\n",
       "      <th>Instance 1</th>\n",
       "      <th>Instance 2</th>\n",
       "      <th>Instance 3</th>\n",
       "      <th>BMI Category</th>\n",
       "    </tr>\n",
       "  </thead>\n",
       "  <tbody>\n",
       "    <tr>\n",
       "      <th>0</th>\n",
       "      <td>1000011</td>\n",
       "      <td>27.7381</td>\n",
       "      <td>NaN</td>\n",
       "      <td>NaN</td>\n",
       "      <td>NaN</td>\n",
       "      <td>2</td>\n",
       "    </tr>\n",
       "    <tr>\n",
       "      <th>1</th>\n",
       "      <td>1001244</td>\n",
       "      <td>24.8356</td>\n",
       "      <td>NaN</td>\n",
       "      <td>NaN</td>\n",
       "      <td>NaN</td>\n",
       "      <td>1</td>\n",
       "    </tr>\n",
       "    <tr>\n",
       "      <th>2</th>\n",
       "      <td>1001283</td>\n",
       "      <td>32.3028</td>\n",
       "      <td>NaN</td>\n",
       "      <td>NaN</td>\n",
       "      <td>NaN</td>\n",
       "      <td>3</td>\n",
       "    </tr>\n",
       "    <tr>\n",
       "      <th>3</th>\n",
       "      <td>1001505</td>\n",
       "      <td>28.4485</td>\n",
       "      <td>NaN</td>\n",
       "      <td>NaN</td>\n",
       "      <td>NaN</td>\n",
       "      <td>2</td>\n",
       "    </tr>\n",
       "    <tr>\n",
       "      <th>4</th>\n",
       "      <td>1001772</td>\n",
       "      <td>27.2527</td>\n",
       "      <td>NaN</td>\n",
       "      <td>28.2183</td>\n",
       "      <td>NaN</td>\n",
       "      <td>2</td>\n",
       "    </tr>\n",
       "  </tbody>\n",
       "</table>\n",
       "</div>"
      ],
      "text/plain": [
       "       eid  Instance 0  Instance 1  Instance 2  Instance 3 BMI Category\n",
       "0  1000011     27.7381         NaN         NaN         NaN            2\n",
       "1  1001244     24.8356         NaN         NaN         NaN            1\n",
       "2  1001283     32.3028         NaN         NaN         NaN            3\n",
       "3  1001505     28.4485         NaN         NaN         NaN            2\n",
       "4  1001772     27.2527         NaN     28.2183         NaN            2"
      ]
     },
     "execution_count": 31,
     "metadata": {},
     "output_type": "execute_result"
    }
   ],
   "source": [
    "bmi_categorical = pd.cut(bmi['Instance 0'],bins=[0,18.5,25,30,100],labels=['0','1','2','3'])\n",
    "bmi.insert(5,'BMI Category',bmi_categorical)\n",
    "bmi.head()"
   ]
  },
  {
   "cell_type": "code",
   "execution_count": 34,
   "metadata": {},
   "outputs": [
    {
     "data": {
      "text/plain": [
       "2    5530\n",
       "3    4107\n",
       "1    3658\n",
       "0      67\n",
       "Name: BMI Category, dtype: int64"
      ]
     },
     "execution_count": 34,
     "metadata": {},
     "output_type": "execute_result"
    }
   ],
   "source": [
    "bmi['BMI Category'].value_counts()"
   ]
  },
  {
   "cell_type": "markdown",
   "metadata": {},
   "source": [
    "#### Merging the needed columns"
   ]
  },
  {
   "cell_type": "code",
   "execution_count": 35,
   "metadata": {},
   "outputs": [
    {
     "data": {
      "text/html": [
       "<div>\n",
       "<style scoped>\n",
       "    .dataframe tbody tr th:only-of-type {\n",
       "        vertical-align: middle;\n",
       "    }\n",
       "\n",
       "    .dataframe tbody tr th {\n",
       "        vertical-align: top;\n",
       "    }\n",
       "\n",
       "    .dataframe thead th {\n",
       "        text-align: right;\n",
       "    }\n",
       "</style>\n",
       "<table border=\"1\" class=\"dataframe\">\n",
       "  <thead>\n",
       "    <tr style=\"text-align: right;\">\n",
       "      <th></th>\n",
       "      <th>eid</th>\n",
       "      <th>final_result</th>\n",
       "      <th>PC1</th>\n",
       "      <th>PC2</th>\n",
       "      <th>PC3</th>\n",
       "      <th>PC4</th>\n",
       "      <th>PC5</th>\n",
       "      <th>PC6</th>\n",
       "      <th>PC7</th>\n",
       "      <th>PC8</th>\n",
       "      <th>PC9</th>\n",
       "      <th>PC10</th>\n",
       "    </tr>\n",
       "  </thead>\n",
       "  <tbody>\n",
       "    <tr>\n",
       "      <th>0</th>\n",
       "      <td>1000011</td>\n",
       "      <td>0</td>\n",
       "      <td>-0.000460</td>\n",
       "      <td>9.130000e-05</td>\n",
       "      <td>0.000111</td>\n",
       "      <td>-0.000023</td>\n",
       "      <td>0.000104</td>\n",
       "      <td>0.001784</td>\n",
       "      <td>0.000110</td>\n",
       "      <td>-0.001241</td>\n",
       "      <td>-0.003532</td>\n",
       "      <td>0.000406</td>\n",
       "    </tr>\n",
       "    <tr>\n",
       "      <th>1</th>\n",
       "      <td>1001244</td>\n",
       "      <td>0</td>\n",
       "      <td>-0.000431</td>\n",
       "      <td>-3.440000e-05</td>\n",
       "      <td>-0.000792</td>\n",
       "      <td>0.000533</td>\n",
       "      <td>0.001861</td>\n",
       "      <td>-0.000710</td>\n",
       "      <td>0.002938</td>\n",
       "      <td>-0.001525</td>\n",
       "      <td>0.001573</td>\n",
       "      <td>0.000330</td>\n",
       "    </tr>\n",
       "    <tr>\n",
       "      <th>2</th>\n",
       "      <td>1001283</td>\n",
       "      <td>0</td>\n",
       "      <td>-0.000110</td>\n",
       "      <td>9.970000e-07</td>\n",
       "      <td>0.000362</td>\n",
       "      <td>-0.000072</td>\n",
       "      <td>0.000906</td>\n",
       "      <td>0.000183</td>\n",
       "      <td>0.000510</td>\n",
       "      <td>0.001085</td>\n",
       "      <td>-0.001360</td>\n",
       "      <td>0.001036</td>\n",
       "    </tr>\n",
       "    <tr>\n",
       "      <th>3</th>\n",
       "      <td>1001505</td>\n",
       "      <td>0</td>\n",
       "      <td>-0.000268</td>\n",
       "      <td>-7.100000e-05</td>\n",
       "      <td>-0.000457</td>\n",
       "      <td>0.000318</td>\n",
       "      <td>0.000469</td>\n",
       "      <td>-0.000122</td>\n",
       "      <td>-0.000798</td>\n",
       "      <td>0.001494</td>\n",
       "      <td>0.000688</td>\n",
       "      <td>0.000965</td>\n",
       "    </tr>\n",
       "    <tr>\n",
       "      <th>4</th>\n",
       "      <td>1001772</td>\n",
       "      <td>0</td>\n",
       "      <td>-0.000470</td>\n",
       "      <td>7.472130e-04</td>\n",
       "      <td>-0.000736</td>\n",
       "      <td>0.000352</td>\n",
       "      <td>0.000942</td>\n",
       "      <td>-0.002007</td>\n",
       "      <td>0.001409</td>\n",
       "      <td>0.000369</td>\n",
       "      <td>0.001630</td>\n",
       "      <td>-0.000737</td>\n",
       "    </tr>\n",
       "  </tbody>\n",
       "</table>\n",
       "</div>"
      ],
      "text/plain": [
       "       eid  final_result       PC1           PC2       PC3       PC4  \\\n",
       "0  1000011             0 -0.000460  9.130000e-05  0.000111 -0.000023   \n",
       "1  1001244             0 -0.000431 -3.440000e-05 -0.000792  0.000533   \n",
       "2  1001283             0 -0.000110  9.970000e-07  0.000362 -0.000072   \n",
       "3  1001505             0 -0.000268 -7.100000e-05 -0.000457  0.000318   \n",
       "4  1001772             0 -0.000470  7.472130e-04 -0.000736  0.000352   \n",
       "\n",
       "        PC5       PC6       PC7       PC8       PC9      PC10  \n",
       "0  0.000104  0.001784  0.000110 -0.001241 -0.003532  0.000406  \n",
       "1  0.001861 -0.000710  0.002938 -0.001525  0.001573  0.000330  \n",
       "2  0.000906  0.000183  0.000510  0.001085 -0.001360  0.001036  \n",
       "3  0.000469 -0.000122 -0.000798  0.001494  0.000688  0.000965  \n",
       "4  0.000942 -0.002007  0.001409  0.000369  0.001630 -0.000737  "
      ]
     },
     "execution_count": 35,
     "metadata": {},
     "output_type": "execute_result"
    }
   ],
   "source": [
    "modeldata = pd.read_csv(\"../NSinternship/Covid_result_with_PCA.txt\", sep = '\\t')\n",
    "modeldata.head()"
   ]
  },
  {
   "cell_type": "code",
   "execution_count": 36,
   "metadata": {},
   "outputs": [
    {
     "data": {
      "text/html": [
       "<div>\n",
       "<style scoped>\n",
       "    .dataframe tbody tr th:only-of-type {\n",
       "        vertical-align: middle;\n",
       "    }\n",
       "\n",
       "    .dataframe tbody tr th {\n",
       "        vertical-align: top;\n",
       "    }\n",
       "\n",
       "    .dataframe thead th {\n",
       "        text-align: right;\n",
       "    }\n",
       "</style>\n",
       "<table border=\"1\" class=\"dataframe\">\n",
       "  <thead>\n",
       "    <tr style=\"text-align: right;\">\n",
       "      <th></th>\n",
       "      <th>eid</th>\n",
       "      <th>final_result</th>\n",
       "      <th>PC1</th>\n",
       "      <th>PC2</th>\n",
       "      <th>PC3</th>\n",
       "      <th>PC4</th>\n",
       "      <th>PC5</th>\n",
       "      <th>PC6</th>\n",
       "      <th>PC7</th>\n",
       "      <th>PC8</th>\n",
       "      <th>PC9</th>\n",
       "      <th>PC10</th>\n",
       "      <th>Sex</th>\n",
       "    </tr>\n",
       "  </thead>\n",
       "  <tbody>\n",
       "    <tr>\n",
       "      <th>0</th>\n",
       "      <td>1000011</td>\n",
       "      <td>0</td>\n",
       "      <td>-0.000460</td>\n",
       "      <td>9.130000e-05</td>\n",
       "      <td>0.000111</td>\n",
       "      <td>-0.000023</td>\n",
       "      <td>0.000104</td>\n",
       "      <td>0.001784</td>\n",
       "      <td>0.000110</td>\n",
       "      <td>-0.001241</td>\n",
       "      <td>-0.003532</td>\n",
       "      <td>0.000406</td>\n",
       "      <td>0</td>\n",
       "    </tr>\n",
       "    <tr>\n",
       "      <th>1</th>\n",
       "      <td>1001244</td>\n",
       "      <td>0</td>\n",
       "      <td>-0.000431</td>\n",
       "      <td>-3.440000e-05</td>\n",
       "      <td>-0.000792</td>\n",
       "      <td>0.000533</td>\n",
       "      <td>0.001861</td>\n",
       "      <td>-0.000710</td>\n",
       "      <td>0.002938</td>\n",
       "      <td>-0.001525</td>\n",
       "      <td>0.001573</td>\n",
       "      <td>0.000330</td>\n",
       "      <td>1</td>\n",
       "    </tr>\n",
       "    <tr>\n",
       "      <th>2</th>\n",
       "      <td>1001283</td>\n",
       "      <td>0</td>\n",
       "      <td>-0.000110</td>\n",
       "      <td>9.970000e-07</td>\n",
       "      <td>0.000362</td>\n",
       "      <td>-0.000072</td>\n",
       "      <td>0.000906</td>\n",
       "      <td>0.000183</td>\n",
       "      <td>0.000510</td>\n",
       "      <td>0.001085</td>\n",
       "      <td>-0.001360</td>\n",
       "      <td>0.001036</td>\n",
       "      <td>1</td>\n",
       "    </tr>\n",
       "    <tr>\n",
       "      <th>3</th>\n",
       "      <td>1001505</td>\n",
       "      <td>0</td>\n",
       "      <td>-0.000268</td>\n",
       "      <td>-7.100000e-05</td>\n",
       "      <td>-0.000457</td>\n",
       "      <td>0.000318</td>\n",
       "      <td>0.000469</td>\n",
       "      <td>-0.000122</td>\n",
       "      <td>-0.000798</td>\n",
       "      <td>0.001494</td>\n",
       "      <td>0.000688</td>\n",
       "      <td>0.000965</td>\n",
       "      <td>1</td>\n",
       "    </tr>\n",
       "    <tr>\n",
       "      <th>4</th>\n",
       "      <td>1001772</td>\n",
       "      <td>0</td>\n",
       "      <td>-0.000470</td>\n",
       "      <td>7.472130e-04</td>\n",
       "      <td>-0.000736</td>\n",
       "      <td>0.000352</td>\n",
       "      <td>0.000942</td>\n",
       "      <td>-0.002007</td>\n",
       "      <td>0.001409</td>\n",
       "      <td>0.000369</td>\n",
       "      <td>0.001630</td>\n",
       "      <td>-0.000737</td>\n",
       "      <td>1</td>\n",
       "    </tr>\n",
       "  </tbody>\n",
       "</table>\n",
       "</div>"
      ],
      "text/plain": [
       "       eid  final_result       PC1           PC2       PC3       PC4  \\\n",
       "0  1000011             0 -0.000460  9.130000e-05  0.000111 -0.000023   \n",
       "1  1001244             0 -0.000431 -3.440000e-05 -0.000792  0.000533   \n",
       "2  1001283             0 -0.000110  9.970000e-07  0.000362 -0.000072   \n",
       "3  1001505             0 -0.000268 -7.100000e-05 -0.000457  0.000318   \n",
       "4  1001772             0 -0.000470  7.472130e-04 -0.000736  0.000352   \n",
       "\n",
       "        PC5       PC6       PC7       PC8       PC9      PC10  Sex  \n",
       "0  0.000104  0.001784  0.000110 -0.001241 -0.003532  0.000406    0  \n",
       "1  0.001861 -0.000710  0.002938 -0.001525  0.001573  0.000330    1  \n",
       "2  0.000906  0.000183  0.000510  0.001085 -0.001360  0.001036    1  \n",
       "3  0.000469 -0.000122 -0.000798  0.001494  0.000688  0.000965    1  \n",
       "4  0.000942 -0.002007  0.001409  0.000369  0.001630 -0.000737    1  "
      ]
     },
     "execution_count": 36,
     "metadata": {},
     "output_type": "execute_result"
    }
   ],
   "source": [
    "modeldata = modeldata.merge(sex, left_on='eid', right_on='eid')\n",
    "modeldata.head()"
   ]
  },
  {
   "cell_type": "code",
   "execution_count": 37,
   "metadata": {},
   "outputs": [
    {
     "data": {
      "text/html": [
       "<div>\n",
       "<style scoped>\n",
       "    .dataframe tbody tr th:only-of-type {\n",
       "        vertical-align: middle;\n",
       "    }\n",
       "\n",
       "    .dataframe tbody tr th {\n",
       "        vertical-align: top;\n",
       "    }\n",
       "\n",
       "    .dataframe thead th {\n",
       "        text-align: right;\n",
       "    }\n",
       "</style>\n",
       "<table border=\"1\" class=\"dataframe\">\n",
       "  <thead>\n",
       "    <tr style=\"text-align: right;\">\n",
       "      <th></th>\n",
       "      <th>eid</th>\n",
       "      <th>final_result</th>\n",
       "      <th>PC1</th>\n",
       "      <th>PC2</th>\n",
       "      <th>PC3</th>\n",
       "      <th>PC4</th>\n",
       "      <th>PC5</th>\n",
       "      <th>PC6</th>\n",
       "      <th>PC7</th>\n",
       "      <th>PC8</th>\n",
       "      <th>PC9</th>\n",
       "      <th>PC10</th>\n",
       "      <th>Sex</th>\n",
       "      <th>Age Category</th>\n",
       "    </tr>\n",
       "  </thead>\n",
       "  <tbody>\n",
       "    <tr>\n",
       "      <th>0</th>\n",
       "      <td>1000011</td>\n",
       "      <td>0</td>\n",
       "      <td>-0.000460</td>\n",
       "      <td>9.130000e-05</td>\n",
       "      <td>0.000111</td>\n",
       "      <td>-0.000023</td>\n",
       "      <td>0.000104</td>\n",
       "      <td>0.001784</td>\n",
       "      <td>0.000110</td>\n",
       "      <td>-0.001241</td>\n",
       "      <td>-0.003532</td>\n",
       "      <td>0.000406</td>\n",
       "      <td>0</td>\n",
       "      <td>1</td>\n",
       "    </tr>\n",
       "    <tr>\n",
       "      <th>1</th>\n",
       "      <td>1001244</td>\n",
       "      <td>0</td>\n",
       "      <td>-0.000431</td>\n",
       "      <td>-3.440000e-05</td>\n",
       "      <td>-0.000792</td>\n",
       "      <td>0.000533</td>\n",
       "      <td>0.001861</td>\n",
       "      <td>-0.000710</td>\n",
       "      <td>0.002938</td>\n",
       "      <td>-0.001525</td>\n",
       "      <td>0.001573</td>\n",
       "      <td>0.000330</td>\n",
       "      <td>1</td>\n",
       "      <td>2</td>\n",
       "    </tr>\n",
       "    <tr>\n",
       "      <th>2</th>\n",
       "      <td>1001283</td>\n",
       "      <td>0</td>\n",
       "      <td>-0.000110</td>\n",
       "      <td>9.970000e-07</td>\n",
       "      <td>0.000362</td>\n",
       "      <td>-0.000072</td>\n",
       "      <td>0.000906</td>\n",
       "      <td>0.000183</td>\n",
       "      <td>0.000510</td>\n",
       "      <td>0.001085</td>\n",
       "      <td>-0.001360</td>\n",
       "      <td>0.001036</td>\n",
       "      <td>1</td>\n",
       "      <td>2</td>\n",
       "    </tr>\n",
       "    <tr>\n",
       "      <th>3</th>\n",
       "      <td>1001505</td>\n",
       "      <td>0</td>\n",
       "      <td>-0.000268</td>\n",
       "      <td>-7.100000e-05</td>\n",
       "      <td>-0.000457</td>\n",
       "      <td>0.000318</td>\n",
       "      <td>0.000469</td>\n",
       "      <td>-0.000122</td>\n",
       "      <td>-0.000798</td>\n",
       "      <td>0.001494</td>\n",
       "      <td>0.000688</td>\n",
       "      <td>0.000965</td>\n",
       "      <td>1</td>\n",
       "      <td>1</td>\n",
       "    </tr>\n",
       "    <tr>\n",
       "      <th>4</th>\n",
       "      <td>1001772</td>\n",
       "      <td>0</td>\n",
       "      <td>-0.000470</td>\n",
       "      <td>7.472130e-04</td>\n",
       "      <td>-0.000736</td>\n",
       "      <td>0.000352</td>\n",
       "      <td>0.000942</td>\n",
       "      <td>-0.002007</td>\n",
       "      <td>0.001409</td>\n",
       "      <td>0.000369</td>\n",
       "      <td>0.001630</td>\n",
       "      <td>-0.000737</td>\n",
       "      <td>1</td>\n",
       "      <td>0</td>\n",
       "    </tr>\n",
       "  </tbody>\n",
       "</table>\n",
       "</div>"
      ],
      "text/plain": [
       "       eid  final_result       PC1           PC2       PC3       PC4  \\\n",
       "0  1000011             0 -0.000460  9.130000e-05  0.000111 -0.000023   \n",
       "1  1001244             0 -0.000431 -3.440000e-05 -0.000792  0.000533   \n",
       "2  1001283             0 -0.000110  9.970000e-07  0.000362 -0.000072   \n",
       "3  1001505             0 -0.000268 -7.100000e-05 -0.000457  0.000318   \n",
       "4  1001772             0 -0.000470  7.472130e-04 -0.000736  0.000352   \n",
       "\n",
       "        PC5       PC6       PC7       PC8       PC9      PC10  Sex  \\\n",
       "0  0.000104  0.001784  0.000110 -0.001241 -0.003532  0.000406    0   \n",
       "1  0.001861 -0.000710  0.002938 -0.001525  0.001573  0.000330    1   \n",
       "2  0.000906  0.000183  0.000510  0.001085 -0.001360  0.001036    1   \n",
       "3  0.000469 -0.000122 -0.000798  0.001494  0.000688  0.000965    1   \n",
       "4  0.000942 -0.002007  0.001409  0.000369  0.001630 -0.000737    1   \n",
       "\n",
       "  Age Category  \n",
       "0            1  \n",
       "1            2  \n",
       "2            2  \n",
       "3            1  \n",
       "4            0  "
      ]
     },
     "execution_count": 37,
     "metadata": {},
     "output_type": "execute_result"
    }
   ],
   "source": [
    "modeldata = modeldata.merge(bday, left_on='eid', right_on='eid').drop(['Year', 'Month', 'Date', 'Age'], axis=1)\n",
    "modeldata.head()"
   ]
  },
  {
   "cell_type": "code",
   "execution_count": 38,
   "metadata": {},
   "outputs": [
    {
     "data": {
      "text/html": [
       "<div>\n",
       "<style scoped>\n",
       "    .dataframe tbody tr th:only-of-type {\n",
       "        vertical-align: middle;\n",
       "    }\n",
       "\n",
       "    .dataframe tbody tr th {\n",
       "        vertical-align: top;\n",
       "    }\n",
       "\n",
       "    .dataframe thead th {\n",
       "        text-align: right;\n",
       "    }\n",
       "</style>\n",
       "<table border=\"1\" class=\"dataframe\">\n",
       "  <thead>\n",
       "    <tr style=\"text-align: right;\">\n",
       "      <th></th>\n",
       "      <th>eid</th>\n",
       "      <th>final_result</th>\n",
       "      <th>PC1</th>\n",
       "      <th>PC2</th>\n",
       "      <th>PC3</th>\n",
       "      <th>PC4</th>\n",
       "      <th>PC5</th>\n",
       "      <th>PC6</th>\n",
       "      <th>PC7</th>\n",
       "      <th>PC8</th>\n",
       "      <th>PC9</th>\n",
       "      <th>PC10</th>\n",
       "      <th>Sex</th>\n",
       "      <th>Age Category</th>\n",
       "      <th>BMI Category</th>\n",
       "    </tr>\n",
       "  </thead>\n",
       "  <tbody>\n",
       "    <tr>\n",
       "      <th>0</th>\n",
       "      <td>1000011</td>\n",
       "      <td>0</td>\n",
       "      <td>-0.000460</td>\n",
       "      <td>9.130000e-05</td>\n",
       "      <td>0.000111</td>\n",
       "      <td>-0.000023</td>\n",
       "      <td>0.000104</td>\n",
       "      <td>0.001784</td>\n",
       "      <td>0.000110</td>\n",
       "      <td>-0.001241</td>\n",
       "      <td>-0.003532</td>\n",
       "      <td>0.000406</td>\n",
       "      <td>0</td>\n",
       "      <td>1</td>\n",
       "      <td>2</td>\n",
       "    </tr>\n",
       "    <tr>\n",
       "      <th>1</th>\n",
       "      <td>1001244</td>\n",
       "      <td>0</td>\n",
       "      <td>-0.000431</td>\n",
       "      <td>-3.440000e-05</td>\n",
       "      <td>-0.000792</td>\n",
       "      <td>0.000533</td>\n",
       "      <td>0.001861</td>\n",
       "      <td>-0.000710</td>\n",
       "      <td>0.002938</td>\n",
       "      <td>-0.001525</td>\n",
       "      <td>0.001573</td>\n",
       "      <td>0.000330</td>\n",
       "      <td>1</td>\n",
       "      <td>2</td>\n",
       "      <td>1</td>\n",
       "    </tr>\n",
       "    <tr>\n",
       "      <th>2</th>\n",
       "      <td>1001283</td>\n",
       "      <td>0</td>\n",
       "      <td>-0.000110</td>\n",
       "      <td>9.970000e-07</td>\n",
       "      <td>0.000362</td>\n",
       "      <td>-0.000072</td>\n",
       "      <td>0.000906</td>\n",
       "      <td>0.000183</td>\n",
       "      <td>0.000510</td>\n",
       "      <td>0.001085</td>\n",
       "      <td>-0.001360</td>\n",
       "      <td>0.001036</td>\n",
       "      <td>1</td>\n",
       "      <td>2</td>\n",
       "      <td>3</td>\n",
       "    </tr>\n",
       "    <tr>\n",
       "      <th>3</th>\n",
       "      <td>1001505</td>\n",
       "      <td>0</td>\n",
       "      <td>-0.000268</td>\n",
       "      <td>-7.100000e-05</td>\n",
       "      <td>-0.000457</td>\n",
       "      <td>0.000318</td>\n",
       "      <td>0.000469</td>\n",
       "      <td>-0.000122</td>\n",
       "      <td>-0.000798</td>\n",
       "      <td>0.001494</td>\n",
       "      <td>0.000688</td>\n",
       "      <td>0.000965</td>\n",
       "      <td>1</td>\n",
       "      <td>1</td>\n",
       "      <td>2</td>\n",
       "    </tr>\n",
       "    <tr>\n",
       "      <th>4</th>\n",
       "      <td>1001772</td>\n",
       "      <td>0</td>\n",
       "      <td>-0.000470</td>\n",
       "      <td>7.472130e-04</td>\n",
       "      <td>-0.000736</td>\n",
       "      <td>0.000352</td>\n",
       "      <td>0.000942</td>\n",
       "      <td>-0.002007</td>\n",
       "      <td>0.001409</td>\n",
       "      <td>0.000369</td>\n",
       "      <td>0.001630</td>\n",
       "      <td>-0.000737</td>\n",
       "      <td>1</td>\n",
       "      <td>0</td>\n",
       "      <td>2</td>\n",
       "    </tr>\n",
       "  </tbody>\n",
       "</table>\n",
       "</div>"
      ],
      "text/plain": [
       "       eid  final_result       PC1           PC2       PC3       PC4  \\\n",
       "0  1000011             0 -0.000460  9.130000e-05  0.000111 -0.000023   \n",
       "1  1001244             0 -0.000431 -3.440000e-05 -0.000792  0.000533   \n",
       "2  1001283             0 -0.000110  9.970000e-07  0.000362 -0.000072   \n",
       "3  1001505             0 -0.000268 -7.100000e-05 -0.000457  0.000318   \n",
       "4  1001772             0 -0.000470  7.472130e-04 -0.000736  0.000352   \n",
       "\n",
       "        PC5       PC6       PC7       PC8       PC9      PC10  Sex  \\\n",
       "0  0.000104  0.001784  0.000110 -0.001241 -0.003532  0.000406    0   \n",
       "1  0.001861 -0.000710  0.002938 -0.001525  0.001573  0.000330    1   \n",
       "2  0.000906  0.000183  0.000510  0.001085 -0.001360  0.001036    1   \n",
       "3  0.000469 -0.000122 -0.000798  0.001494  0.000688  0.000965    1   \n",
       "4  0.000942 -0.002007  0.001409  0.000369  0.001630 -0.000737    1   \n",
       "\n",
       "  Age Category BMI Category  \n",
       "0            1            2  \n",
       "1            2            1  \n",
       "2            2            3  \n",
       "3            1            2  \n",
       "4            0            2  "
      ]
     },
     "execution_count": 38,
     "metadata": {},
     "output_type": "execute_result"
    }
   ],
   "source": [
    "modeldata = modeldata.merge(bmi, left_on='eid', right_on='eid').drop(['Instance 0', 'Instance 1', 'Instance 2', 'Instance 3'], axis=1)\n",
    "modeldata.head()"
   ]
  },
  {
   "cell_type": "code",
   "execution_count": 39,
   "metadata": {},
   "outputs": [
    {
     "data": {
      "text/html": [
       "<div>\n",
       "<style scoped>\n",
       "    .dataframe tbody tr th:only-of-type {\n",
       "        vertical-align: middle;\n",
       "    }\n",
       "\n",
       "    .dataframe tbody tr th {\n",
       "        vertical-align: top;\n",
       "    }\n",
       "\n",
       "    .dataframe thead th {\n",
       "        text-align: right;\n",
       "    }\n",
       "</style>\n",
       "<table border=\"1\" class=\"dataframe\">\n",
       "  <thead>\n",
       "    <tr style=\"text-align: right;\">\n",
       "      <th></th>\n",
       "      <th>final_result</th>\n",
       "      <th>PC1</th>\n",
       "      <th>PC2</th>\n",
       "      <th>PC3</th>\n",
       "      <th>PC4</th>\n",
       "      <th>PC5</th>\n",
       "      <th>PC6</th>\n",
       "      <th>PC7</th>\n",
       "      <th>PC8</th>\n",
       "      <th>PC9</th>\n",
       "      <th>PC10</th>\n",
       "      <th>Sex</th>\n",
       "      <th>Age Category</th>\n",
       "      <th>BMI Category</th>\n",
       "    </tr>\n",
       "    <tr>\n",
       "      <th>eid</th>\n",
       "      <th></th>\n",
       "      <th></th>\n",
       "      <th></th>\n",
       "      <th></th>\n",
       "      <th></th>\n",
       "      <th></th>\n",
       "      <th></th>\n",
       "      <th></th>\n",
       "      <th></th>\n",
       "      <th></th>\n",
       "      <th></th>\n",
       "      <th></th>\n",
       "      <th></th>\n",
       "      <th></th>\n",
       "    </tr>\n",
       "  </thead>\n",
       "  <tbody>\n",
       "    <tr>\n",
       "      <th>1000011</th>\n",
       "      <td>0</td>\n",
       "      <td>-0.000460</td>\n",
       "      <td>9.130000e-05</td>\n",
       "      <td>0.000111</td>\n",
       "      <td>-0.000023</td>\n",
       "      <td>0.000104</td>\n",
       "      <td>0.001784</td>\n",
       "      <td>0.000110</td>\n",
       "      <td>-0.001241</td>\n",
       "      <td>-0.003532</td>\n",
       "      <td>0.000406</td>\n",
       "      <td>0</td>\n",
       "      <td>1</td>\n",
       "      <td>2</td>\n",
       "    </tr>\n",
       "    <tr>\n",
       "      <th>1001244</th>\n",
       "      <td>0</td>\n",
       "      <td>-0.000431</td>\n",
       "      <td>-3.440000e-05</td>\n",
       "      <td>-0.000792</td>\n",
       "      <td>0.000533</td>\n",
       "      <td>0.001861</td>\n",
       "      <td>-0.000710</td>\n",
       "      <td>0.002938</td>\n",
       "      <td>-0.001525</td>\n",
       "      <td>0.001573</td>\n",
       "      <td>0.000330</td>\n",
       "      <td>1</td>\n",
       "      <td>2</td>\n",
       "      <td>1</td>\n",
       "    </tr>\n",
       "    <tr>\n",
       "      <th>1001283</th>\n",
       "      <td>0</td>\n",
       "      <td>-0.000110</td>\n",
       "      <td>9.970000e-07</td>\n",
       "      <td>0.000362</td>\n",
       "      <td>-0.000072</td>\n",
       "      <td>0.000906</td>\n",
       "      <td>0.000183</td>\n",
       "      <td>0.000510</td>\n",
       "      <td>0.001085</td>\n",
       "      <td>-0.001360</td>\n",
       "      <td>0.001036</td>\n",
       "      <td>1</td>\n",
       "      <td>2</td>\n",
       "      <td>3</td>\n",
       "    </tr>\n",
       "    <tr>\n",
       "      <th>1001505</th>\n",
       "      <td>0</td>\n",
       "      <td>-0.000268</td>\n",
       "      <td>-7.100000e-05</td>\n",
       "      <td>-0.000457</td>\n",
       "      <td>0.000318</td>\n",
       "      <td>0.000469</td>\n",
       "      <td>-0.000122</td>\n",
       "      <td>-0.000798</td>\n",
       "      <td>0.001494</td>\n",
       "      <td>0.000688</td>\n",
       "      <td>0.000965</td>\n",
       "      <td>1</td>\n",
       "      <td>1</td>\n",
       "      <td>2</td>\n",
       "    </tr>\n",
       "    <tr>\n",
       "      <th>1001772</th>\n",
       "      <td>0</td>\n",
       "      <td>-0.000470</td>\n",
       "      <td>7.472130e-04</td>\n",
       "      <td>-0.000736</td>\n",
       "      <td>0.000352</td>\n",
       "      <td>0.000942</td>\n",
       "      <td>-0.002007</td>\n",
       "      <td>0.001409</td>\n",
       "      <td>0.000369</td>\n",
       "      <td>0.001630</td>\n",
       "      <td>-0.000737</td>\n",
       "      <td>1</td>\n",
       "      <td>0</td>\n",
       "      <td>2</td>\n",
       "    </tr>\n",
       "  </tbody>\n",
       "</table>\n",
       "</div>"
      ],
      "text/plain": [
       "         final_result       PC1           PC2       PC3       PC4       PC5  \\\n",
       "eid                                                                           \n",
       "1000011             0 -0.000460  9.130000e-05  0.000111 -0.000023  0.000104   \n",
       "1001244             0 -0.000431 -3.440000e-05 -0.000792  0.000533  0.001861   \n",
       "1001283             0 -0.000110  9.970000e-07  0.000362 -0.000072  0.000906   \n",
       "1001505             0 -0.000268 -7.100000e-05 -0.000457  0.000318  0.000469   \n",
       "1001772             0 -0.000470  7.472130e-04 -0.000736  0.000352  0.000942   \n",
       "\n",
       "              PC6       PC7       PC8       PC9      PC10  Sex Age Category  \\\n",
       "eid                                                                           \n",
       "1000011  0.001784  0.000110 -0.001241 -0.003532  0.000406    0            1   \n",
       "1001244 -0.000710  0.002938 -0.001525  0.001573  0.000330    1            2   \n",
       "1001283  0.000183  0.000510  0.001085 -0.001360  0.001036    1            2   \n",
       "1001505 -0.000122 -0.000798  0.001494  0.000688  0.000965    1            1   \n",
       "1001772 -0.002007  0.001409  0.000369  0.001630 -0.000737    1            0   \n",
       "\n",
       "        BMI Category  \n",
       "eid                   \n",
       "1000011            2  \n",
       "1001244            1  \n",
       "1001283            3  \n",
       "1001505            2  \n",
       "1001772            2  "
      ]
     },
     "execution_count": 39,
     "metadata": {},
     "output_type": "execute_result"
    }
   ],
   "source": [
    "modeldata = modeldata.set_index('eid')\n",
    "modeldata.head()"
   ]
  },
  {
   "cell_type": "code",
   "execution_count": 40,
   "metadata": {},
   "outputs": [
    {
     "data": {
      "text/plain": [
       "<matplotlib.axes._subplots.AxesSubplot at 0x10a9e4d82e8>"
      ]
     },
     "execution_count": 40,
     "metadata": {},
     "output_type": "execute_result"
    },
    {
     "data": {
      "image/png": "[encoded data removed]",
      "text/plain": [
       "<Figure size 432x288 with 1 Axes>"
      ]
     },
     "metadata": {
      "needs_background": "light"
     },
     "output_type": "display_data"
    }
   ],
   "source": [
    "modeldata['final_result'].value_counts().plot(kind='bar')\n",
    "# Imbalanced data, resampling techniques?"
   ]
  },
  {
   "cell_type": "code",
   "execution_count": 52,
   "metadata": {},
   "outputs": [
    {
     "name": "stdout",
     "output_type": "stream",
     "text": [
      "(12941, 14)\n"
     ]
    },
    {
     "data": {
      "text/plain": [
       "(12941, 14)"
      ]
     },
     "execution_count": 52,
     "metadata": {},
     "output_type": "execute_result"
    }
   ],
   "source": [
    "print(modeldata.shape)\n",
    "modeldata = modeldata.dropna()\n",
    "modeldata.shape"
   ]
  },
  {
   "cell_type": "markdown",
   "metadata": {},
   "source": [
    "#### Train test split"
   ]
  },
  {
   "cell_type": "code",
   "execution_count": 54,
   "metadata": {},
   "outputs": [
    {
     "data": {
      "text/html": [
       "<div>\n",
       "<style scoped>\n",
       "    .dataframe tbody tr th:only-of-type {\n",
       "        vertical-align: middle;\n",
       "    }\n",
       "\n",
       "    .dataframe tbody tr th {\n",
       "        vertical-align: top;\n",
       "    }\n",
       "\n",
       "    .dataframe thead th {\n",
       "        text-align: right;\n",
       "    }\n",
       "</style>\n",
       "<table border=\"1\" class=\"dataframe\">\n",
       "  <thead>\n",
       "    <tr style=\"text-align: right;\">\n",
       "      <th></th>\n",
       "      <th>final_result</th>\n",
       "      <th>PC1</th>\n",
       "      <th>PC2</th>\n",
       "      <th>PC3</th>\n",
       "      <th>PC4</th>\n",
       "      <th>PC5</th>\n",
       "      <th>PC6</th>\n",
       "      <th>PC7</th>\n",
       "      <th>PC8</th>\n",
       "      <th>PC9</th>\n",
       "      <th>PC10</th>\n",
       "      <th>Sex</th>\n",
       "      <th>Age Category</th>\n",
       "      <th>BMI Category</th>\n",
       "    </tr>\n",
       "    <tr>\n",
       "      <th>eid</th>\n",
       "      <th></th>\n",
       "      <th></th>\n",
       "      <th></th>\n",
       "      <th></th>\n",
       "      <th></th>\n",
       "      <th></th>\n",
       "      <th></th>\n",
       "      <th></th>\n",
       "      <th></th>\n",
       "      <th></th>\n",
       "      <th></th>\n",
       "      <th></th>\n",
       "      <th></th>\n",
       "      <th></th>\n",
       "    </tr>\n",
       "  </thead>\n",
       "  <tbody>\n",
       "    <tr>\n",
       "      <th>1000011</th>\n",
       "      <td>0</td>\n",
       "      <td>-0.000460</td>\n",
       "      <td>9.130000e-05</td>\n",
       "      <td>0.000111</td>\n",
       "      <td>-0.000023</td>\n",
       "      <td>0.000104</td>\n",
       "      <td>0.001784</td>\n",
       "      <td>0.000110</td>\n",
       "      <td>-0.001241</td>\n",
       "      <td>-0.003532</td>\n",
       "      <td>0.000406</td>\n",
       "      <td>0</td>\n",
       "      <td>1</td>\n",
       "      <td>2</td>\n",
       "    </tr>\n",
       "    <tr>\n",
       "      <th>1001244</th>\n",
       "      <td>0</td>\n",
       "      <td>-0.000431</td>\n",
       "      <td>-3.440000e-05</td>\n",
       "      <td>-0.000792</td>\n",
       "      <td>0.000533</td>\n",
       "      <td>0.001861</td>\n",
       "      <td>-0.000710</td>\n",
       "      <td>0.002938</td>\n",
       "      <td>-0.001525</td>\n",
       "      <td>0.001573</td>\n",
       "      <td>0.000330</td>\n",
       "      <td>1</td>\n",
       "      <td>2</td>\n",
       "      <td>1</td>\n",
       "    </tr>\n",
       "    <tr>\n",
       "      <th>1001283</th>\n",
       "      <td>0</td>\n",
       "      <td>-0.000110</td>\n",
       "      <td>9.970000e-07</td>\n",
       "      <td>0.000362</td>\n",
       "      <td>-0.000072</td>\n",
       "      <td>0.000906</td>\n",
       "      <td>0.000183</td>\n",
       "      <td>0.000510</td>\n",
       "      <td>0.001085</td>\n",
       "      <td>-0.001360</td>\n",
       "      <td>0.001036</td>\n",
       "      <td>1</td>\n",
       "      <td>2</td>\n",
       "      <td>3</td>\n",
       "    </tr>\n",
       "    <tr>\n",
       "      <th>1001505</th>\n",
       "      <td>0</td>\n",
       "      <td>-0.000268</td>\n",
       "      <td>-7.100000e-05</td>\n",
       "      <td>-0.000457</td>\n",
       "      <td>0.000318</td>\n",
       "      <td>0.000469</td>\n",
       "      <td>-0.000122</td>\n",
       "      <td>-0.000798</td>\n",
       "      <td>0.001494</td>\n",
       "      <td>0.000688</td>\n",
       "      <td>0.000965</td>\n",
       "      <td>1</td>\n",
       "      <td>1</td>\n",
       "      <td>2</td>\n",
       "    </tr>\n",
       "    <tr>\n",
       "      <th>1001772</th>\n",
       "      <td>0</td>\n",
       "      <td>-0.000470</td>\n",
       "      <td>7.472130e-04</td>\n",
       "      <td>-0.000736</td>\n",
       "      <td>0.000352</td>\n",
       "      <td>0.000942</td>\n",
       "      <td>-0.002007</td>\n",
       "      <td>0.001409</td>\n",
       "      <td>0.000369</td>\n",
       "      <td>0.001630</td>\n",
       "      <td>-0.000737</td>\n",
       "      <td>1</td>\n",
       "      <td>0</td>\n",
       "      <td>2</td>\n",
       "    </tr>\n",
       "  </tbody>\n",
       "</table>\n",
       "</div>"
      ],
      "text/plain": [
       "         final_result       PC1           PC2       PC3       PC4       PC5  \\\n",
       "eid                                                                           \n",
       "1000011             0 -0.000460  9.130000e-05  0.000111 -0.000023  0.000104   \n",
       "1001244             0 -0.000431 -3.440000e-05 -0.000792  0.000533  0.001861   \n",
       "1001283             0 -0.000110  9.970000e-07  0.000362 -0.000072  0.000906   \n",
       "1001505             0 -0.000268 -7.100000e-05 -0.000457  0.000318  0.000469   \n",
       "1001772             0 -0.000470  7.472130e-04 -0.000736  0.000352  0.000942   \n",
       "\n",
       "              PC6       PC7       PC8       PC9      PC10  Sex Age Category  \\\n",
       "eid                                                                           \n",
       "1000011  0.001784  0.000110 -0.001241 -0.003532  0.000406    0            1   \n",
       "1001244 -0.000710  0.002938 -0.001525  0.001573  0.000330    1            2   \n",
       "1001283  0.000183  0.000510  0.001085 -0.001360  0.001036    1            2   \n",
       "1001505 -0.000122 -0.000798  0.001494  0.000688  0.000965    1            1   \n",
       "1001772 -0.002007  0.001409  0.000369  0.001630 -0.000737    1            0   \n",
       "\n",
       "        BMI Category  \n",
       "eid                   \n",
       "1000011            2  \n",
       "1001244            1  \n",
       "1001283            3  \n",
       "1001505            2  \n",
       "1001772            2  "
      ]
     },
     "execution_count": 54,
     "metadata": {},
     "output_type": "execute_result"
    }
   ],
   "source": [
    "from sklearn.model_selection import train_test_split\n",
    "\n",
    "X = modeldata.loc[:, modeldata.columns != 'final_result']\n",
    "y = modeldata.loc[:, modeldata.columns == 'final_result']\n",
    "\n",
    "X_train, X_test, y_train, y_test = train_test_split(X, y, test_size=0.25, random_state=0)\n",
    "\n",
    "modeldata.head()"
   ]
  },
  {
   "cell_type": "code",
   "execution_count": 55,
   "metadata": {},
   "outputs": [
    {
     "data": {
      "text/plain": [
       "final_result    0\n",
       "PC1             0\n",
       "PC2             0\n",
       "PC3             0\n",
       "PC4             0\n",
       "PC5             0\n",
       "PC6             0\n",
       "PC7             0\n",
       "PC8             0\n",
       "PC9             0\n",
       "PC10            0\n",
       "Sex             0\n",
       "Age Category    0\n",
       "BMI Category    0\n",
       "dtype: int64"
      ]
     },
     "execution_count": 55,
     "metadata": {},
     "output_type": "execute_result"
    }
   ],
   "source": [
    "pd.isna(modeldata).sum()\n",
    "\n",
    "# How is there NAN in BMI category?"
   ]
  },
  {
   "cell_type": "markdown",
   "metadata": {},
   "source": [
    "#### Resample the data"
   ]
  },
  {
   "cell_type": "code",
   "execution_count": 56,
   "metadata": {},
   "outputs": [
    {
     "name": "stderr",
     "output_type": "stream",
     "text": [
      "Using TensorFlow backend.\n",
      "E:\\Anaconda3\\lib\\site-packages\\tensorflow\\python\\framework\\dtypes.py:526: FutureWarning: Passing (type, 1) or '1type' as a synonym of type is deprecated; in a future version of numpy, it will be understood as (type, (1,)) / '(1,)type'.\n",
      "  _np_qint8 = np.dtype([(\"qint8\", np.int8, 1)])\n",
      "E:\\Anaconda3\\lib\\site-packages\\tensorflow\\python\\framework\\dtypes.py:527: FutureWarning: Passing (type, 1) or '1type' as a synonym of type is deprecated; in a future version of numpy, it will be understood as (type, (1,)) / '(1,)type'.\n",
      "  _np_quint8 = np.dtype([(\"quint8\", np.uint8, 1)])\n",
      "E:\\Anaconda3\\lib\\site-packages\\tensorflow\\python\\framework\\dtypes.py:528: FutureWarning: Passing (type, 1) or '1type' as a synonym of type is deprecated; in a future version of numpy, it will be understood as (type, (1,)) / '(1,)type'.\n",
      "  _np_qint16 = np.dtype([(\"qint16\", np.int16, 1)])\n",
      "E:\\Anaconda3\\lib\\site-packages\\tensorflow\\python\\framework\\dtypes.py:529: FutureWarning: Passing (type, 1) or '1type' as a synonym of type is deprecated; in a future version of numpy, it will be understood as (type, (1,)) / '(1,)type'.\n",
      "  _np_quint16 = np.dtype([(\"quint16\", np.uint16, 1)])\n",
      "E:\\Anaconda3\\lib\\site-packages\\tensorflow\\python\\framework\\dtypes.py:530: FutureWarning: Passing (type, 1) or '1type' as a synonym of type is deprecated; in a future version of numpy, it will be understood as (type, (1,)) / '(1,)type'.\n",
      "  _np_qint32 = np.dtype([(\"qint32\", np.int32, 1)])\n",
      "E:\\Anaconda3\\lib\\site-packages\\tensorflow\\python\\framework\\dtypes.py:535: FutureWarning: Passing (type, 1) or '1type' as a synonym of type is deprecated; in a future version of numpy, it will be understood as (type, (1,)) / '(1,)type'.\n",
      "  np_resource = np.dtype([(\"resource\", np.ubyte, 1)])\n"
     ]
    }
   ],
   "source": [
    "from imblearn.over_sampling import SMOTE"
   ]
  },
  {
   "cell_type": "code",
   "execution_count": 57,
   "metadata": {},
   "outputs": [
    {
     "name": "stdout",
     "output_type": "stream",
     "text": [
      "[ True  True  True  True  True  True  True  True  True  True  True  True\n",
      "  True]\n",
      "[1 1 1 1 1 1 1 1 1 1 1 1 1]\n"
     ]
    }
   ],
   "source": [
    "from sklearn.feature_selection import RFE\n",
    "from sklearn.linear_model import LogisticRegression\n",
    "\n",
    "logreg = LogisticRegression()\n",
    "\n",
    "rfe = RFE(logreg, 20)\n",
    "rfe = rfe.fit(X_train, y_train.values.ravel())\n",
    "print(rfe.support_)\n",
    "print(rfe.ranking_)"
   ]
  },
  {
   "cell_type": "markdown",
   "metadata": {},
   "source": [
    "#### Logistic Regression"
   ]
  },
  {
   "cell_type": "code",
   "execution_count": 60,
   "metadata": {},
   "outputs": [
    {
     "name": "stdout",
     "output_type": "stream",
     "text": [
      "Optimization terminated successfully.\n",
      "         Current function value: 0.386179\n",
      "         Iterations 8\n",
      "                          Results: Logit\n",
      "==================================================================\n",
      "Model:                Logit            Pseudo R-squared: -0.041   \n",
      "Dependent Variable:   final_result     AIC:              7521.7288\n",
      "Date:                 2020-10-10 00:03 BIC:              7615.0740\n",
      "No. Observations:     9705             Log-Likelihood:   -3747.9  \n",
      "Df Model:             12               LL-Null:          -3599.5  \n",
      "Df Residuals:         9692             LLR p-value:      1.0000   \n",
      "Converged:            1.0000           Scale:            1.0000   \n",
      "No. Iterations:       8.0000                                      \n",
      "------------------------------------------------------------------\n",
      "               Coef.   Std.Err.    z     P>|z|    [0.025   0.975] \n",
      "------------------------------------------------------------------\n",
      "PC1            96.8690  20.2825   4.7760 0.0000   57.1160 136.6219\n",
      "PC2           -52.5519  24.1721  -2.1741 0.0297  -99.9284  -5.1754\n",
      "PC3           -67.4239  40.8218  -1.6517 0.0986 -147.4331  12.5853\n",
      "PC4          -223.0572 103.2562  -2.1602 0.0308 -425.4356 -20.6788\n",
      "PC5            19.2230  20.2574   0.9489 0.3427  -20.4807  58.9267\n",
      "PC6            31.2516  21.5544   1.4499 0.1471  -10.9942  73.4975\n",
      "PC7            13.1218  21.3050   0.6159 0.5380  -28.6352  54.8788\n",
      "PC8           -14.6711  21.1451  -0.6938 0.4878  -56.1147  26.7725\n",
      "PC9            29.9620  20.9843   1.4278 0.1533  -11.1664  71.0904\n",
      "PC10           -5.7948  21.0785  -0.2749 0.7834  -47.1079  35.5183\n",
      "Sex            -0.0242   0.0597  -0.4043 0.6860   -0.1413   0.0929\n",
      "Age Category   -0.6041   0.0331 -18.2686 0.0000   -0.6689  -0.5393\n",
      "BMI Category   -0.5414   0.0250 -21.6848 0.0000   -0.5903  -0.4924\n",
      "==================================================================\n",
      "\n"
     ]
    }
   ],
   "source": [
    "import statsmodels.api as sm\n",
    "logit_model=sm.Logit(y_train,X_train.astype(float))\n",
    "\n",
    "result=logit_model.fit()\n",
    "\n",
    "print(result.summary2())"
   ]
  },
  {
   "cell_type": "markdown",
   "metadata": {},
   "source": [
    "Here from the above model, we can see that PC3, 5, 6, 7, 8, 9, 10 and sex all have p-values greater than 0.05, which means they are not statistically significant."
   ]
  },
  {
   "cell_type": "code",
   "execution_count": 62,
   "metadata": {},
   "outputs": [],
   "source": [
    "cols = ['PC1', 'PC2', 'PC4', 'Age Category', 'BMI Category']\n",
    "\n",
    "X_train = X_train[cols]"
   ]
  },
  {
   "cell_type": "code",
   "execution_count": 68,
   "metadata": {},
   "outputs": [
    {
     "name": "stdout",
     "output_type": "stream",
     "text": [
      "Accuracy of logistic regression classifier on test set: 0.88\n"
     ]
    },
    {
     "name": "stderr",
     "output_type": "stream",
     "text": [
      "E:\\Anaconda3\\lib\\site-packages\\sklearn\\utils\\validation.py:760: DataConversionWarning: A column-vector y was passed when a 1d array was expected. Please change the shape of y to (n_samples, ), for example using ravel().\n",
      "  y = column_or_1d(y, warn=True)\n"
     ]
    }
   ],
   "source": [
    "logreg = LogisticRegression()\n",
    "\n",
    "logreg.fit(X_train, y_train)\n",
    "\n",
    "y_pred = logreg.predict(X_test[cols])\n",
    "print('Accuracy of logistic regression classifier on test set: {:.2f}'.format(logreg.score(X_test[cols], y_test)))"
   ]
  },
  {
   "cell_type": "code",
   "execution_count": 69,
   "metadata": {},
   "outputs": [
    {
     "name": "stdout",
     "output_type": "stream",
     "text": [
      "[[2851    0]\n",
      " [ 385    0]]\n"
     ]
    }
   ],
   "source": [
    "from sklearn.metrics import confusion_matrix\n",
    "confusion_matrix = confusion_matrix(y_test, y_pred)\n",
    "print(confusion_matrix)"
   ]
  }
 ],
 "metadata": {
  "kernelspec": {
   "display_name": "Python 3",
   "language": "python",
   "name": "python3"
  },
  "language_info": {
   "codemirror_mode": {
    "name": "ipython",
    "version": 3
   },
   "file_extension": ".py",
   "mimetype": "text/x-python",
   "name": "python",
   "nbconvert_exporter": "python",
   "pygments_lexer": "ipython3",
   "version": "3.7.3"
  }
 },
 "nbformat": 4,
 "nbformat_minor": 2
}
