{
 "cells": [
  {
   "cell_type": "code",
   "execution_count": 1,
   "metadata": {},
   "outputs": [
    {
     "name": "stderr",
     "output_type": "stream",
     "text": [
      "E:\\Anaconda3\\lib\\site-packages\\statsmodels\\tools\\_testing.py:19: FutureWarning: pandas.util.testing is deprecated. Use the functions in the public API at pandas.testing instead.\n",
      "  import pandas.util.testing as tm\n"
     ]
    }
   ],
   "source": [
    "import os\n",
    "import pandas as pd\n",
    "import seaborn as sns\n",
    "import matplotlib.pyplot as plt\n",
    "from matplotlib.gridspec import GridSpec\n",
    "import numpy as np\n",
    "import scipy.stats as stats"
   ]
  },
  {
   "cell_type": "code",
   "execution_count": 2,
   "metadata": {},
   "outputs": [],
   "source": [
    "#get covid test result\n",
    "df_covid=pd.read_table('../NSinternship/covid19_result_0806.by_eid')"
   ]
  },
  {
   "cell_type": "code",
   "execution_count": 3,
   "metadata": {},
   "outputs": [],
   "source": [
    "#get all eids with covid positive test\n",
    "eid_positive=list(df_covid['eid'][df_covid['final_result']==1])"
   ]
  },
  {
   "cell_type": "code",
   "execution_count": 4,
   "metadata": {},
   "outputs": [],
   "source": [
    "data = pd.read_csv(\"../NSinternship/Covid_information_20-08-18.csv\")"
   ]
  },
  {
   "cell_type": "markdown",
   "metadata": {},
   "source": [
    "### Data Field 31: Sex"
   ]
  },
  {
   "cell_type": "code",
   "execution_count": 5,
   "metadata": {},
   "outputs": [
    {
     "data": {
      "text/html": [
       "<div>\n",
       "<style scoped>\n",
       "    .dataframe tbody tr th:only-of-type {\n",
       "        vertical-align: middle;\n",
       "    }\n",
       "\n",
       "    .dataframe tbody tr th {\n",
       "        vertical-align: top;\n",
       "    }\n",
       "\n",
       "    .dataframe thead th {\n",
       "        text-align: right;\n",
       "    }\n",
       "</style>\n",
       "<table border=\"1\" class=\"dataframe\">\n",
       "  <thead>\n",
       "    <tr style=\"text-align: right;\">\n",
       "      <th></th>\n",
       "      <th>eid</th>\n",
       "      <th>Sex</th>\n",
       "    </tr>\n",
       "  </thead>\n",
       "  <tbody>\n",
       "    <tr>\n",
       "      <th>0</th>\n",
       "      <td>1000011</td>\n",
       "      <td>0</td>\n",
       "    </tr>\n",
       "    <tr>\n",
       "      <th>1</th>\n",
       "      <td>1001244</td>\n",
       "      <td>1</td>\n",
       "    </tr>\n",
       "    <tr>\n",
       "      <th>2</th>\n",
       "      <td>1001283</td>\n",
       "      <td>1</td>\n",
       "    </tr>\n",
       "    <tr>\n",
       "      <th>3</th>\n",
       "      <td>1001505</td>\n",
       "      <td>1</td>\n",
       "    </tr>\n",
       "    <tr>\n",
       "      <th>4</th>\n",
       "      <td>1001772</td>\n",
       "      <td>1</td>\n",
       "    </tr>\n",
       "  </tbody>\n",
       "</table>\n",
       "</div>"
      ],
      "text/plain": [
       "       eid  Sex\n",
       "0  1000011    0\n",
       "1  1001244    1\n",
       "2  1001283    1\n",
       "3  1001505    1\n",
       "4  1001772    1"
      ]
     },
     "execution_count": 5,
     "metadata": {},
     "output_type": "execute_result"
    }
   ],
   "source": [
    "sex = data[['eid','31-0.0']]\n",
    "sex = sex.rename(columns = {'31-0.0': 'Sex'}, inplace = False)\n",
    "sex.head()"
   ]
  },
  {
   "cell_type": "markdown",
   "metadata": {},
   "source": [
    "### Data Field 34: Age"
   ]
  },
  {
   "cell_type": "code",
   "execution_count": 6,
   "metadata": {},
   "outputs": [],
   "source": [
    "bday = data[['eid','34-0.0', '52-0.0']]\n",
    "bday = bday.rename(columns = {'34-0.0': 'Year', '52-0.0': 'Month'}, inplace = False)\n",
    "bday['Date'] = pd.to_datetime(bday[['Year', 'Month']].assign(DAY=1))\n"
   ]
  },
  {
   "cell_type": "code",
   "execution_count": 7,
   "metadata": {},
   "outputs": [
    {
     "data": {
      "text/html": [
       "<div>\n",
       "<style scoped>\n",
       "    .dataframe tbody tr th:only-of-type {\n",
       "        vertical-align: middle;\n",
       "    }\n",
       "\n",
       "    .dataframe tbody tr th {\n",
       "        vertical-align: top;\n",
       "    }\n",
       "\n",
       "    .dataframe thead th {\n",
       "        text-align: right;\n",
       "    }\n",
       "</style>\n",
       "<table border=\"1\" class=\"dataframe\">\n",
       "  <thead>\n",
       "    <tr style=\"text-align: right;\">\n",
       "      <th></th>\n",
       "      <th>eid</th>\n",
       "      <th>Year</th>\n",
       "      <th>Month</th>\n",
       "      <th>Date</th>\n",
       "      <th>Age</th>\n",
       "    </tr>\n",
       "  </thead>\n",
       "  <tbody>\n",
       "    <tr>\n",
       "      <th>0</th>\n",
       "      <td>1000011</td>\n",
       "      <td>1953</td>\n",
       "      <td>8</td>\n",
       "      <td>1953-08-01</td>\n",
       "      <td>67</td>\n",
       "    </tr>\n",
       "    <tr>\n",
       "      <th>1</th>\n",
       "      <td>1001244</td>\n",
       "      <td>1940</td>\n",
       "      <td>1</td>\n",
       "      <td>1940-01-01</td>\n",
       "      <td>80</td>\n",
       "    </tr>\n",
       "    <tr>\n",
       "      <th>2</th>\n",
       "      <td>1001283</td>\n",
       "      <td>1943</td>\n",
       "      <td>10</td>\n",
       "      <td>1943-10-01</td>\n",
       "      <td>77</td>\n",
       "    </tr>\n",
       "    <tr>\n",
       "      <th>3</th>\n",
       "      <td>1001505</td>\n",
       "      <td>1952</td>\n",
       "      <td>5</td>\n",
       "      <td>1952-05-01</td>\n",
       "      <td>68</td>\n",
       "    </tr>\n",
       "    <tr>\n",
       "      <th>4</th>\n",
       "      <td>1001772</td>\n",
       "      <td>1966</td>\n",
       "      <td>9</td>\n",
       "      <td>1966-09-01</td>\n",
       "      <td>54</td>\n",
       "    </tr>\n",
       "  </tbody>\n",
       "</table>\n",
       "</div>"
      ],
      "text/plain": [
       "       eid  Year  Month        Date  Age\n",
       "0  1000011  1953      8  1953-08-01   67\n",
       "1  1001244  1940      1  1940-01-01   80\n",
       "2  1001283  1943     10  1943-10-01   77\n",
       "3  1001505  1952      5  1952-05-01   68\n",
       "4  1001772  1966      9  1966-09-01   54"
      ]
     },
     "execution_count": 7,
     "metadata": {},
     "output_type": "execute_result"
    }
   ],
   "source": [
    "from datetime import datetime\n",
    "from datetime import date\n",
    "\n",
    "def calculate_age(birth):\n",
    "    birth = datetime.strptime(birth, \"%Y-%m-%d\").date()\n",
    "    today = date.today()\n",
    "    if birth.month > today.month:\n",
    "        age = today.year - birth.year - 1\n",
    "    else: \n",
    "        age = today.year - birth.year\n",
    "    return age\n",
    "\n",
    "bday['Date'] = bday.Date.dt.strftime(\"%Y-%m-%d\")\n",
    "bday['Age'] = bday['Date'].apply(calculate_age)\n",
    "bday.head()"
   ]
  },
  {
   "cell_type": "markdown",
   "metadata": {},
   "source": [
    "### Data Field 21001: Body mass index (BMI)"
   ]
  },
  {
   "cell_type": "code",
   "execution_count": 8,
   "metadata": {},
   "outputs": [
    {
     "data": {
      "text/plain": [
       "['eid', '21001-0.0', '21001-1.0', '21001-2.0', '21001-3.0']"
      ]
     },
     "execution_count": 8,
     "metadata": {},
     "output_type": "execute_result"
    }
   ],
   "source": [
    "filter_col21001 = [col for col in data if col.startswith('21001')]\n",
    "filter_col21001.insert(0, 'eid')\n",
    "filter_col21001"
   ]
  },
  {
   "cell_type": "code",
   "execution_count": 9,
   "metadata": {},
   "outputs": [
    {
     "data": {
      "text/html": [
       "<div>\n",
       "<style scoped>\n",
       "    .dataframe tbody tr th:only-of-type {\n",
       "        vertical-align: middle;\n",
       "    }\n",
       "\n",
       "    .dataframe tbody tr th {\n",
       "        vertical-align: top;\n",
       "    }\n",
       "\n",
       "    .dataframe thead th {\n",
       "        text-align: right;\n",
       "    }\n",
       "</style>\n",
       "<table border=\"1\" class=\"dataframe\">\n",
       "  <thead>\n",
       "    <tr style=\"text-align: right;\">\n",
       "      <th></th>\n",
       "      <th>eid</th>\n",
       "      <th>Instance 0</th>\n",
       "      <th>Instance 1</th>\n",
       "      <th>Instance 2</th>\n",
       "      <th>Instance 3</th>\n",
       "    </tr>\n",
       "  </thead>\n",
       "  <tbody>\n",
       "    <tr>\n",
       "      <th>0</th>\n",
       "      <td>1000011</td>\n",
       "      <td>27.7381</td>\n",
       "      <td>NaN</td>\n",
       "      <td>NaN</td>\n",
       "      <td>NaN</td>\n",
       "    </tr>\n",
       "    <tr>\n",
       "      <th>1</th>\n",
       "      <td>1001244</td>\n",
       "      <td>24.8356</td>\n",
       "      <td>NaN</td>\n",
       "      <td>NaN</td>\n",
       "      <td>NaN</td>\n",
       "    </tr>\n",
       "    <tr>\n",
       "      <th>2</th>\n",
       "      <td>1001283</td>\n",
       "      <td>32.3028</td>\n",
       "      <td>NaN</td>\n",
       "      <td>NaN</td>\n",
       "      <td>NaN</td>\n",
       "    </tr>\n",
       "    <tr>\n",
       "      <th>3</th>\n",
       "      <td>1001505</td>\n",
       "      <td>28.4485</td>\n",
       "      <td>NaN</td>\n",
       "      <td>NaN</td>\n",
       "      <td>NaN</td>\n",
       "    </tr>\n",
       "    <tr>\n",
       "      <th>4</th>\n",
       "      <td>1001772</td>\n",
       "      <td>27.2527</td>\n",
       "      <td>NaN</td>\n",
       "      <td>28.2183</td>\n",
       "      <td>NaN</td>\n",
       "    </tr>\n",
       "  </tbody>\n",
       "</table>\n",
       "</div>"
      ],
      "text/plain": [
       "       eid  Instance 0  Instance 1  Instance 2  Instance 3\n",
       "0  1000011     27.7381         NaN         NaN         NaN\n",
       "1  1001244     24.8356         NaN         NaN         NaN\n",
       "2  1001283     32.3028         NaN         NaN         NaN\n",
       "3  1001505     28.4485         NaN         NaN         NaN\n",
       "4  1001772     27.2527         NaN     28.2183         NaN"
      ]
     },
     "execution_count": 9,
     "metadata": {},
     "output_type": "execute_result"
    }
   ],
   "source": [
    "bmi = data[filter_col21001]\n",
    "bmi = bmi.rename(columns = {'21001-0.0': 'Instance 0', '21001-1.0': 'Instance 1', '21001-2.0' : 'Instance 2', '21001-3.0' : 'Instance 3'}, inplace = False)\n",
    "bmi.head()"
   ]
  },
  {
   "cell_type": "markdown",
   "metadata": {},
   "source": [
    "### Change age and bmi to categorical data"
   ]
  },
  {
   "cell_type": "code",
   "execution_count": 10,
   "metadata": {},
   "outputs": [
    {
     "data": {
      "text/html": [
       "<div>\n",
       "<style scoped>\n",
       "    .dataframe tbody tr th:only-of-type {\n",
       "        vertical-align: middle;\n",
       "    }\n",
       "\n",
       "    .dataframe tbody tr th {\n",
       "        vertical-align: top;\n",
       "    }\n",
       "\n",
       "    .dataframe thead th {\n",
       "        text-align: right;\n",
       "    }\n",
       "</style>\n",
       "<table border=\"1\" class=\"dataframe\">\n",
       "  <thead>\n",
       "    <tr style=\"text-align: right;\">\n",
       "      <th></th>\n",
       "      <th>eid</th>\n",
       "      <th>Year</th>\n",
       "      <th>Month</th>\n",
       "      <th>Date</th>\n",
       "      <th>Age</th>\n",
       "      <th>Age Category</th>\n",
       "    </tr>\n",
       "  </thead>\n",
       "  <tbody>\n",
       "    <tr>\n",
       "      <th>0</th>\n",
       "      <td>1000011</td>\n",
       "      <td>1953</td>\n",
       "      <td>8</td>\n",
       "      <td>1953-08-01</td>\n",
       "      <td>67</td>\n",
       "      <td>1</td>\n",
       "    </tr>\n",
       "    <tr>\n",
       "      <th>1</th>\n",
       "      <td>1001244</td>\n",
       "      <td>1940</td>\n",
       "      <td>1</td>\n",
       "      <td>1940-01-01</td>\n",
       "      <td>80</td>\n",
       "      <td>2</td>\n",
       "    </tr>\n",
       "    <tr>\n",
       "      <th>2</th>\n",
       "      <td>1001283</td>\n",
       "      <td>1943</td>\n",
       "      <td>10</td>\n",
       "      <td>1943-10-01</td>\n",
       "      <td>77</td>\n",
       "      <td>2</td>\n",
       "    </tr>\n",
       "    <tr>\n",
       "      <th>3</th>\n",
       "      <td>1001505</td>\n",
       "      <td>1952</td>\n",
       "      <td>5</td>\n",
       "      <td>1952-05-01</td>\n",
       "      <td>68</td>\n",
       "      <td>1</td>\n",
       "    </tr>\n",
       "    <tr>\n",
       "      <th>4</th>\n",
       "      <td>1001772</td>\n",
       "      <td>1966</td>\n",
       "      <td>9</td>\n",
       "      <td>1966-09-01</td>\n",
       "      <td>54</td>\n",
       "      <td>0</td>\n",
       "    </tr>\n",
       "  </tbody>\n",
       "</table>\n",
       "</div>"
      ],
      "text/plain": [
       "       eid  Year  Month        Date  Age Age Category\n",
       "0  1000011  1953      8  1953-08-01   67            1\n",
       "1  1001244  1940      1  1940-01-01   80            2\n",
       "2  1001283  1943     10  1943-10-01   77            2\n",
       "3  1001505  1952      5  1952-05-01   68            1\n",
       "4  1001772  1966      9  1966-09-01   54            0"
      ]
     },
     "execution_count": 10,
     "metadata": {},
     "output_type": "execute_result"
    }
   ],
   "source": [
    "age_categorical = pd.cut(bday.Age,bins=[0,60,70,200],labels=['0','1','2'])\n",
    "bday.insert(5,'Age Category',age_categorical)\n",
    "bday.head()"
   ]
  },
  {
   "cell_type": "code",
   "execution_count": 11,
   "metadata": {},
   "outputs": [
    {
     "data": {
      "text/html": [
       "<div>\n",
       "<style scoped>\n",
       "    .dataframe tbody tr th:only-of-type {\n",
       "        vertical-align: middle;\n",
       "    }\n",
       "\n",
       "    .dataframe tbody tr th {\n",
       "        vertical-align: top;\n",
       "    }\n",
       "\n",
       "    .dataframe thead th {\n",
       "        text-align: right;\n",
       "    }\n",
       "</style>\n",
       "<table border=\"1\" class=\"dataframe\">\n",
       "  <thead>\n",
       "    <tr style=\"text-align: right;\">\n",
       "      <th></th>\n",
       "      <th>eid</th>\n",
       "      <th>Instance 0</th>\n",
       "      <th>Instance 1</th>\n",
       "      <th>Instance 2</th>\n",
       "      <th>Instance 3</th>\n",
       "      <th>BMI Category</th>\n",
       "    </tr>\n",
       "  </thead>\n",
       "  <tbody>\n",
       "    <tr>\n",
       "      <th>0</th>\n",
       "      <td>1000011</td>\n",
       "      <td>27.7381</td>\n",
       "      <td>NaN</td>\n",
       "      <td>NaN</td>\n",
       "      <td>NaN</td>\n",
       "      <td>2</td>\n",
       "    </tr>\n",
       "    <tr>\n",
       "      <th>1</th>\n",
       "      <td>1001244</td>\n",
       "      <td>24.8356</td>\n",
       "      <td>NaN</td>\n",
       "      <td>NaN</td>\n",
       "      <td>NaN</td>\n",
       "      <td>1</td>\n",
       "    </tr>\n",
       "    <tr>\n",
       "      <th>2</th>\n",
       "      <td>1001283</td>\n",
       "      <td>32.3028</td>\n",
       "      <td>NaN</td>\n",
       "      <td>NaN</td>\n",
       "      <td>NaN</td>\n",
       "      <td>3</td>\n",
       "    </tr>\n",
       "    <tr>\n",
       "      <th>3</th>\n",
       "      <td>1001505</td>\n",
       "      <td>28.4485</td>\n",
       "      <td>NaN</td>\n",
       "      <td>NaN</td>\n",
       "      <td>NaN</td>\n",
       "      <td>2</td>\n",
       "    </tr>\n",
       "    <tr>\n",
       "      <th>4</th>\n",
       "      <td>1001772</td>\n",
       "      <td>27.2527</td>\n",
       "      <td>NaN</td>\n",
       "      <td>28.2183</td>\n",
       "      <td>NaN</td>\n",
       "      <td>2</td>\n",
       "    </tr>\n",
       "  </tbody>\n",
       "</table>\n",
       "</div>"
      ],
      "text/plain": [
       "       eid  Instance 0  Instance 1  Instance 2  Instance 3 BMI Category\n",
       "0  1000011     27.7381         NaN         NaN         NaN            2\n",
       "1  1001244     24.8356         NaN         NaN         NaN            1\n",
       "2  1001283     32.3028         NaN         NaN         NaN            3\n",
       "3  1001505     28.4485         NaN         NaN         NaN            2\n",
       "4  1001772     27.2527         NaN     28.2183         NaN            2"
      ]
     },
     "execution_count": 11,
     "metadata": {},
     "output_type": "execute_result"
    }
   ],
   "source": [
    "bmi_categorical = pd.cut(bmi['Instance 0'],bins=[0,18.5,25,30,100],labels=['0','1','2','3'])\n",
    "bmi.insert(5,'BMI Category',bmi_categorical)\n",
    "bmi.head()"
   ]
  },
  {
   "cell_type": "markdown",
   "metadata": {},
   "source": [
    "## Create a new dataframe"
   ]
  },
  {
   "cell_type": "code",
   "execution_count": 12,
   "metadata": {},
   "outputs": [
    {
     "data": {
      "text/html": [
       "<div>\n",
       "<style scoped>\n",
       "    .dataframe tbody tr th:only-of-type {\n",
       "        vertical-align: middle;\n",
       "    }\n",
       "\n",
       "    .dataframe tbody tr th {\n",
       "        vertical-align: top;\n",
       "    }\n",
       "\n",
       "    .dataframe thead th {\n",
       "        text-align: right;\n",
       "    }\n",
       "</style>\n",
       "<table border=\"1\" class=\"dataframe\">\n",
       "  <thead>\n",
       "    <tr style=\"text-align: right;\">\n",
       "      <th></th>\n",
       "      <th>eid</th>\n",
       "      <th>final_result</th>\n",
       "      <th>PC1</th>\n",
       "      <th>PC2</th>\n",
       "      <th>PC3</th>\n",
       "      <th>PC4</th>\n",
       "      <th>PC5</th>\n",
       "      <th>PC6</th>\n",
       "      <th>PC7</th>\n",
       "      <th>PC8</th>\n",
       "      <th>PC9</th>\n",
       "      <th>PC10</th>\n",
       "    </tr>\n",
       "  </thead>\n",
       "  <tbody>\n",
       "    <tr>\n",
       "      <th>0</th>\n",
       "      <td>1000011</td>\n",
       "      <td>0</td>\n",
       "      <td>-0.000460</td>\n",
       "      <td>9.130000e-05</td>\n",
       "      <td>0.000111</td>\n",
       "      <td>-0.000023</td>\n",
       "      <td>0.000104</td>\n",
       "      <td>0.001784</td>\n",
       "      <td>0.000110</td>\n",
       "      <td>-0.001241</td>\n",
       "      <td>-0.003532</td>\n",
       "      <td>0.000406</td>\n",
       "    </tr>\n",
       "    <tr>\n",
       "      <th>1</th>\n",
       "      <td>1001244</td>\n",
       "      <td>0</td>\n",
       "      <td>-0.000431</td>\n",
       "      <td>-3.440000e-05</td>\n",
       "      <td>-0.000792</td>\n",
       "      <td>0.000533</td>\n",
       "      <td>0.001861</td>\n",
       "      <td>-0.000710</td>\n",
       "      <td>0.002938</td>\n",
       "      <td>-0.001525</td>\n",
       "      <td>0.001573</td>\n",
       "      <td>0.000330</td>\n",
       "    </tr>\n",
       "    <tr>\n",
       "      <th>2</th>\n",
       "      <td>1001283</td>\n",
       "      <td>0</td>\n",
       "      <td>-0.000110</td>\n",
       "      <td>9.970000e-07</td>\n",
       "      <td>0.000362</td>\n",
       "      <td>-0.000072</td>\n",
       "      <td>0.000906</td>\n",
       "      <td>0.000183</td>\n",
       "      <td>0.000510</td>\n",
       "      <td>0.001085</td>\n",
       "      <td>-0.001360</td>\n",
       "      <td>0.001036</td>\n",
       "    </tr>\n",
       "    <tr>\n",
       "      <th>3</th>\n",
       "      <td>1001505</td>\n",
       "      <td>0</td>\n",
       "      <td>-0.000268</td>\n",
       "      <td>-7.100000e-05</td>\n",
       "      <td>-0.000457</td>\n",
       "      <td>0.000318</td>\n",
       "      <td>0.000469</td>\n",
       "      <td>-0.000122</td>\n",
       "      <td>-0.000798</td>\n",
       "      <td>0.001494</td>\n",
       "      <td>0.000688</td>\n",
       "      <td>0.000965</td>\n",
       "    </tr>\n",
       "    <tr>\n",
       "      <th>4</th>\n",
       "      <td>1001772</td>\n",
       "      <td>0</td>\n",
       "      <td>-0.000470</td>\n",
       "      <td>7.472130e-04</td>\n",
       "      <td>-0.000736</td>\n",
       "      <td>0.000352</td>\n",
       "      <td>0.000942</td>\n",
       "      <td>-0.002007</td>\n",
       "      <td>0.001409</td>\n",
       "      <td>0.000369</td>\n",
       "      <td>0.001630</td>\n",
       "      <td>-0.000737</td>\n",
       "    </tr>\n",
       "  </tbody>\n",
       "</table>\n",
       "</div>"
      ],
      "text/plain": [
       "       eid  final_result       PC1           PC2       PC3       PC4  \\\n",
       "0  1000011             0 -0.000460  9.130000e-05  0.000111 -0.000023   \n",
       "1  1001244             0 -0.000431 -3.440000e-05 -0.000792  0.000533   \n",
       "2  1001283             0 -0.000110  9.970000e-07  0.000362 -0.000072   \n",
       "3  1001505             0 -0.000268 -7.100000e-05 -0.000457  0.000318   \n",
       "4  1001772             0 -0.000470  7.472130e-04 -0.000736  0.000352   \n",
       "\n",
       "        PC5       PC6       PC7       PC8       PC9      PC10  \n",
       "0  0.000104  0.001784  0.000110 -0.001241 -0.003532  0.000406  \n",
       "1  0.001861 -0.000710  0.002938 -0.001525  0.001573  0.000330  \n",
       "2  0.000906  0.000183  0.000510  0.001085 -0.001360  0.001036  \n",
       "3  0.000469 -0.000122 -0.000798  0.001494  0.000688  0.000965  \n",
       "4  0.000942 -0.002007  0.001409  0.000369  0.001630 -0.000737  "
      ]
     },
     "execution_count": 12,
     "metadata": {},
     "output_type": "execute_result"
    }
   ],
   "source": [
    "df = pd.read_csv(\"../NSinternship/Covid_result_with_PCA.txt\", sep = '\\t')\n",
    "df.head()"
   ]
  },
  {
   "cell_type": "code",
   "execution_count": 13,
   "metadata": {},
   "outputs": [],
   "source": [
    "df = df.merge(sex, left_on='eid', right_on='eid')\n",
    "df = df.merge(bday, left_on='eid', right_on='eid').drop(['Year', 'Month', 'Date', 'Age'], axis=1)\n",
    "df = df.merge(bmi, left_on='eid', right_on='eid').drop(['Instance 0', 'Instance 1', 'Instance 2', 'Instance 3'], axis=1)\n",
    "df = df.set_index('eid')"
   ]
  },
  {
   "cell_type": "markdown",
   "metadata": {},
   "source": [
    "### To dummies"
   ]
  },
  {
   "cell_type": "code",
   "execution_count": 15,
   "metadata": {},
   "outputs": [
    {
     "data": {
      "text/html": [
       "<div>\n",
       "<style scoped>\n",
       "    .dataframe tbody tr th:only-of-type {\n",
       "        vertical-align: middle;\n",
       "    }\n",
       "\n",
       "    .dataframe tbody tr th {\n",
       "        vertical-align: top;\n",
       "    }\n",
       "\n",
       "    .dataframe thead th {\n",
       "        text-align: right;\n",
       "    }\n",
       "</style>\n",
       "<table border=\"1\" class=\"dataframe\">\n",
       "  <thead>\n",
       "    <tr style=\"text-align: right;\">\n",
       "      <th></th>\n",
       "      <th>final_result</th>\n",
       "      <th>PC1</th>\n",
       "      <th>PC2</th>\n",
       "      <th>PC3</th>\n",
       "      <th>PC4</th>\n",
       "      <th>PC5</th>\n",
       "      <th>PC6</th>\n",
       "      <th>PC7</th>\n",
       "      <th>PC8</th>\n",
       "      <th>PC9</th>\n",
       "      <th>PC10</th>\n",
       "      <th>Sex</th>\n",
       "      <th>Age Category_0</th>\n",
       "      <th>Age Category_1</th>\n",
       "      <th>Age Category_2</th>\n",
       "      <th>BMI Category_0</th>\n",
       "      <th>BMI Category_1</th>\n",
       "      <th>BMI Category_2</th>\n",
       "      <th>BMI Category_3</th>\n",
       "    </tr>\n",
       "    <tr>\n",
       "      <th>eid</th>\n",
       "      <th></th>\n",
       "      <th></th>\n",
       "      <th></th>\n",
       "      <th></th>\n",
       "      <th></th>\n",
       "      <th></th>\n",
       "      <th></th>\n",
       "      <th></th>\n",
       "      <th></th>\n",
       "      <th></th>\n",
       "      <th></th>\n",
       "      <th></th>\n",
       "      <th></th>\n",
       "      <th></th>\n",
       "      <th></th>\n",
       "      <th></th>\n",
       "      <th></th>\n",
       "      <th></th>\n",
       "      <th></th>\n",
       "    </tr>\n",
       "  </thead>\n",
       "  <tbody>\n",
       "    <tr>\n",
       "      <th>1000011</th>\n",
       "      <td>0</td>\n",
       "      <td>-0.000460</td>\n",
       "      <td>9.130000e-05</td>\n",
       "      <td>0.000111</td>\n",
       "      <td>-0.000023</td>\n",
       "      <td>0.000104</td>\n",
       "      <td>0.001784</td>\n",
       "      <td>0.000110</td>\n",
       "      <td>-0.001241</td>\n",
       "      <td>-0.003532</td>\n",
       "      <td>0.000406</td>\n",
       "      <td>0</td>\n",
       "      <td>0</td>\n",
       "      <td>1</td>\n",
       "      <td>0</td>\n",
       "      <td>0</td>\n",
       "      <td>0</td>\n",
       "      <td>1</td>\n",
       "      <td>0</td>\n",
       "    </tr>\n",
       "    <tr>\n",
       "      <th>1001244</th>\n",
       "      <td>0</td>\n",
       "      <td>-0.000431</td>\n",
       "      <td>-3.440000e-05</td>\n",
       "      <td>-0.000792</td>\n",
       "      <td>0.000533</td>\n",
       "      <td>0.001861</td>\n",
       "      <td>-0.000710</td>\n",
       "      <td>0.002938</td>\n",
       "      <td>-0.001525</td>\n",
       "      <td>0.001573</td>\n",
       "      <td>0.000330</td>\n",
       "      <td>1</td>\n",
       "      <td>0</td>\n",
       "      <td>0</td>\n",
       "      <td>1</td>\n",
       "      <td>0</td>\n",
       "      <td>1</td>\n",
       "      <td>0</td>\n",
       "      <td>0</td>\n",
       "    </tr>\n",
       "    <tr>\n",
       "      <th>1001283</th>\n",
       "      <td>0</td>\n",
       "      <td>-0.000110</td>\n",
       "      <td>9.970000e-07</td>\n",
       "      <td>0.000362</td>\n",
       "      <td>-0.000072</td>\n",
       "      <td>0.000906</td>\n",
       "      <td>0.000183</td>\n",
       "      <td>0.000510</td>\n",
       "      <td>0.001085</td>\n",
       "      <td>-0.001360</td>\n",
       "      <td>0.001036</td>\n",
       "      <td>1</td>\n",
       "      <td>0</td>\n",
       "      <td>0</td>\n",
       "      <td>1</td>\n",
       "      <td>0</td>\n",
       "      <td>0</td>\n",
       "      <td>0</td>\n",
       "      <td>1</td>\n",
       "    </tr>\n",
       "    <tr>\n",
       "      <th>1001505</th>\n",
       "      <td>0</td>\n",
       "      <td>-0.000268</td>\n",
       "      <td>-7.100000e-05</td>\n",
       "      <td>-0.000457</td>\n",
       "      <td>0.000318</td>\n",
       "      <td>0.000469</td>\n",
       "      <td>-0.000122</td>\n",
       "      <td>-0.000798</td>\n",
       "      <td>0.001494</td>\n",
       "      <td>0.000688</td>\n",
       "      <td>0.000965</td>\n",
       "      <td>1</td>\n",
       "      <td>0</td>\n",
       "      <td>1</td>\n",
       "      <td>0</td>\n",
       "      <td>0</td>\n",
       "      <td>0</td>\n",
       "      <td>1</td>\n",
       "      <td>0</td>\n",
       "    </tr>\n",
       "    <tr>\n",
       "      <th>1001772</th>\n",
       "      <td>0</td>\n",
       "      <td>-0.000470</td>\n",
       "      <td>7.472130e-04</td>\n",
       "      <td>-0.000736</td>\n",
       "      <td>0.000352</td>\n",
       "      <td>0.000942</td>\n",
       "      <td>-0.002007</td>\n",
       "      <td>0.001409</td>\n",
       "      <td>0.000369</td>\n",
       "      <td>0.001630</td>\n",
       "      <td>-0.000737</td>\n",
       "      <td>1</td>\n",
       "      <td>1</td>\n",
       "      <td>0</td>\n",
       "      <td>0</td>\n",
       "      <td>0</td>\n",
       "      <td>0</td>\n",
       "      <td>1</td>\n",
       "      <td>0</td>\n",
       "    </tr>\n",
       "  </tbody>\n",
       "</table>\n",
       "</div>"
      ],
      "text/plain": [
       "         final_result       PC1           PC2       PC3       PC4       PC5  \\\n",
       "eid                                                                           \n",
       "1000011             0 -0.000460  9.130000e-05  0.000111 -0.000023  0.000104   \n",
       "1001244             0 -0.000431 -3.440000e-05 -0.000792  0.000533  0.001861   \n",
       "1001283             0 -0.000110  9.970000e-07  0.000362 -0.000072  0.000906   \n",
       "1001505             0 -0.000268 -7.100000e-05 -0.000457  0.000318  0.000469   \n",
       "1001772             0 -0.000470  7.472130e-04 -0.000736  0.000352  0.000942   \n",
       "\n",
       "              PC6       PC7       PC8       PC9      PC10  Sex  \\\n",
       "eid                                                              \n",
       "1000011  0.001784  0.000110 -0.001241 -0.003532  0.000406    0   \n",
       "1001244 -0.000710  0.002938 -0.001525  0.001573  0.000330    1   \n",
       "1001283  0.000183  0.000510  0.001085 -0.001360  0.001036    1   \n",
       "1001505 -0.000122 -0.000798  0.001494  0.000688  0.000965    1   \n",
       "1001772 -0.002007  0.001409  0.000369  0.001630 -0.000737    1   \n",
       "\n",
       "         Age Category_0  Age Category_1  Age Category_2  BMI Category_0  \\\n",
       "eid                                                                       \n",
       "1000011               0               1               0               0   \n",
       "1001244               0               0               1               0   \n",
       "1001283               0               0               1               0   \n",
       "1001505               0               1               0               0   \n",
       "1001772               1               0               0               0   \n",
       "\n",
       "         BMI Category_1  BMI Category_2  BMI Category_3  \n",
       "eid                                                      \n",
       "1000011               0               1               0  \n",
       "1001244               1               0               0  \n",
       "1001283               0               0               1  \n",
       "1001505               0               1               0  \n",
       "1001772               0               1               0  "
      ]
     },
     "execution_count": 15,
     "metadata": {},
     "output_type": "execute_result"
    }
   ],
   "source": [
    "df = pd.get_dummies(df, columns = ['Age Category', 'BMI Category'])\n",
    "df.head()"
   ]
  },
  {
   "cell_type": "markdown",
   "metadata": {},
   "source": [
    "### Take a look in our data"
   ]
  },
  {
   "cell_type": "code",
   "execution_count": 16,
   "metadata": {},
   "outputs": [
    {
     "data": {
      "text/plain": [
       "<matplotlib.axes._subplots.AxesSubplot at 0x1e456475dd8>"
      ]
     },
     "execution_count": 16,
     "metadata": {},
     "output_type": "execute_result"
    },
    {
     "data": {
      "image/png": "[encoded data removed]",
      "text/plain": [
       "<Figure size 432x288 with 1 Axes>"
      ]
     },
     "metadata": {
      "needs_background": "light"
     },
     "output_type": "display_data"
    }
   ],
   "source": [
    "df['final_result'].value_counts().plot(kind='bar')"
   ]
  },
  {
   "cell_type": "markdown",
   "metadata": {},
   "source": [
    "### Drop missing values"
   ]
  },
  {
   "cell_type": "code",
   "execution_count": 17,
   "metadata": {},
   "outputs": [
    {
     "name": "stdout",
     "output_type": "stream",
     "text": [
      "(13034, 19)\n"
     ]
    },
    {
     "data": {
      "text/plain": [
       "(13034, 19)"
      ]
     },
     "execution_count": 17,
     "metadata": {},
     "output_type": "execute_result"
    }
   ],
   "source": [
    "print(df.shape)\n",
    "df = df.dropna()\n",
    "df.shape"
   ]
  },
  {
   "cell_type": "markdown",
   "metadata": {},
   "source": [
    "### Split training and testing sets"
   ]
  },
  {
   "cell_type": "code",
   "execution_count": 20,
   "metadata": {},
   "outputs": [
    {
     "data": {
      "text/html": [
       "<div>\n",
       "<style scoped>\n",
       "    .dataframe tbody tr th:only-of-type {\n",
       "        vertical-align: middle;\n",
       "    }\n",
       "\n",
       "    .dataframe tbody tr th {\n",
       "        vertical-align: top;\n",
       "    }\n",
       "\n",
       "    .dataframe thead th {\n",
       "        text-align: right;\n",
       "    }\n",
       "</style>\n",
       "<table border=\"1\" class=\"dataframe\">\n",
       "  <thead>\n",
       "    <tr style=\"text-align: right;\">\n",
       "      <th></th>\n",
       "      <th>final_result</th>\n",
       "      <th>PC1</th>\n",
       "      <th>PC2</th>\n",
       "      <th>PC3</th>\n",
       "      <th>PC4</th>\n",
       "      <th>PC5</th>\n",
       "      <th>PC6</th>\n",
       "      <th>PC7</th>\n",
       "      <th>PC8</th>\n",
       "      <th>PC9</th>\n",
       "      <th>PC10</th>\n",
       "      <th>Sex</th>\n",
       "      <th>Age Category_0</th>\n",
       "      <th>Age Category_1</th>\n",
       "      <th>Age Category_2</th>\n",
       "      <th>BMI Category_0</th>\n",
       "      <th>BMI Category_1</th>\n",
       "      <th>BMI Category_2</th>\n",
       "      <th>BMI Category_3</th>\n",
       "    </tr>\n",
       "    <tr>\n",
       "      <th>eid</th>\n",
       "      <th></th>\n",
       "      <th></th>\n",
       "      <th></th>\n",
       "      <th></th>\n",
       "      <th></th>\n",
       "      <th></th>\n",
       "      <th></th>\n",
       "      <th></th>\n",
       "      <th></th>\n",
       "      <th></th>\n",
       "      <th></th>\n",
       "      <th></th>\n",
       "      <th></th>\n",
       "      <th></th>\n",
       "      <th></th>\n",
       "      <th></th>\n",
       "      <th></th>\n",
       "      <th></th>\n",
       "      <th></th>\n",
       "    </tr>\n",
       "  </thead>\n",
       "  <tbody>\n",
       "    <tr>\n",
       "      <th>1000011</th>\n",
       "      <td>0</td>\n",
       "      <td>-0.000460</td>\n",
       "      <td>9.130000e-05</td>\n",
       "      <td>0.000111</td>\n",
       "      <td>-0.000023</td>\n",
       "      <td>0.000104</td>\n",
       "      <td>0.001784</td>\n",
       "      <td>0.000110</td>\n",
       "      <td>-0.001241</td>\n",
       "      <td>-0.003532</td>\n",
       "      <td>0.000406</td>\n",
       "      <td>0</td>\n",
       "      <td>0</td>\n",
       "      <td>1</td>\n",
       "      <td>0</td>\n",
       "      <td>0</td>\n",
       "      <td>0</td>\n",
       "      <td>1</td>\n",
       "      <td>0</td>\n",
       "    </tr>\n",
       "    <tr>\n",
       "      <th>1001244</th>\n",
       "      <td>0</td>\n",
       "      <td>-0.000431</td>\n",
       "      <td>-3.440000e-05</td>\n",
       "      <td>-0.000792</td>\n",
       "      <td>0.000533</td>\n",
       "      <td>0.001861</td>\n",
       "      <td>-0.000710</td>\n",
       "      <td>0.002938</td>\n",
       "      <td>-0.001525</td>\n",
       "      <td>0.001573</td>\n",
       "      <td>0.000330</td>\n",
       "      <td>1</td>\n",
       "      <td>0</td>\n",
       "      <td>0</td>\n",
       "      <td>1</td>\n",
       "      <td>0</td>\n",
       "      <td>1</td>\n",
       "      <td>0</td>\n",
       "      <td>0</td>\n",
       "    </tr>\n",
       "    <tr>\n",
       "      <th>1001283</th>\n",
       "      <td>0</td>\n",
       "      <td>-0.000110</td>\n",
       "      <td>9.970000e-07</td>\n",
       "      <td>0.000362</td>\n",
       "      <td>-0.000072</td>\n",
       "      <td>0.000906</td>\n",
       "      <td>0.000183</td>\n",
       "      <td>0.000510</td>\n",
       "      <td>0.001085</td>\n",
       "      <td>-0.001360</td>\n",
       "      <td>0.001036</td>\n",
       "      <td>1</td>\n",
       "      <td>0</td>\n",
       "      <td>0</td>\n",
       "      <td>1</td>\n",
       "      <td>0</td>\n",
       "      <td>0</td>\n",
       "      <td>0</td>\n",
       "      <td>1</td>\n",
       "    </tr>\n",
       "    <tr>\n",
       "      <th>1001505</th>\n",
       "      <td>0</td>\n",
       "      <td>-0.000268</td>\n",
       "      <td>-7.100000e-05</td>\n",
       "      <td>-0.000457</td>\n",
       "      <td>0.000318</td>\n",
       "      <td>0.000469</td>\n",
       "      <td>-0.000122</td>\n",
       "      <td>-0.000798</td>\n",
       "      <td>0.001494</td>\n",
       "      <td>0.000688</td>\n",
       "      <td>0.000965</td>\n",
       "      <td>1</td>\n",
       "      <td>0</td>\n",
       "      <td>1</td>\n",
       "      <td>0</td>\n",
       "      <td>0</td>\n",
       "      <td>0</td>\n",
       "      <td>1</td>\n",
       "      <td>0</td>\n",
       "    </tr>\n",
       "    <tr>\n",
       "      <th>1001772</th>\n",
       "      <td>0</td>\n",
       "      <td>-0.000470</td>\n",
       "      <td>7.472130e-04</td>\n",
       "      <td>-0.000736</td>\n",
       "      <td>0.000352</td>\n",
       "      <td>0.000942</td>\n",
       "      <td>-0.002007</td>\n",
       "      <td>0.001409</td>\n",
       "      <td>0.000369</td>\n",
       "      <td>0.001630</td>\n",
       "      <td>-0.000737</td>\n",
       "      <td>1</td>\n",
       "      <td>1</td>\n",
       "      <td>0</td>\n",
       "      <td>0</td>\n",
       "      <td>0</td>\n",
       "      <td>0</td>\n",
       "      <td>1</td>\n",
       "      <td>0</td>\n",
       "    </tr>\n",
       "  </tbody>\n",
       "</table>\n",
       "</div>"
      ],
      "text/plain": [
       "         final_result       PC1           PC2       PC3       PC4       PC5  \\\n",
       "eid                                                                           \n",
       "1000011             0 -0.000460  9.130000e-05  0.000111 -0.000023  0.000104   \n",
       "1001244             0 -0.000431 -3.440000e-05 -0.000792  0.000533  0.001861   \n",
       "1001283             0 -0.000110  9.970000e-07  0.000362 -0.000072  0.000906   \n",
       "1001505             0 -0.000268 -7.100000e-05 -0.000457  0.000318  0.000469   \n",
       "1001772             0 -0.000470  7.472130e-04 -0.000736  0.000352  0.000942   \n",
       "\n",
       "              PC6       PC7       PC8       PC9      PC10  Sex  \\\n",
       "eid                                                              \n",
       "1000011  0.001784  0.000110 -0.001241 -0.003532  0.000406    0   \n",
       "1001244 -0.000710  0.002938 -0.001525  0.001573  0.000330    1   \n",
       "1001283  0.000183  0.000510  0.001085 -0.001360  0.001036    1   \n",
       "1001505 -0.000122 -0.000798  0.001494  0.000688  0.000965    1   \n",
       "1001772 -0.002007  0.001409  0.000369  0.001630 -0.000737    1   \n",
       "\n",
       "         Age Category_0  Age Category_1  Age Category_2  BMI Category_0  \\\n",
       "eid                                                                       \n",
       "1000011               0               1               0               0   \n",
       "1001244               0               0               1               0   \n",
       "1001283               0               0               1               0   \n",
       "1001505               0               1               0               0   \n",
       "1001772               1               0               0               0   \n",
       "\n",
       "         BMI Category_1  BMI Category_2  BMI Category_3  \n",
       "eid                                                      \n",
       "1000011               0               1               0  \n",
       "1001244               1               0               0  \n",
       "1001283               0               0               1  \n",
       "1001505               0               1               0  \n",
       "1001772               0               1               0  "
      ]
     },
     "execution_count": 20,
     "metadata": {},
     "output_type": "execute_result"
    }
   ],
   "source": [
    "from sklearn.model_selection import train_test_split\n",
    "\n",
    "X = df.loc[:, df.columns != 'final_result']\n",
    "y = df.loc[:, df.columns == 'final_result']\n",
    "\n",
    "X_train, X_test, y_train, y_test = train_test_split(X, y, test_size=0.25, random_state=0)\n",
    "\n",
    "df.head()"
   ]
  },
  {
   "cell_type": "markdown",
   "metadata": {},
   "source": [
    "### Resampling data"
   ]
  },
  {
   "cell_type": "code",
   "execution_count": 21,
   "metadata": {
    "scrolled": true
   },
   "outputs": [
    {
     "name": "stderr",
     "output_type": "stream",
     "text": [
      "Using TensorFlow backend.\n",
      "E:\\Anaconda3\\lib\\site-packages\\tensorflow\\python\\framework\\dtypes.py:526: FutureWarning: Passing (type, 1) or '1type' as a synonym of type is deprecated; in a future version of numpy, it will be understood as (type, (1,)) / '(1,)type'.\n",
      "  _np_qint8 = np.dtype([(\"qint8\", np.int8, 1)])\n",
      "E:\\Anaconda3\\lib\\site-packages\\tensorflow\\python\\framework\\dtypes.py:527: FutureWarning: Passing (type, 1) or '1type' as a synonym of type is deprecated; in a future version of numpy, it will be understood as (type, (1,)) / '(1,)type'.\n",
      "  _np_quint8 = np.dtype([(\"quint8\", np.uint8, 1)])\n",
      "E:\\Anaconda3\\lib\\site-packages\\tensorflow\\python\\framework\\dtypes.py:528: FutureWarning: Passing (type, 1) or '1type' as a synonym of type is deprecated; in a future version of numpy, it will be understood as (type, (1,)) / '(1,)type'.\n",
      "  _np_qint16 = np.dtype([(\"qint16\", np.int16, 1)])\n",
      "E:\\Anaconda3\\lib\\site-packages\\tensorflow\\python\\framework\\dtypes.py:529: FutureWarning: Passing (type, 1) or '1type' as a synonym of type is deprecated; in a future version of numpy, it will be understood as (type, (1,)) / '(1,)type'.\n",
      "  _np_quint16 = np.dtype([(\"quint16\", np.uint16, 1)])\n",
      "E:\\Anaconda3\\lib\\site-packages\\tensorflow\\python\\framework\\dtypes.py:530: FutureWarning: Passing (type, 1) or '1type' as a synonym of type is deprecated; in a future version of numpy, it will be understood as (type, (1,)) / '(1,)type'.\n",
      "  _np_qint32 = np.dtype([(\"qint32\", np.int32, 1)])\n",
      "E:\\Anaconda3\\lib\\site-packages\\tensorflow\\python\\framework\\dtypes.py:535: FutureWarning: Passing (type, 1) or '1type' as a synonym of type is deprecated; in a future version of numpy, it will be understood as (type, (1,)) / '(1,)type'.\n",
      "  np_resource = np.dtype([(\"resource\", np.ubyte, 1)])\n"
     ]
    },
    {
     "name": "stdout",
     "output_type": "stream",
     "text": [
      "length of oversampled data is  17144\n",
      "Number of people not infected in oversampled data 8572\n",
      "Number of infected patients 8572\n",
      "Proportion of people not infected in oversampled data is  0.5\n",
      "Proportion of infected patients in oversampled data is  0.5\n"
     ]
    }
   ],
   "source": [
    "from imblearn.over_sampling import SMOTE\n",
    "\n",
    "columns = X_train.columns\n",
    "\n",
    "os = SMOTE(random_state=0)\n",
    "\n",
    "os_data_X,os_data_y=os.fit_sample(X_train, y_train)\n",
    "os_data_X = pd.DataFrame(data=os_data_X,columns=columns)\n",
    "os_data_y= pd.DataFrame(data=os_data_y,columns=['final_result'])\n",
    "\n",
    "\n",
    "print(\"length of oversampled data is \",len(os_data_X))\n",
    "print(\"Number of people not infected in oversampled data\",len(os_data_y[os_data_y['final_result']==0]))\n",
    "print(\"Number of infected patients\",len(os_data_y[os_data_y['final_result']==1]))\n",
    "print(\"Proportion of people not infected in oversampled data is \",len(os_data_y[os_data_y['final_result']==0])/len(os_data_X))\n",
    "print(\"Proportion of infected patients in oversampled data is \",len(os_data_y[os_data_y['final_result']==1])/len(os_data_X))"
   ]
  },
  {
   "cell_type": "markdown",
   "metadata": {},
   "source": [
    "### Perform RFE to select features, keep 10 features for now"
   ]
  },
  {
   "cell_type": "code",
   "execution_count": 28,
   "metadata": {},
   "outputs": [
    {
     "name": "stdout",
     "output_type": "stream",
     "text": [
      "[ True False  True False False False False False False False  True  True\n",
      "  True  True  True  True  True  True]\n",
      "[1 3 1 8 9 4 7 5 2 6 1 1 1 1 1 1 1 1]\n"
     ]
    }
   ],
   "source": [
    "from sklearn.feature_selection import RFE\n",
    "from sklearn.linear_model import LogisticRegression\n",
    "\n",
    "model = LogisticRegression()\n",
    "\n",
    "rfe = RFE(model, 10)\n",
    "rfe = rfe.fit(X_train, y_train.values.ravel())\n",
    "print(rfe.support_)\n",
    "print(rfe.ranking_)"
   ]
  },
  {
   "cell_type": "code",
   "execution_count": 29,
   "metadata": {},
   "outputs": [
    {
     "data": {
      "text/plain": [
       "Index(['PC1', 'PC3', 'Sex', 'Age Category_0', 'Age Category_1',\n",
       "       'Age Category_2', 'BMI Category_0', 'BMI Category_1', 'BMI Category_2',\n",
       "       'BMI Category_3'],\n",
       "      dtype='object')"
      ]
     },
     "execution_count": 29,
     "metadata": {},
     "output_type": "execute_result"
    }
   ],
   "source": [
    "cols = X_train.columns[rfe.support_ == True]\n",
    "cols"
   ]
  },
  {
   "cell_type": "markdown",
   "metadata": {},
   "source": [
    "### Get new training data"
   ]
  },
  {
   "cell_type": "code",
   "execution_count": 35,
   "metadata": {},
   "outputs": [],
   "source": [
    "X_train = os_data_X\n",
    "y_train = os_data_y['final_result']"
   ]
  },
  {
   "cell_type": "code",
   "execution_count": 40,
   "metadata": {},
   "outputs": [
    {
     "name": "stdout",
     "output_type": "stream",
     "text": [
      "Accuracy of logistic regression classifier on test set: 0.66\n"
     ]
    }
   ],
   "source": [
    "from sklearn.metrics import accuracy_score \n",
    "\n",
    "model = LogisticRegression()\n",
    "model.fit(X_train, y_train)\n",
    "y_pred = model.predict(X_test)\n",
    "accuracy = accuracy_score(y_test,y_pred)\n",
    "\n",
    "print('Accuracy of logistic regression classifier on test set: {:.2f}'.format(accuracy))"
   ]
  },
  {
   "cell_type": "code",
   "execution_count": 39,
   "metadata": {},
   "outputs": [
    {
     "name": "stdout",
     "output_type": "stream",
     "text": [
      "[[1984  896]\n",
      " [ 228  151]]\n"
     ]
    }
   ],
   "source": [
    "from sklearn.metrics import confusion_matrix\n",
    "confusion_matrix = confusion_matrix(y_test, y_pred)\n",
    "print(confusion_matrix)"
   ]
  }
 ],
 "metadata": {
  "kernelspec": {
   "display_name": "Python 3",
   "language": "python",
   "name": "python3"
  },
  "language_info": {
   "codemirror_mode": {
    "name": "ipython",
    "version": 3
   },
   "file_extension": ".py",
   "mimetype": "text/x-python",
   "name": "python",
   "nbconvert_exporter": "python",
   "pygments_lexer": "ipython3",
   "version": "3.7.3"
  }
 },
 "nbformat": 4,
 "nbformat_minor": 2
}
